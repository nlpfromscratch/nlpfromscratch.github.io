{
 "cells": [
  {
   "cell_type": "markdown",
   "id": "a29bd84f-dbd8-49b9-92cd-f9f2b9c63a64",
   "metadata": {
    "id": "d6c54d8e"
   },
   "source": [
    "<img src=\"../assets/cover_image_PT6.png\"/>\n",
    "---"
   ]
  },
  {
   "cell_type": "markdown",
   "id": "8c36f26c-4f74-4eca-a0e0-e812dffb4787",
   "metadata": {
    "id": "d6c54d8e"
   },
   "source": [
    "# Case Study in NLP\n",
    "\n",
    "Copyright, NLP from scratch, 2024.\n",
    "\n",
    "[NLPfor.me](https://www.nlpfor.me)\n",
    "\n",
    "------------"
   ]
  },
  {
   "cell_type": "markdown",
   "id": "a89bc555-4c5c-49c2-bee1-e9edea062627",
   "metadata": {},
   "source": [
    "In this notebook, we will work through a case study in NLP. You are working with a client which has a website for reviews of products and services, and the product manager on the business side has come with the following ask:\n",
    "\n",
    "> As we continue to receive an increasing volume of customer feedback on our website, it has become evident that manual categorization of reviews is not only time-consuming but also prone to errors. To improve our efficiency, enhance the overall user experience, and better utilize customer insights, leadership is proposing we develop a machine learning model to automatically categorize reviews into three primary categories: retail, restaurants, and movies, as these make up our largest categories of reviews and searches."
   ]
  },
  {
   "cell_type": "markdown",
   "id": "6aa8a109-4a0c-4808-87f3-162a4daf0434",
   "metadata": {},
   "source": [
    "We will work through developing an MVP for the above business problem. Let's get started!"
   ]
  },
  {
   "cell_type": "markdown",
   "id": "cb5d20f3",
   "metadata": {
    "id": "d2109366"
   },
   "source": [
    "## Data Loading and Exploration\n",
    "\n"
   ]
  },
  {
   "cell_type": "markdown",
   "id": "54998616-ac84-4621-9176-f060bf9adb6c",
   "metadata": {},
   "source": [
    "First we will import the \"holy trinity\" of data science in Python: [numpy](https://numpy.org) for working with numeric data, [pandas](https://pandas.pydata.org/) for working with structured data, and [matplotlib](https://matplotlib.org) for data visualization.\n",
    "\n",
    "For working with processing text data and doing machine learning (with [scikit-learn](https://scikit-learn.org)), we will import the relevant modules and classes as needed."
   ]
  },
  {
   "cell_type": "code",
   "execution_count": 1,
   "id": "13e19005-ca24-4efd-8b2a-e5851a7f5973",
   "metadata": {},
   "outputs": [],
   "source": [
    "# Holy trinity\n",
    "import numpy as np\n",
    "import pandas as pd\n",
    "import matplotlib.pyplot as plt"
   ]
  },
  {
   "cell_type": "markdown",
   "id": "e7be2dfd-1695-436f-a6f6-51b903cfa925",
   "metadata": {},
   "source": [
    "Next we will read in the data we will be working with. To build an MVP model, we will be using a dataset which is a combination of reviews from Amazon.com (for retail products / electronics), Rottentomatoes (for movies), and Yelp (for restaurants). This data is available on the [NLP from scratch datasets github repo](https://github.com/nlpfromscratch/datasets/tree/master/amazon_rt_yelp).\n",
    "\n",
    "We can read the data in directly with `pd.read_csv`, as it can retrieve files directly from a URL! There is no need to download it:"
   ]
  },
  {
   "cell_type": "code",
   "execution_count": 2,
   "id": "a9352e67-9938-472c-b227-933d7f7851bb",
   "metadata": {},
   "outputs": [],
   "source": [
    "df = pd.read_csv('https://raw.githubusercontent.com/nlpfromscratch/datasets/refs/heads/master/amazon_rt_yelp/amazon_rt_yelp.csv')"
   ]
  },
  {
   "cell_type": "markdown",
   "id": "ea613404-ef62-4e66-9b2d-52d069cdc422",
   "metadata": {},
   "source": [
    "Let's take a look at what we are working with:"
   ]
  },
  {
   "cell_type": "code",
   "execution_count": 3,
   "id": "8d98409c-a430-4646-92cb-b0cecce2e6e2",
   "metadata": {},
   "outputs": [
    {
     "data": {
      "text/html": [
       "<div>\n",
       "<style scoped>\n",
       "    .dataframe tbody tr th:only-of-type {\n",
       "        vertical-align: middle;\n",
       "    }\n",
       "\n",
       "    .dataframe tbody tr th {\n",
       "        vertical-align: top;\n",
       "    }\n",
       "\n",
       "    .dataframe thead th {\n",
       "        text-align: right;\n",
       "    }\n",
       "</style>\n",
       "<table border=\"1\" class=\"dataframe\">\n",
       "  <thead>\n",
       "    <tr style=\"text-align: right;\">\n",
       "      <th></th>\n",
       "      <th>text</th>\n",
       "      <th>source</th>\n",
       "    </tr>\n",
       "  </thead>\n",
       "  <tbody>\n",
       "    <tr>\n",
       "      <th>0</th>\n",
       "      <td>I picked up a jar of fresh-made salsa and chip...</td>\n",
       "      <td>yelp</td>\n",
       "    </tr>\n",
       "    <tr>\n",
       "      <th>1</th>\n",
       "      <td>The husband and I had driven by Hula's multipl...</td>\n",
       "      <td>yelp</td>\n",
       "    </tr>\n",
       "    <tr>\n",
       "      <th>2</th>\n",
       "      <td>Had some amazing cuisine at Milagro's. The che...</td>\n",
       "      <td>yelp</td>\n",
       "    </tr>\n",
       "    <tr>\n",
       "      <th>3</th>\n",
       "      <td>Chill coffee bar. That is the best way to desc...</td>\n",
       "      <td>yelp</td>\n",
       "    </tr>\n",
       "    <tr>\n",
       "      <th>4</th>\n",
       "      <td>Fancy  shop with great kitchen items that I wo...</td>\n",
       "      <td>yelp</td>\n",
       "    </tr>\n",
       "  </tbody>\n",
       "</table>\n",
       "</div>"
      ],
      "text/plain": [
       "                                                text source\n",
       "0  I picked up a jar of fresh-made salsa and chip...   yelp\n",
       "1  The husband and I had driven by Hula's multipl...   yelp\n",
       "2  Had some amazing cuisine at Milagro's. The che...   yelp\n",
       "3  Chill coffee bar. That is the best way to desc...   yelp\n",
       "4  Fancy  shop with great kitchen items that I wo...   yelp"
      ]
     },
     "execution_count": 3,
     "metadata": {},
     "output_type": "execute_result"
    }
   ],
   "source": [
    "df.head()"
   ]
  },
  {
   "cell_type": "markdown",
   "id": "c1497c38-a377-4609-b21c-09f3e5e55130",
   "metadata": {},
   "source": [
    "We can see we have two columns, `text`, which has the free-form review text, and a `source` column which appears to have a text description of the source."
   ]
  },
  {
   "cell_type": "code",
   "execution_count": 4,
   "id": "8510715d-2f8c-40a1-a7b1-716b607281e2",
   "metadata": {},
   "outputs": [
    {
     "data": {
      "text/plain": [
       "(15000, 2)"
      ]
     },
     "execution_count": 4,
     "metadata": {},
     "output_type": "execute_result"
    }
   ],
   "source": [
    "df.shape"
   ]
  },
  {
   "cell_type": "markdown",
   "id": "260a425c-0643-4fac-985f-265bcd0ef6ed",
   "metadata": {},
   "source": [
    "There are 15,000 reviews in the dataset. What are the distinct values in the `source` column?"
   ]
  },
  {
   "cell_type": "code",
   "execution_count": 5,
   "id": "c40491a5-d872-41ef-8784-109c684b9fb4",
   "metadata": {},
   "outputs": [
    {
     "data": {
      "text/plain": [
       "array(['yelp', 'rottentomatoes', 'amazon'], dtype=object)"
      ]
     },
     "execution_count": 5,
     "metadata": {},
     "output_type": "execute_result"
    }
   ],
   "source": [
    "df['source'].unique()"
   ]
  },
  {
   "cell_type": "markdown",
   "id": "af598cda-452a-4890-91b2-21fa9c9b7588",
   "metadata": {},
   "source": [
    "Let's dive deeper here and check if the distribution of different review types is uniform:"
   ]
  },
  {
   "cell_type": "code",
   "execution_count": 6,
   "id": "e5f74da6-7e1b-4755-8777-21682090d0a9",
   "metadata": {},
   "outputs": [
    {
     "data": {
      "image/png": "[encoded data removed]",
      "text/plain": [
       "<Figure size 640x480 with 1 Axes>"
      ]
     },
     "metadata": {},
     "output_type": "display_data"
    }
   ],
   "source": [
    "plt.figure()\n",
    "df['source'].value_counts().plot(kind='barh')\n",
    "plt.title('Count of reviews by source')\n",
    "plt.show()"
   ]
  },
  {
   "cell_type": "markdown",
   "id": "0f45e2fc-c127-4bf4-879a-7bec53d4972f",
   "metadata": {},
   "source": [
    "It is, we have 5K reviews for each of the three different review types (amazon, rottentomatoes, and yelp). There is not too much else to be done in terms of exploratory data analysis as we only have text and categorical features, but let's take a look at the length of the reviews and their distribution:"
   ]
  },
  {
   "cell_type": "code",
   "execution_count": 7,
   "id": "4731e742-3036-4f91-b1b4-f2888f570c7a",
   "metadata": {},
   "outputs": [
    {
     "data": {
      "image/png": "[encoded data removed]",
      "text/plain": [
       "<Figure size 1000x400 with 1 Axes>"
      ]
     },
     "metadata": {},
     "output_type": "display_data"
    }
   ],
   "source": [
    "plt.figure(figsize=(10,4))\n",
    "df['text'].str.len().hist(bins=500, grid=False)\n",
    "plt.xticks(np.arange(0, 10000, 500))\n",
    "plt.title('Distribution of Reviews by Length in Characters')\n",
    "plt.tight_layout()\n",
    "plt.show()"
   ]
  },
  {
   "cell_type": "markdown",
   "id": "6aabb9ca-b74a-448f-b4c6-e8303036d300",
   "metadata": {},
   "source": [
    "We can see the review lengths are not normally distributed but follow a very long-tailed distribution with the vast majority of reviews being between 0-500 characters in length."
   ]
  },
  {
   "cell_type": "markdown",
   "id": "c2e51144-2c5c-43b7-a692-2bde70ca22c8",
   "metadata": {},
   "source": [
    "## Data preprocessing and transformation"
   ]
  },
  {
   "cell_type": "markdown",
   "id": "3dbb0bef-b8b6-4942-a438-be0785c83954",
   "metadata": {},
   "source": [
    "Now that we have taken a look at the data we are working with, we will clean and preprocess the data in order to apply a machine learning model to predict the data source (review category).\n",
    "\n",
    "Let's take a look at the `text` column:"
   ]
  },
  {
   "cell_type": "code",
   "execution_count": 8,
   "id": "b833638e-0e35-4595-ba61-f4029c45e2b8",
   "metadata": {},
   "outputs": [
    {
     "data": {
      "text/plain": [
       "0        I picked up a jar of fresh-made salsa and chip...\n",
       "1        The husband and I had driven by Hula's multipl...\n",
       "2        Had some amazing cuisine at Milagro's. The che...\n",
       "3        Chill coffee bar. That is the best way to desc...\n",
       "4        Fancy  shop with great kitchen items that I wo...\n",
       "                               ...                        \n",
       "14995    This is a great tablet for the price. Amazon i...\n",
       "14996    This tablet is the perfect size and so easy to...\n",
       "14997    Purchased this for my son. Has room to upgrade...\n",
       "14998    I had some thoughts about getting this for a 5...\n",
       "14999    this is a steal, have 8 gb model as well.This ...\n",
       "Name: text, Length: 15000, dtype: object"
      ]
     },
     "execution_count": 8,
     "metadata": {},
     "output_type": "execute_result"
    }
   ],
   "source": [
    "df['text']"
   ]
  },
  {
   "cell_type": "markdown",
   "id": "df0c9f40-e0a4-4ca2-a2d9-a481f7306f50",
   "metadata": {},
   "source": [
    "For the first step in preprocessing we will remove capitals by converting all the reviews to entirely lowercase:"
   ]
  },
  {
   "cell_type": "code",
   "execution_count": 9,
   "id": "84599312-df2f-4983-91c9-2cdfa093d334",
   "metadata": {},
   "outputs": [
    {
     "data": {
      "text/plain": [
       "0        i picked up a jar of fresh-made salsa and chip...\n",
       "1        the husband and i had driven by hula's multipl...\n",
       "2        had some amazing cuisine at milagro's. the che...\n",
       "3        chill coffee bar. that is the best way to desc...\n",
       "4        fancy  shop with great kitchen items that i wo...\n",
       "                               ...                        \n",
       "14995    this is a great tablet for the price. amazon i...\n",
       "14996    this tablet is the perfect size and so easy to...\n",
       "14997    purchased this for my son. has room to upgrade...\n",
       "14998    i had some thoughts about getting this for a 5...\n",
       "14999    this is a steal, have 8 gb model as well.this ...\n",
       "Name: text, Length: 15000, dtype: object"
      ]
     },
     "execution_count": 9,
     "metadata": {},
     "output_type": "execute_result"
    }
   ],
   "source": [
    "# 1. Remove capitals\n",
    "df['text'] = df['text'].str.lower()\n",
    "df['text']"
   ]
  },
  {
   "cell_type": "markdown",
   "id": "06f1570c-b880-4e4a-97d5-e35d856db61a",
   "metadata": {},
   "source": [
    "Next we remove punctuation:"
   ]
  },
  {
   "cell_type": "code",
   "execution_count": 10,
   "id": "1fe8523a-2307-409a-9b79-9406dcbff83b",
   "metadata": {},
   "outputs": [
    {
     "name": "stdout",
     "output_type": "stream",
     "text": [
      "!\t\"\t#\t$\t%\t&\t'\t(\t)\t*\t+\t,\t-\t.\t/\t:\t;\t<\t=\t>\t?\t@\t[\t\\\t]\t^\t_\t`\t{\t|\t}\t~\t"
     ]
    }
   ],
   "source": [
    "# 2. Removing punctuation\n",
    "import string\n",
    "\n",
    "for mark in string.punctuation:\n",
    "    print(mark, end='\\t')\n",
    "    df['text'] = df['text'].str.replace(mark, '')"
   ]
  },
  {
   "cell_type": "code",
   "execution_count": 11,
   "id": "9b18627f-1d06-42b0-8890-30ddc9b81678",
   "metadata": {},
   "outputs": [
    {
     "data": {
      "text/plain": [
       "0        i picked up a jar of freshmade salsa and chips...\n",
       "1        the husband and i had driven by hulas multiple...\n",
       "2        had some amazing cuisine at milagros the chef ...\n",
       "3        chill coffee bar that is the best way to descr...\n",
       "4        fancy  shop with great kitchen items that i wo...\n",
       "                               ...                        \n",
       "14995    this is a great tablet for the price amazon is...\n",
       "14996    this tablet is the perfect size and so easy to...\n",
       "14997    purchased this for my son has room to upgrade ...\n",
       "14998    i had some thoughts about getting this for a 5...\n",
       "14999    this is a steal have 8 gb model as wellthis ha...\n",
       "Name: text, Length: 15000, dtype: object"
      ]
     },
     "execution_count": 11,
     "metadata": {},
     "output_type": "execute_result"
    }
   ],
   "source": [
    "# Check\n",
    "df['text']"
   ]
  },
  {
   "cell_type": "markdown",
   "id": "54fd3ec4-8c47-41dc-b7f8-ab864584c91e",
   "metadata": {},
   "source": [
    "Let's check if there are any other special characters besides punctuation. Are there newline characters such as `\\n` present?"
   ]
  },
  {
   "cell_type": "code",
   "execution_count": 12,
   "id": "71324fe1-4397-4557-85d4-db71c8f1d5f1",
   "metadata": {},
   "outputs": [
    {
     "data": {
      "text/plain": [
       "0       i picked up a jar of freshmade salsa and chips...\n",
       "4       fancy  shop with great kitchen items that i wo...\n",
       "5       uhoh where am i \\n\\nthe view from atop the mou...\n",
       "7       having been to dave  busters in california i w...\n",
       "10      my husband and i went tonight to teakwoods for...\n",
       "                              ...                        \n",
       "4983    i dont frequent tempe too often but when i do ...\n",
       "4986    this would most certainly be my coffee shop if...\n",
       "4988    i came here on saturday becuase i had to get m...\n",
       "4990    oh orange table what can i say about you i am ...\n",
       "4996    where to start\\n\\nthe owners are very kind say...\n",
       "Name: text, Length: 2788, dtype: object"
      ]
     },
     "execution_count": 12,
     "metadata": {},
     "output_type": "execute_result"
    }
   ],
   "source": [
    "df['text'][df['text'].str.contains('\\n')]"
   ]
  },
  {
   "cell_type": "markdown",
   "id": "db8c84f4-8ee7-45a5-bf4d-a79704eced6b",
   "metadata": {},
   "source": [
    "There are. Let's replace all special characters such as newlines and tabs with whitespace using a regular expression:"
   ]
  },
  {
   "cell_type": "code",
   "execution_count": 13,
   "id": "6eb15b1c-f531-4cb1-bfed-876fe97daa85",
   "metadata": {},
   "outputs": [
    {
     "data": {
      "text/plain": [
       "0        i picked up a jar of freshmade salsa and chips...\n",
       "1        the husband and i had driven by hulas multiple...\n",
       "2        had some amazing cuisine at milagros the chef ...\n",
       "3        chill coffee bar that is the best way to descr...\n",
       "4        fancy shop with great kitchen items that i wou...\n",
       "                               ...                        \n",
       "14995    this is a great tablet for the price amazon is...\n",
       "14996    this tablet is the perfect size and so easy to...\n",
       "14997    purchased this for my son has room to upgrade ...\n",
       "14998    i had some thoughts about getting this for a 5...\n",
       "14999    this is a steal have 8 gb model as wellthis ha...\n",
       "Name: text, Length: 15000, dtype: object"
      ]
     },
     "execution_count": 13,
     "metadata": {},
     "output_type": "execute_result"
    }
   ],
   "source": [
    "# Use regular expression to remove special characters\n",
    "df['text'] = df['text'].str.replace(r\"[\\s\\t\\n\\r]+\", \" \", regex=True)\n",
    "df['text']"
   ]
  },
  {
   "cell_type": "markdown",
   "id": "365bd624-89c4-45e7-b2a0-ce9a75713126",
   "metadata": {},
   "source": [
    "Great, that is the extent of the normalization we will do in preprocessing. We will not be doing stemming nor removing stopwords as the latter is done in the vectorization and tokenization step.\n",
    "\n",
    "Let's wrap all the preprocessing in a convenient function here, as we may need to duplicate this process later:"
   ]
  },
  {
   "cell_type": "code",
   "execution_count": 14,
   "id": "43cda8e0-86ab-45ce-8a52-711f169b63f5",
   "metadata": {},
   "outputs": [],
   "source": [
    "# Wrap all the preprocessing in a function\n",
    "def preprocess_text(text_column: pd.Series):\n",
    "    '''\n",
    "    This function takes a pandas series, text_column as input.\n",
    "    '''\n",
    "    \n",
    "    # Copy the column\n",
    "    output_column = text_column.copy()\n",
    "\n",
    "    # Make lower case\n",
    "    output_column = output_column.str.lower()\n",
    "    \n",
    "    # Remove punctuation\n",
    "    for mark in string.punctuation:\n",
    "        output_column = output_column.str.replace(mark, '')\n",
    "\n",
    "    # Remove extra whitespace and special characters\n",
    "    output_column = output_column.str.replace(r\"[\\s\\t\\n\\r]+\", \" \", regex=True)\n",
    "\n",
    "    # Return the updated text column\n",
    "    return output_column"
   ]
  },
  {
   "cell_type": "markdown",
   "id": "1d659de1-4751-4de6-8cd5-2b7f4782a255",
   "metadata": {},
   "source": [
    "We've used a [docstring](https://peps.python.org/pep-0257/) in our function, so can get usage information using `help`: "
   ]
  },
  {
   "cell_type": "code",
   "execution_count": 15,
   "id": "f4d2b6d2-20c2-4dd3-9e51-8eb463ee2cc4",
   "metadata": {},
   "outputs": [
    {
     "name": "stdout",
     "output_type": "stream",
     "text": [
      "Help on function preprocess_text in module __main__:\n",
      "\n",
      "preprocess_text(text_column: pandas.core.series.Series)\n",
      "    This function takes a pandas series, text_column as input.\n",
      "\n"
     ]
    }
   ],
   "source": [
    "help(preprocess_text)"
   ]
  },
  {
   "cell_type": "markdown",
   "id": "90fecf88-a553-4c01-b093-e954972d1e38",
   "metadata": {},
   "source": [
    "We should probably also quickly unit test our function to make sure it works properly. Let's give it 3 reviews with capitalization, punctuation, and special characters and see if they are addressed successfully:"
   ]
  },
  {
   "cell_type": "code",
   "execution_count": 16,
   "id": "d593fbf8-4c23-4bf6-a5f1-839b2abb4088",
   "metadata": {},
   "outputs": [
    {
     "data": {
      "text/plain": [
       "0                               this movie was awful\n",
       "1                                     wasnt that bad\n",
       "2    never watching a movie from this director again\n",
       "dtype: object"
      ]
     },
     "execution_count": 16,
     "metadata": {},
     "output_type": "execute_result"
    }
   ],
   "source": [
    "# Unit test?\n",
    "movie_reviews = [\"This movie was AWFUL.\", \"Wasn't that bad!!!!\", \"Never watching a movie \\n\\n from this director \\t again\"]\n",
    "movie_reviews = pd.Series(movie_reviews)\n",
    "\n",
    "preprocess_text(movie_reviews)"
   ]
  },
  {
   "cell_type": "markdown",
   "id": "6c9029cb-b5ea-46d4-ad77-3019362c708a",
   "metadata": {},
   "source": [
    "We should also check that there are no side effects and that the original dataframe is unmodified by the function:"
   ]
  },
  {
   "cell_type": "code",
   "execution_count": 17,
   "id": "9fa8185b-61e1-4325-aa34-b1d1baf35d7f",
   "metadata": {},
   "outputs": [
    {
     "data": {
      "text/plain": [
       "0                                This movie was AWFUL.\n",
       "1                                  Wasn't that bad!!!!\n",
       "2    Never watching a movie \\n\\n from this director...\n",
       "dtype: object"
      ]
     },
     "execution_count": 17,
     "metadata": {},
     "output_type": "execute_result"
    }
   ],
   "source": [
    "# check that original data is unmodified\n",
    "movie_reviews"
   ]
  },
  {
   "cell_type": "markdown",
   "id": "d9d8012b-8560-4625-b51f-5d3b88ee5fd4",
   "metadata": {},
   "source": [
    "We can see that it is, so we are confident that our function does what it needs to without issue."
   ]
  },
  {
   "cell_type": "markdown",
   "id": "92f37f08-44e3-4e30-8164-35f69b4d718c",
   "metadata": {},
   "source": [
    "### Tokenization and Vectorization"
   ]
  },
  {
   "attachments": {},
   "cell_type": "markdown",
   "id": "84b43056-440c-4c4a-91e7-3ca7c5679a54",
   "metadata": {},
   "source": [
    "In this section we will now perform tokenization and vectorization, converting the unstructured text data of the reviews into numeric data that is suitable for analytics and/or machine learning. Both these steps can be done together using the `CountVectorizer` from sklearn to tokenize, vectorize, and remove stopwords from the preprocessed text:\n",
    "\n",
    "https://scikit-learn.org/1.5/modules/generated/sklearn.feature_extraction.text.CountVectorizer.html\n",
    "\n",
    "To use the CountVectorizer, we import from the `feature_extraction.text` submodule, then instantiate and fit and transform the reviews:"
   ]
  },
  {
   "cell_type": "code",
   "execution_count": 18,
   "id": "2de4bce6-fb38-4533-ad42-e50ef77e87ed",
   "metadata": {},
   "outputs": [],
   "source": [
    "from sklearn.feature_extraction.text import CountVectorizer\n",
    "\n",
    "# Instantiate\n",
    "cv = CountVectorizer(stop_words='english')\n",
    "\n",
    "# Tokenize, vectorize, and remove stopwords\n",
    "# DOCUMENT-TERM MATRIX\n",
    "dtm = cv.fit_transform(df['text'])"
   ]
  },
  {
   "cell_type": "markdown",
   "id": "f2bb6082-a41c-4e07-9fa4-152422a7366a",
   "metadata": {},
   "source": [
    "Let's check what is returned:"
   ]
  },
  {
   "cell_type": "code",
   "execution_count": 19,
   "id": "77501b2b-efef-4d61-ac30-c14542610c0d",
   "metadata": {},
   "outputs": [
    {
     "data": {
      "text/plain": [
       "<15000x33715 sparse matrix of type '<class 'numpy.int64'>'\n",
       "\twith 365222 stored elements in Compressed Sparse Row format>"
      ]
     },
     "execution_count": 19,
     "metadata": {},
     "output_type": "execute_result"
    }
   ],
   "source": [
    "dtm"
   ]
  },
  {
   "cell_type": "markdown",
   "id": "92fdc844-5f42-4fa9-a439-8cf65aafb8f6",
   "metadata": {},
   "source": [
    "Our [document-term matrix](https://en.wikipedia.org/wiki/Document-term_matrix) is returned as a spare dataframe since there are a large number of zeros, since most words only occur in a small number of reviews. Let's plunk into a Pandas Dataframe to make this easier to see:"
   ]
  },
  {
   "cell_type": "code",
   "execution_count": 20,
   "id": "29924e42-856b-4159-ac4b-ba05c3ff62df",
   "metadata": {},
   "outputs": [
    {
     "data": {
      "text/html": [
       "<div>\n",
       "<style scoped>\n",
       "    .dataframe tbody tr th:only-of-type {\n",
       "        vertical-align: middle;\n",
       "    }\n",
       "\n",
       "    .dataframe tbody tr th {\n",
       "        vertical-align: top;\n",
       "    }\n",
       "\n",
       "    .dataframe thead th {\n",
       "        text-align: right;\n",
       "    }\n",
       "</style>\n",
       "<table border=\"1\" class=\"dataframe\">\n",
       "  <thead>\n",
       "    <tr style=\"text-align: right;\">\n",
       "      <th></th>\n",
       "      <th>00</th>\n",
       "      <th>007</th>\n",
       "      <th>01</th>\n",
       "      <th>01042012</th>\n",
       "      <th>03342</th>\n",
       "      <th>039</th>\n",
       "      <th>050</th>\n",
       "      <th>06</th>\n",
       "      <th>07092008</th>\n",
       "      <th>075</th>\n",
       "      <th>...</th>\n",
       "      <th>äúshow</th>\n",
       "      <th>äúskills</th>\n",
       "      <th>äústar</th>\n",
       "      <th>äúthings</th>\n",
       "      <th>école</th>\n",
       "      <th>ém</th>\n",
       "      <th>ótimo</th>\n",
       "      <th>ôºå</th>\n",
       "      <th>única</th>\n",
       "      <th>único</th>\n",
       "    </tr>\n",
       "  </thead>\n",
       "  <tbody>\n",
       "    <tr>\n",
       "      <th>0</th>\n",
       "      <td>0</td>\n",
       "      <td>0</td>\n",
       "      <td>0</td>\n",
       "      <td>0</td>\n",
       "      <td>0</td>\n",
       "      <td>0</td>\n",
       "      <td>0</td>\n",
       "      <td>0</td>\n",
       "      <td>0</td>\n",
       "      <td>0</td>\n",
       "      <td>...</td>\n",
       "      <td>0</td>\n",
       "      <td>0</td>\n",
       "      <td>0</td>\n",
       "      <td>0</td>\n",
       "      <td>0</td>\n",
       "      <td>0</td>\n",
       "      <td>0</td>\n",
       "      <td>0</td>\n",
       "      <td>0</td>\n",
       "      <td>0</td>\n",
       "    </tr>\n",
       "    <tr>\n",
       "      <th>1</th>\n",
       "      <td>0</td>\n",
       "      <td>0</td>\n",
       "      <td>0</td>\n",
       "      <td>0</td>\n",
       "      <td>0</td>\n",
       "      <td>0</td>\n",
       "      <td>0</td>\n",
       "      <td>0</td>\n",
       "      <td>0</td>\n",
       "      <td>0</td>\n",
       "      <td>...</td>\n",
       "      <td>0</td>\n",
       "      <td>0</td>\n",
       "      <td>0</td>\n",
       "      <td>0</td>\n",
       "      <td>0</td>\n",
       "      <td>0</td>\n",
       "      <td>0</td>\n",
       "      <td>0</td>\n",
       "      <td>0</td>\n",
       "      <td>0</td>\n",
       "    </tr>\n",
       "    <tr>\n",
       "      <th>2</th>\n",
       "      <td>0</td>\n",
       "      <td>0</td>\n",
       "      <td>0</td>\n",
       "      <td>0</td>\n",
       "      <td>0</td>\n",
       "      <td>0</td>\n",
       "      <td>0</td>\n",
       "      <td>0</td>\n",
       "      <td>0</td>\n",
       "      <td>0</td>\n",
       "      <td>...</td>\n",
       "      <td>0</td>\n",
       "      <td>0</td>\n",
       "      <td>0</td>\n",
       "      <td>0</td>\n",
       "      <td>0</td>\n",
       "      <td>0</td>\n",
       "      <td>0</td>\n",
       "      <td>0</td>\n",
       "      <td>0</td>\n",
       "      <td>0</td>\n",
       "    </tr>\n",
       "    <tr>\n",
       "      <th>3</th>\n",
       "      <td>0</td>\n",
       "      <td>0</td>\n",
       "      <td>0</td>\n",
       "      <td>0</td>\n",
       "      <td>0</td>\n",
       "      <td>0</td>\n",
       "      <td>0</td>\n",
       "      <td>0</td>\n",
       "      <td>0</td>\n",
       "      <td>0</td>\n",
       "      <td>...</td>\n",
       "      <td>0</td>\n",
       "      <td>0</td>\n",
       "      <td>0</td>\n",
       "      <td>0</td>\n",
       "      <td>0</td>\n",
       "      <td>0</td>\n",
       "      <td>0</td>\n",
       "      <td>0</td>\n",
       "      <td>0</td>\n",
       "      <td>0</td>\n",
       "    </tr>\n",
       "    <tr>\n",
       "      <th>4</th>\n",
       "      <td>0</td>\n",
       "      <td>0</td>\n",
       "      <td>0</td>\n",
       "      <td>0</td>\n",
       "      <td>0</td>\n",
       "      <td>0</td>\n",
       "      <td>0</td>\n",
       "      <td>0</td>\n",
       "      <td>0</td>\n",
       "      <td>0</td>\n",
       "      <td>...</td>\n",
       "      <td>0</td>\n",
       "      <td>0</td>\n",
       "      <td>0</td>\n",
       "      <td>0</td>\n",
       "      <td>0</td>\n",
       "      <td>0</td>\n",
       "      <td>0</td>\n",
       "      <td>0</td>\n",
       "      <td>0</td>\n",
       "      <td>0</td>\n",
       "    </tr>\n",
       "  </tbody>\n",
       "</table>\n",
       "<p>5 rows × 33715 columns</p>\n",
       "</div>"
      ],
      "text/plain": [
       "   00  007  01  01042012  03342  039  050  06  07092008  075  ...  äúshow  \\\n",
       "0   0    0   0         0      0    0    0   0         0    0  ...       0   \n",
       "1   0    0   0         0      0    0    0   0         0    0  ...       0   \n",
       "2   0    0   0         0      0    0    0   0         0    0  ...       0   \n",
       "3   0    0   0         0      0    0    0   0         0    0  ...       0   \n",
       "4   0    0   0         0      0    0    0   0         0    0  ...       0   \n",
       "\n",
       "   äúskills  äústar  äúthings  école  ém  ótimo  ôºå  única  único  \n",
       "0         0       0         0      0   0      0    0      0      0  \n",
       "1         0       0         0      0   0      0    0      0      0  \n",
       "2         0       0         0      0   0      0    0      0      0  \n",
       "3         0       0         0      0   0      0    0      0      0  \n",
       "4         0       0         0      0   0      0    0      0      0  \n",
       "\n",
       "[5 rows x 33715 columns]"
      ]
     },
     "execution_count": 20,
     "metadata": {},
     "output_type": "execute_result"
    }
   ],
   "source": [
    "# Put in a nice pandas dataframe\n",
    "dtm_df = pd.DataFrame(dtm.toarray(), columns=cv.get_feature_names_out())\n",
    "dtm_df.head()"
   ]
  },
  {
   "cell_type": "markdown",
   "id": "009165aa-5129-4c24-ae29-b7720f5b071f",
   "metadata": {},
   "source": [
    "We can see that each column corresponds to the count of each a token as a feature, however, the matrix appears to be mostly zeroes. How many elements are in the matrix?"
   ]
  },
  {
   "cell_type": "code",
   "execution_count": 21,
   "id": "6050eca8-7079-4e65-9a29-f18902485306",
   "metadata": {},
   "outputs": [
    {
     "name": "stdout",
     "output_type": "stream",
     "text": [
      "505,725,000\n"
     ]
    }
   ],
   "source": [
    "print(f'{dtm_df.shape[0]*dtm_df.shape[1]:,}')"
   ]
  },
  {
   "cell_type": "markdown",
   "id": "ed181780-a06f-46b3-952d-59958314caaa",
   "metadata": {},
   "source": [
    "There are a whopping ~505M elements in the matrix! But how many of these are non-zero? We use the `365,222` value of non-zero elements returned from the original sparse representation above to calculate this:"
   ]
  },
  {
   "cell_type": "code",
   "execution_count": 22,
   "id": "1b835356-4d93-4916-8db9-ad1208f53ecf",
   "metadata": {},
   "outputs": [
    {
     "data": {
      "text/plain": [
       "0.9992778249048396"
      ]
     },
     "execution_count": 22,
     "metadata": {},
     "output_type": "execute_result"
    }
   ],
   "source": [
    "1-(365222/505725000)"
   ]
  },
  {
   "cell_type": "markdown",
   "id": "222fbe19-6779-457f-962a-b756a9ef45f7",
   "metadata": {},
   "source": [
    "The matrix is ~99.93% zeros! We can see the \"long tail of language\" if we look at the frequency of total occurrences of tokens in the data in a histogram:"
   ]
  },
  {
   "cell_type": "code",
   "execution_count": 27,
   "id": "ddec4c86-1d9c-42a8-bfda-9bf5f8ad00c5",
   "metadata": {},
   "outputs": [
    {
     "data": {
      "image/png": "[encoded data removed]",
      "text/plain": [
       "<Figure size 1000x400 with 1 Axes>"
      ]
     },
     "metadata": {},
     "output_type": "display_data"
    }
   ],
   "source": [
    "# Long tail of language\n",
    "plt.figure(figsize=(10, 4))\n",
    "(dtm_df.sum()/15000*100.0).hist(bins=100)\n",
    "plt.yscale('log')\n",
    "plt.title('Distribution of Token Occurrence in Dataset')\n",
    "plt.show()"
   ]
  },
  {
   "cell_type": "markdown",
   "id": "beb5a473-31a1-4956-8fae-235b53d9841f",
   "metadata": {},
   "source": [
    "We have had to resort to using a log scale for the y-axis, since the distribution of tokens is so extremely skewed and following a power law. We could use this as a cumulative histogram to inform our cutoff choice of `min_df` for the CountVectorizer if we wanted to reduce memory usage.\n",
    "\n",
    "As a result of doing the count vectorization, we get \"free\" text analytics - as we can calculate the total number of occurrences of each token by summing the counts for each column row-wise (as we did above). \n",
    "\n",
    "What are the 10 most frequently occurring tokens in the dataset?"
   ]
  },
  {
   "cell_type": "code",
   "execution_count": 36,
   "id": "470c297b-ec74-4d50-9d6f-bb94a6ed027a",
   "metadata": {},
   "outputs": [
    {
     "data": {
      "image/png": "[encoded data removed]",
      "text/plain": [
       "<Figure size 640x480 with 1 Axes>"
      ]
     },
     "metadata": {},
     "output_type": "display_data"
    }
   ],
   "source": [
    "dtm_df.sum().nlargest(10).sort_values().plot(kind='barh')\n",
    "plt.title('Most frequently occuring tokens in corpus')\n",
    "plt.show()"
   ]
  },
  {
   "cell_type": "markdown",
   "id": "bf473d57-c205-41b9-ad53-cb3e9f3b19e3",
   "metadata": {},
   "source": [
    "That's interesting, but perhaps these tokens are not distributed across the different review types evenly. Let's instead look at the most frequently occurring tokens per source. To do this, we will use a pandas [groupby](https://pandas.pydata.org/docs/reference/api/pandas.DataFrame.groupby.html).\n",
    "\n",
    "To do this, we need to add the `source` column to the document-term matrix dataframe. We should check if there is already a `source` column (as this could have appeared as a token in the dataset):"
   ]
  },
  {
   "cell_type": "code",
   "execution_count": 37,
   "id": "fc07c845-90af-4fb0-a713-644b242757ed",
   "metadata": {},
   "outputs": [
    {
     "data": {
      "text/plain": [
       "0        0\n",
       "1        0\n",
       "2        0\n",
       "3        0\n",
       "4        0\n",
       "        ..\n",
       "14995    0\n",
       "14996    0\n",
       "14997    0\n",
       "14998    0\n",
       "14999    0\n",
       "Name: source, Length: 15000, dtype: int64"
      ]
     },
     "execution_count": 37,
     "metadata": {},
     "output_type": "execute_result"
    }
   ],
   "source": [
    "# CHECK if  there is a source column already in the dataframe\n",
    "# as we do not want to overwrite it\n",
    "dtm_df['source']"
   ]
  },
  {
   "cell_type": "markdown",
   "id": "67f0d6b7-9a0c-4172-ac79-983824e7711e",
   "metadata": {},
   "source": [
    "Indeed, there is! Perhaps we should use a more unique name like `review_source` - let's just quickly check it's not in the columns either:"
   ]
  },
  {
   "cell_type": "code",
   "execution_count": 38,
   "id": "e0233bad-f256-4c99-8cf1-c783847e3b5a",
   "metadata": {},
   "outputs": [
    {
     "data": {
      "text/plain": [
       "0"
      ]
     },
     "execution_count": 38,
     "metadata": {},
     "output_type": "execute_result"
    }
   ],
   "source": [
    "sum(dtm_df.columns == 'review_source')"
   ]
  },
  {
   "cell_type": "markdown",
   "id": "45587ef0-09af-4489-aed2-b497677135fd",
   "metadata": {},
   "source": [
    "It is not. Finally, we check that the row count is the same between the document-term matrix dataframe `dtm_df` and the original dataframe with the `source` column, `df`, to make sure we are okay to append the latter to the former:"
   ]
  },
  {
   "cell_type": "code",
   "execution_count": 39,
   "id": "16cc3c2f-3c40-428a-9a0e-0634f9cc99b4",
   "metadata": {},
   "outputs": [
    {
     "data": {
      "text/plain": [
       "True"
      ]
     },
     "execution_count": 39,
     "metadata": {},
     "output_type": "execute_result"
    }
   ],
   "source": [
    "dtm_df.shape[0] == df.shape[0]"
   ]
  },
  {
   "cell_type": "markdown",
   "id": "aec98376-4c8f-4fa9-abe5-000fa76c80de",
   "metadata": {},
   "source": [
    "Ok, we can append the column:"
   ]
  },
  {
   "cell_type": "code",
   "execution_count": 40,
   "id": "1f0202cc-bfc2-4f16-9173-74961d85dc1e",
   "metadata": {},
   "outputs": [],
   "source": [
    "# Append the source column onto the document term dataframe\n",
    "dtm_df['review_source'] = df['source']"
   ]
  },
  {
   "cell_type": "code",
   "execution_count": 41,
   "id": "32dd51f7-575d-4048-adf9-8b9ddc21930e",
   "metadata": {},
   "outputs": [
    {
     "data": {
      "text/plain": [
       "0          yelp\n",
       "1          yelp\n",
       "2          yelp\n",
       "3          yelp\n",
       "4          yelp\n",
       "          ...  \n",
       "14995    amazon\n",
       "14996    amazon\n",
       "14997    amazon\n",
       "14998    amazon\n",
       "14999    amazon\n",
       "Name: review_source, Length: 15000, dtype: object"
      ]
     },
     "execution_count": 41,
     "metadata": {},
     "output_type": "execute_result"
    }
   ],
   "source": [
    "dtm_df['review_source']"
   ]
  },
  {
   "cell_type": "markdown",
   "id": "504a085e-1505-42c1-9beb-3e819350ae73",
   "metadata": {},
   "source": [
    "Now we can group by review type and with a single line of code in pandas, calculate the total number of occurrences of each token by review type!"
   ]
  },
  {
   "cell_type": "code",
   "execution_count": 42,
   "id": "b2e39bea-95a9-4e66-b0c2-02356bb3b454",
   "metadata": {},
   "outputs": [
    {
     "data": {
      "text/html": [
       "<div>\n",
       "<style scoped>\n",
       "    .dataframe tbody tr th:only-of-type {\n",
       "        vertical-align: middle;\n",
       "    }\n",
       "\n",
       "    .dataframe tbody tr th {\n",
       "        vertical-align: top;\n",
       "    }\n",
       "\n",
       "    .dataframe thead th {\n",
       "        text-align: right;\n",
       "    }\n",
       "</style>\n",
       "<table border=\"1\" class=\"dataframe\">\n",
       "  <thead>\n",
       "    <tr style=\"text-align: right;\">\n",
       "      <th></th>\n",
       "      <th>00</th>\n",
       "      <th>007</th>\n",
       "      <th>01</th>\n",
       "      <th>01042012</th>\n",
       "      <th>03342</th>\n",
       "      <th>039</th>\n",
       "      <th>050</th>\n",
       "      <th>06</th>\n",
       "      <th>07092008</th>\n",
       "      <th>075</th>\n",
       "      <th>...</th>\n",
       "      <th>äúshow</th>\n",
       "      <th>äúskills</th>\n",
       "      <th>äústar</th>\n",
       "      <th>äúthings</th>\n",
       "      <th>école</th>\n",
       "      <th>ém</th>\n",
       "      <th>ótimo</th>\n",
       "      <th>ôºå</th>\n",
       "      <th>única</th>\n",
       "      <th>único</th>\n",
       "    </tr>\n",
       "    <tr>\n",
       "      <th>review_source</th>\n",
       "      <th></th>\n",
       "      <th></th>\n",
       "      <th></th>\n",
       "      <th></th>\n",
       "      <th></th>\n",
       "      <th></th>\n",
       "      <th></th>\n",
       "      <th></th>\n",
       "      <th></th>\n",
       "      <th></th>\n",
       "      <th></th>\n",
       "      <th></th>\n",
       "      <th></th>\n",
       "      <th></th>\n",
       "      <th></th>\n",
       "      <th></th>\n",
       "      <th></th>\n",
       "      <th></th>\n",
       "      <th></th>\n",
       "      <th></th>\n",
       "      <th></th>\n",
       "    </tr>\n",
       "  </thead>\n",
       "  <tbody>\n",
       "    <tr>\n",
       "      <th>amazon</th>\n",
       "      <td>0</td>\n",
       "      <td>0</td>\n",
       "      <td>0</td>\n",
       "      <td>0</td>\n",
       "      <td>0</td>\n",
       "      <td>0</td>\n",
       "      <td>0</td>\n",
       "      <td>0</td>\n",
       "      <td>0</td>\n",
       "      <td>0</td>\n",
       "      <td>...</td>\n",
       "      <td>1</td>\n",
       "      <td>1</td>\n",
       "      <td>2</td>\n",
       "      <td>2</td>\n",
       "      <td>0</td>\n",
       "      <td>0</td>\n",
       "      <td>0</td>\n",
       "      <td>1</td>\n",
       "      <td>0</td>\n",
       "      <td>0</td>\n",
       "    </tr>\n",
       "    <tr>\n",
       "      <th>rottentomatoes</th>\n",
       "      <td>0</td>\n",
       "      <td>2</td>\n",
       "      <td>0</td>\n",
       "      <td>0</td>\n",
       "      <td>0</td>\n",
       "      <td>0</td>\n",
       "      <td>0</td>\n",
       "      <td>0</td>\n",
       "      <td>0</td>\n",
       "      <td>0</td>\n",
       "      <td>...</td>\n",
       "      <td>0</td>\n",
       "      <td>0</td>\n",
       "      <td>0</td>\n",
       "      <td>0</td>\n",
       "      <td>0</td>\n",
       "      <td>0</td>\n",
       "      <td>1</td>\n",
       "      <td>0</td>\n",
       "      <td>1</td>\n",
       "      <td>1</td>\n",
       "    </tr>\n",
       "    <tr>\n",
       "      <th>yelp</th>\n",
       "      <td>1</td>\n",
       "      <td>1</td>\n",
       "      <td>1</td>\n",
       "      <td>1</td>\n",
       "      <td>1</td>\n",
       "      <td>1</td>\n",
       "      <td>1</td>\n",
       "      <td>2</td>\n",
       "      <td>1</td>\n",
       "      <td>1</td>\n",
       "      <td>...</td>\n",
       "      <td>0</td>\n",
       "      <td>0</td>\n",
       "      <td>0</td>\n",
       "      <td>0</td>\n",
       "      <td>1</td>\n",
       "      <td>1</td>\n",
       "      <td>0</td>\n",
       "      <td>0</td>\n",
       "      <td>0</td>\n",
       "      <td>0</td>\n",
       "    </tr>\n",
       "  </tbody>\n",
       "</table>\n",
       "<p>3 rows × 33715 columns</p>\n",
       "</div>"
      ],
      "text/plain": [
       "                00  007  01  01042012  03342  039  050  06  07092008  075  \\\n",
       "review_source                                                               \n",
       "amazon           0    0   0         0      0    0    0   0         0    0   \n",
       "rottentomatoes   0    2   0         0      0    0    0   0         0    0   \n",
       "yelp             1    1   1         1      1    1    1   2         1    1   \n",
       "\n",
       "                ...  äúshow  äúskills  äústar  äúthings  école  ém  ótimo  \\\n",
       "review_source   ...                                                         \n",
       "amazon          ...       1         1       2         2      0   0      0   \n",
       "rottentomatoes  ...       0         0       0         0      0   0      1   \n",
       "yelp            ...       0         0       0         0      1   1      0   \n",
       "\n",
       "                ôºå  única  único  \n",
       "review_source                      \n",
       "amazon            1      0      0  \n",
       "rottentomatoes    0      1      1  \n",
       "yelp              0      0      0  \n",
       "\n",
       "[3 rows x 33715 columns]"
      ]
     },
     "execution_count": 42,
     "metadata": {},
     "output_type": "execute_result"
    }
   ],
   "source": [
    "# Group by the review_source - sum the counts by token\n",
    "grouped_sum = dtm_df.groupby('review_source').sum()\n",
    "grouped_sum"
   ]
  },
  {
   "cell_type": "markdown",
   "id": "77508c95-d008-4b74-b74f-e2a36cc3d17e",
   "metadata": {},
   "source": [
    "Finally, using a the powerful pandas [apply](https://pandas.pydata.org/docs/reference/api/pandas.DataFrame.apply.html) method, and a *lambda function*, we can find the most frequently occurring tokens per review type:"
   ]
  },
  {
   "cell_type": "code",
   "execution_count": 43,
   "id": "63012e45-e7ca-4ad8-9e7e-eb967fb3fb09",
   "metadata": {},
   "outputs": [
    {
     "data": {
      "text/html": [
       "<div>\n",
       "<style scoped>\n",
       "    .dataframe tbody tr th:only-of-type {\n",
       "        vertical-align: middle;\n",
       "    }\n",
       "\n",
       "    .dataframe tbody tr th {\n",
       "        vertical-align: top;\n",
       "    }\n",
       "\n",
       "    .dataframe thead th {\n",
       "        text-align: right;\n",
       "    }\n",
       "</style>\n",
       "<table border=\"1\" class=\"dataframe\">\n",
       "  <thead>\n",
       "    <tr style=\"text-align: right;\">\n",
       "      <th>review_source</th>\n",
       "      <th>amazon</th>\n",
       "      <th>rottentomatoes</th>\n",
       "      <th>yelp</th>\n",
       "    </tr>\n",
       "  </thead>\n",
       "  <tbody>\n",
       "    <tr>\n",
       "      <th>0</th>\n",
       "      <td>great</td>\n",
       "      <td>film</td>\n",
       "      <td>place</td>\n",
       "    </tr>\n",
       "    <tr>\n",
       "      <th>1</th>\n",
       "      <td>tablet</td>\n",
       "      <td>movie</td>\n",
       "      <td>good</td>\n",
       "    </tr>\n",
       "    <tr>\n",
       "      <th>2</th>\n",
       "      <td>love</td>\n",
       "      <td>like</td>\n",
       "      <td>food</td>\n",
       "    </tr>\n",
       "    <tr>\n",
       "      <th>3</th>\n",
       "      <td>use</td>\n",
       "      <td>story</td>\n",
       "      <td>great</td>\n",
       "    </tr>\n",
       "    <tr>\n",
       "      <th>4</th>\n",
       "      <td>easy</td>\n",
       "      <td>just</td>\n",
       "      <td>like</td>\n",
       "    </tr>\n",
       "    <tr>\n",
       "      <th>5</th>\n",
       "      <td>bought</td>\n",
       "      <td>good</td>\n",
       "      <td>just</td>\n",
       "    </tr>\n",
       "    <tr>\n",
       "      <th>6</th>\n",
       "      <td>kindle</td>\n",
       "      <td>characters</td>\n",
       "      <td>time</td>\n",
       "    </tr>\n",
       "    <tr>\n",
       "      <th>7</th>\n",
       "      <td>amazon</td>\n",
       "      <td>time</td>\n",
       "      <td>service</td>\n",
       "    </tr>\n",
       "    <tr>\n",
       "      <th>8</th>\n",
       "      <td>echo</td>\n",
       "      <td>comedy</td>\n",
       "      <td>really</td>\n",
       "    </tr>\n",
       "    <tr>\n",
       "      <th>9</th>\n",
       "      <td>good</td>\n",
       "      <td>films</td>\n",
       "      <td>dont</td>\n",
       "    </tr>\n",
       "    <tr>\n",
       "      <th>10</th>\n",
       "      <td>like</td>\n",
       "      <td>way</td>\n",
       "      <td>love</td>\n",
       "    </tr>\n",
       "    <tr>\n",
       "      <th>11</th>\n",
       "      <td>alexa</td>\n",
       "      <td>funny</td>\n",
       "      <td>nice</td>\n",
       "    </tr>\n",
       "    <tr>\n",
       "      <th>12</th>\n",
       "      <td>loves</td>\n",
       "      <td>little</td>\n",
       "      <td>im</td>\n",
       "    </tr>\n",
       "    <tr>\n",
       "      <th>13</th>\n",
       "      <td>screen</td>\n",
       "      <td>bad</td>\n",
       "      <td>little</td>\n",
       "    </tr>\n",
       "    <tr>\n",
       "      <th>14</th>\n",
       "      <td>price</td>\n",
       "      <td>make</td>\n",
       "      <td>ive</td>\n",
       "    </tr>\n",
       "    <tr>\n",
       "      <th>15</th>\n",
       "      <td>just</td>\n",
       "      <td>movies</td>\n",
       "      <td>best</td>\n",
       "    </tr>\n",
       "    <tr>\n",
       "      <th>16</th>\n",
       "      <td>product</td>\n",
       "      <td>makes</td>\n",
       "      <td>got</td>\n",
       "    </tr>\n",
       "    <tr>\n",
       "      <th>17</th>\n",
       "      <td>kids</td>\n",
       "      <td>life</td>\n",
       "      <td>pretty</td>\n",
       "    </tr>\n",
       "    <tr>\n",
       "      <th>18</th>\n",
       "      <td>old</td>\n",
       "      <td>director</td>\n",
       "      <td>try</td>\n",
       "    </tr>\n",
       "    <tr>\n",
       "      <th>19</th>\n",
       "      <td>music</td>\n",
       "      <td>best</td>\n",
       "      <td>restaurant</td>\n",
       "    </tr>\n",
       "    <tr>\n",
       "      <th>20</th>\n",
       "      <td>works</td>\n",
       "      <td>really</td>\n",
       "      <td>ordered</td>\n",
       "    </tr>\n",
       "    <tr>\n",
       "      <th>21</th>\n",
       "      <td>apps</td>\n",
       "      <td>love</td>\n",
       "      <td>didnt</td>\n",
       "    </tr>\n",
       "    <tr>\n",
       "      <th>22</th>\n",
       "      <td>device</td>\n",
       "      <td>doesnt</td>\n",
       "      <td>people</td>\n",
       "    </tr>\n",
       "    <tr>\n",
       "      <th>23</th>\n",
       "      <td>books</td>\n",
       "      <td>work</td>\n",
       "      <td>chicken</td>\n",
       "    </tr>\n",
       "    <tr>\n",
       "      <th>24</th>\n",
       "      <td>games</td>\n",
       "      <td>theres</td>\n",
       "      <td>menu</td>\n",
       "    </tr>\n",
       "  </tbody>\n",
       "</table>\n",
       "</div>"
      ],
      "text/plain": [
       "review_source   amazon rottentomatoes        yelp\n",
       "0                great           film       place\n",
       "1               tablet          movie        good\n",
       "2                 love           like        food\n",
       "3                  use          story       great\n",
       "4                 easy           just        like\n",
       "5               bought           good        just\n",
       "6               kindle     characters        time\n",
       "7               amazon           time     service\n",
       "8                 echo         comedy      really\n",
       "9                 good          films        dont\n",
       "10                like            way        love\n",
       "11               alexa          funny        nice\n",
       "12               loves         little          im\n",
       "13              screen            bad      little\n",
       "14               price           make         ive\n",
       "15                just         movies        best\n",
       "16             product          makes         got\n",
       "17                kids           life      pretty\n",
       "18                 old       director         try\n",
       "19               music           best  restaurant\n",
       "20               works         really     ordered\n",
       "21                apps           love       didnt\n",
       "22              device         doesnt      people\n",
       "23               books           work     chicken\n",
       "24               games         theres        menu"
      ]
     },
     "execution_count": 43,
     "metadata": {},
     "output_type": "execute_result"
    }
   ],
   "source": [
    "grouped_sum.apply(lambda x: pd.Series(x.nlargest(25).index), axis=1).T"
   ]
  },
  {
   "cell_type": "markdown",
   "id": "4901e44a-299a-4f41-b468-3f9ed5ab4251",
   "metadata": {},
   "source": [
    "We can see that the Amazon reviews are mainly about electronics, RottenTomatoes mostly has movie words, and Yelp reviews mostly food and restaurant words, as would be expected.\n",
    "\n",
    "Finally, we can pull out the entire rows in the lambda function, transpose the result, and plot:"
   ]
  },
  {
   "cell_type": "code",
   "execution_count": 44,
   "id": "946cb85b-7f6c-47ab-b766-c1a3dd6a95aa",
   "metadata": {},
   "outputs": [
    {
     "data": {
      "image/png": "[encoded data removed]",
      "text/plain": [
       "<Figure size 640x480 with 1 Axes>"
      ]
     },
     "metadata": {},
     "output_type": "display_data"
    }
   ],
   "source": [
    "grouped_sum.apply(lambda x: pd.Series(x.nlargest(5)), axis=1).T.plot(kind='barh')\n",
    "plt.legend(bbox_to_anchor=(1.05, 1.0), loc='upper left')\n",
    "plt.show()"
   ]
  },
  {
   "cell_type": "markdown",
   "id": "a5c7b4a1-f0b8-4f79-b9a2-076d9988e770",
   "metadata": {},
   "source": [
    "We can see some words only occur frequently in a single category, whereas some others are frequently occurring in multiple review types (*e.g.* 'great', 'like').\n",
    "\n",
    "Now we will drop t he review source column from our document-term matrix dataframe as we will be proceeding to doing machine learning and it is no longer required:"
   ]
  },
  {
   "cell_type": "code",
   "execution_count": 45,
   "id": "2a9e8bdb-551a-4d27-b885-fa79e7f4957d",
   "metadata": {},
   "outputs": [],
   "source": [
    "# Drop source from dtm_df\n",
    "dtm_df.drop('review_source', axis=1, inplace=True)"
   ]
  },
  {
   "cell_type": "code",
   "execution_count": 50,
   "id": "d4e8476a-215e-4996-ba65-9321b6ee630f",
   "metadata": {},
   "outputs": [
    {
     "data": {
      "text/plain": [
       "False"
      ]
     },
     "execution_count": 50,
     "metadata": {},
     "output_type": "execute_result"
    }
   ],
   "source": [
    "# Check\n",
    "'review_source' in dtm_df.columns"
   ]
  },
  {
   "cell_type": "markdown",
   "id": "8ecadfe8-4510-42ad-96f3-8ebf16f018c9",
   "metadata": {},
   "source": [
    "### Preprocessing the target column (`review`)\n",
    "\n",
    "Now that we have preprocessed the reviews into numeric features for machine learning, we must also adddress the target column, `source`. Here we have a single column with values 'yelp', 'amazon', 'rottentomatoes' - we would like these to be integer values to represent categorical buckets (classes) for supervised learning - using a classification model."
   ]
  },
  {
   "cell_type": "markdown",
   "id": "1b3e695d-c6c8-4eff-b085-0c85a52e9ab8",
   "metadata": {},
   "source": [
    "One way to do this is using the `map` method from pandas and providing a dictionary to map the distinct values in the column to corresponding integer values:"
   ]
  },
  {
   "cell_type": "code",
   "execution_count": 51,
   "id": "774a39a8-6398-4d1a-9268-965dd7684794",
   "metadata": {},
   "outputs": [
    {
     "data": {
      "text/plain": [
       "0        0\n",
       "1        0\n",
       "2        0\n",
       "3        0\n",
       "4        0\n",
       "        ..\n",
       "14995    2\n",
       "14996    2\n",
       "14997    2\n",
       "14998    2\n",
       "14999    2\n",
       "Name: source, Length: 15000, dtype: int64"
      ]
     },
     "execution_count": 51,
     "metadata": {},
     "output_type": "execute_result"
    }
   ],
   "source": [
    "# Method 1 - using pd.Series.map\n",
    "df['source'].map({'yelp':0, 'rottentomatoes':1, 'amazon':2})"
   ]
  },
  {
   "cell_type": "code",
   "execution_count": 52,
   "id": "2121691a-db8b-45f6-b86a-6789d455fb96",
   "metadata": {},
   "outputs": [
    {
     "data": {
      "text/plain": [
       "source\n",
       "0    5000\n",
       "1    5000\n",
       "2    5000\n",
       "Name: count, dtype: int64"
      ]
     },
     "execution_count": 52,
     "metadata": {},
     "output_type": "execute_result"
    }
   ],
   "source": [
    "# Check\n",
    "df['source'].map({'yelp':0, 'rottentomatoes':1, 'amazon':2}).value_counts()"
   ]
  },
  {
   "cell_type": "markdown",
   "id": "29552c0a-cfeb-438c-8781-9bbeb908190f",
   "metadata": {},
   "source": [
    "This is fine, because we know the distinct values which appear in our target column, and the number of distinct values (*i.e.* the cardinality of the target) is low (3). What if we don't know all the different values and/or there are a very large number of categories (*i.e.* the target has very high cardinality)? Here using the `map` function would be difficult or perhaps not possible.\n",
    "\n",
    "Instead, this would be a case where we would use the `LabelEncoder` from scikit-learn: https://scikit-learn.org/stable/modules/generated/sklearn.preprocessing.LabelEncoder.html\n",
    "\n",
    "As with other 'transformer' type classes in sklearn, we instantiate and then call `fit_transform`:"
   ]
  },
  {
   "cell_type": "code",
   "execution_count": 53,
   "id": "c6612db6-f20d-4a72-a39c-af9824267aaf",
   "metadata": {},
   "outputs": [],
   "source": [
    "# import\n",
    "from sklearn.preprocessing import LabelEncoder\n",
    "\n",
    "# instantiate\n",
    "le = LabelEncoder()\n",
    "\n",
    "# fit-transform\n",
    "y = pd.Series(le.fit_transform(df['source']))"
   ]
  },
  {
   "cell_type": "code",
   "execution_count": 54,
   "id": "0ebc719e-62ce-418e-8d5c-cf23d9fb26dc",
   "metadata": {},
   "outputs": [
    {
     "data": {
      "text/plain": [
       "0        2\n",
       "1        2\n",
       "2        2\n",
       "3        2\n",
       "4        2\n",
       "        ..\n",
       "14995    0\n",
       "14996    0\n",
       "14997    0\n",
       "14998    0\n",
       "14999    0\n",
       "Length: 15000, dtype: int32"
      ]
     },
     "execution_count": 54,
     "metadata": {},
     "output_type": "execute_result"
    }
   ],
   "source": [
    "# Check\n",
    "y"
   ]
  },
  {
   "cell_type": "markdown",
   "id": "7b938d20-0a9b-4992-9d72-21f2c9b95a1a",
   "metadata": {},
   "source": [
    "The distinct classes found in the target column are stored in the `.classes_` attribute in the LabelEncoder:"
   ]
  },
  {
   "cell_type": "code",
   "execution_count": 55,
   "id": "731dd1d0-d3a5-451d-98e2-e1e5c1a5a77c",
   "metadata": {},
   "outputs": [
    {
     "data": {
      "text/plain": [
       "array(['amazon', 'rottentomatoes', 'yelp'], dtype=object)"
      ]
     },
     "execution_count": 55,
     "metadata": {},
     "output_type": "execute_result"
    }
   ],
   "source": [
    "le.classes_"
   ]
  },
  {
   "cell_type": "code",
   "execution_count": 56,
   "id": "dad87c01-e4cd-4f23-85f8-762ff4d7c809",
   "metadata": {},
   "outputs": [
    {
     "data": {
      "text/plain": [
       "2    5000\n",
       "1    5000\n",
       "0    5000\n",
       "Name: count, dtype: int64"
      ]
     },
     "execution_count": 56,
     "metadata": {},
     "output_type": "execute_result"
    }
   ],
   "source": [
    "# Check\n",
    "y.value_counts()"
   ]
  },
  {
   "cell_type": "markdown",
   "id": "ed492e06-1672-4bba-ad43-3e91d69c3536",
   "metadata": {},
   "source": [
    "## Machine Learning\n",
    "\n",
    "Now that we've completed all the preprocessing we can move forward into the machine learning piece of the case study to build our MVP model. We have already created our target feature, `y`, above, and the document-term matrix dataframe will serve as our input features, `X`:"
   ]
  },
  {
   "cell_type": "code",
   "execution_count": 57,
   "id": "7596c003-c814-4b33-b8d0-678741d2ce27",
   "metadata": {},
   "outputs": [],
   "source": [
    "# Training data\n",
    "X = dtm_df\n",
    "\n",
    "# If on Colab Free or low resource machine, uncomment below\n",
    "# Use original sparse document-term matrix for training\n",
    "# X = dtm\n",
    "\n",
    "# y is already assigned"
   ]
  },
  {
   "cell_type": "markdown",
   "id": "1a1cb1b4-384b-4b71-a071-411588b96515",
   "metadata": {},
   "source": [
    "Next, we split our data into training and test sets. Note that this is a naive approach, and more in-depth approaches such as [cross-validation](https://en.wikipedia.org/wiki/Cross-validation_(statistics)) should be used, however this is fine for our MVP. Because we have a sizeable number of observations (15K), we can use a smaller test size - we choose 13.3% so that our train and test sets shake out to round numbers evenly:"
   ]
  },
  {
   "cell_type": "code",
   "execution_count": 58,
   "id": "93720653-f610-48cb-a830-c60be55cdd89",
   "metadata": {},
   "outputs": [],
   "source": [
    "# Train test split\n",
    "from sklearn.model_selection import train_test_split\n",
    "\n",
    "X_train, X_test, y_train, y_test = train_test_split(X, y, test_size=0.1333333)"
   ]
  },
  {
   "cell_type": "markdown",
   "id": "a483f671-43e6-47f8-a005-7c601a895d00",
   "metadata": {},
   "source": [
    "Let's check the train and test set sizes:"
   ]
  },
  {
   "cell_type": "code",
   "execution_count": 59,
   "id": "9d842aff-d48d-4e39-be11-d9956b88bdf6",
   "metadata": {},
   "outputs": [
    {
     "data": {
      "text/plain": [
       "(13000, 33715)"
      ]
     },
     "execution_count": 59,
     "metadata": {},
     "output_type": "execute_result"
    }
   ],
   "source": [
    "# Check\n",
    "X_train.shape"
   ]
  },
  {
   "cell_type": "code",
   "execution_count": 60,
   "id": "d66362d8-7fa8-485d-b0bb-de4c8211dc4d",
   "metadata": {},
   "outputs": [
    {
     "data": {
      "text/plain": [
       "(2000, 33715)"
      ]
     },
     "execution_count": 60,
     "metadata": {},
     "output_type": "execute_result"
    }
   ],
   "source": [
    "X_test.shape"
   ]
  },
  {
   "cell_type": "code",
   "execution_count": 61,
   "id": "b862e5a6-8cce-4adf-8f28-490e5a79cdc7",
   "metadata": {},
   "outputs": [
    {
     "name": "stdout",
     "output_type": "stream",
     "text": [
      "438,295,000\n"
     ]
    }
   ],
   "source": [
    "print(f'{X_train.shape[0]*X_train.shape[1]:,}')"
   ]
  },
  {
   "cell_type": "markdown",
   "id": "6d1827f1-4014-424f-bf49-a5aeaa89b57f",
   "metadata": {},
   "source": [
    "We have 13K reviews in the training set, and 2K in test. There are a total of ~438M elements in the training data! How large is the training data array in memory?"
   ]
  },
  {
   "cell_type": "code",
   "execution_count": 62,
   "id": "77e39ea4-ae7a-49e6-a566-afd4b6aa4183",
   "metadata": {},
   "outputs": [
    {
     "data": {
      "text/plain": [
       "3.2656491100788116"
      ]
     },
     "execution_count": 62,
     "metadata": {},
     "output_type": "execute_result"
    }
   ],
   "source": [
    "import sys\n",
    "\n",
    "# Size of data in GB\n",
    "sys.getsizeof(X_train)/(1024**3)"
   ]
  },
  {
   "cell_type": "markdown",
   "id": "6a0e208c-875c-4fa8-81f7-7c4c9ddf7d03",
   "metadata": {},
   "source": [
    "The training data is ~3.3 GB! This may be challenging for lower-end machines or environments such as Google Colab free. Nonetheless, we press forward and fit our v0 model - the actual machine learning piece is very straightforward with only 3-4 lines of code, as we saw in [Section 3 of the course](https://nlpfor.me):"
   ]
  },
  {
   "cell_type": "code",
   "execution_count": 63,
   "id": "03f93872-ba33-49f5-ba66-e54b5047f3a9",
   "metadata": {},
   "outputs": [
    {
     "data": {
      "text/html": [
       "<style>#sk-container-id-1 {\n",
       "  /* Definition of color scheme common for light and dark mode */\n",
       "  --sklearn-color-text: black;\n",
       "  --sklearn-color-line: gray;\n",
       "  /* Definition of color scheme for unfitted estimators */\n",
       "  --sklearn-color-unfitted-level-0: #fff5e6;\n",
       "  --sklearn-color-unfitted-level-1: #f6e4d2;\n",
       "  --sklearn-color-unfitted-level-2: #ffe0b3;\n",
       "  --sklearn-color-unfitted-level-3: chocolate;\n",
       "  /* Definition of color scheme for fitted estimators */\n",
       "  --sklearn-color-fitted-level-0: #f0f8ff;\n",
       "  --sklearn-color-fitted-level-1: #d4ebff;\n",
       "  --sklearn-color-fitted-level-2: #b3dbfd;\n",
       "  --sklearn-color-fitted-level-3: cornflowerblue;\n",
       "\n",
       "  /* Specific color for light theme */\n",
       "  --sklearn-color-text-on-default-background: var(--sg-text-color, var(--theme-code-foreground, var(--jp-content-font-color1, black)));\n",
       "  --sklearn-color-background: var(--sg-background-color, var(--theme-background, var(--jp-layout-color0, white)));\n",
       "  --sklearn-color-border-box: var(--sg-text-color, var(--theme-code-foreground, var(--jp-content-font-color1, black)));\n",
       "  --sklearn-color-icon: #696969;\n",
       "\n",
       "  @media (prefers-color-scheme: dark) {\n",
       "    /* Redefinition of color scheme for dark theme */\n",
       "    --sklearn-color-text-on-default-background: var(--sg-text-color, var(--theme-code-foreground, var(--jp-content-font-color1, white)));\n",
       "    --sklearn-color-background: var(--sg-background-color, var(--theme-background, var(--jp-layout-color0, #111)));\n",
       "    --sklearn-color-border-box: var(--sg-text-color, var(--theme-code-foreground, var(--jp-content-font-color1, white)));\n",
       "    --sklearn-color-icon: #878787;\n",
       "  }\n",
       "}\n",
       "\n",
       "#sk-container-id-1 {\n",
       "  color: var(--sklearn-color-text);\n",
       "}\n",
       "\n",
       "#sk-container-id-1 pre {\n",
       "  padding: 0;\n",
       "}\n",
       "\n",
       "#sk-container-id-1 input.sk-hidden--visually {\n",
       "  border: 0;\n",
       "  clip: rect(1px 1px 1px 1px);\n",
       "  clip: rect(1px, 1px, 1px, 1px);\n",
       "  height: 1px;\n",
       "  margin: -1px;\n",
       "  overflow: hidden;\n",
       "  padding: 0;\n",
       "  position: absolute;\n",
       "  width: 1px;\n",
       "}\n",
       "\n",
       "#sk-container-id-1 div.sk-dashed-wrapped {\n",
       "  border: 1px dashed var(--sklearn-color-line);\n",
       "  margin: 0 0.4em 0.5em 0.4em;\n",
       "  box-sizing: border-box;\n",
       "  padding-bottom: 0.4em;\n",
       "  background-color: var(--sklearn-color-background);\n",
       "}\n",
       "\n",
       "#sk-container-id-1 div.sk-container {\n",
       "  /* jupyter's `normalize.less` sets `[hidden] { display: none; }`\n",
       "     but bootstrap.min.css set `[hidden] { display: none !important; }`\n",
       "     so we also need the `!important` here to be able to override the\n",
       "     default hidden behavior on the sphinx rendered scikit-learn.org.\n",
       "     See: https://github.com/scikit-learn/scikit-learn/issues/21755 */\n",
       "  display: inline-block !important;\n",
       "  position: relative;\n",
       "}\n",
       "\n",
       "#sk-container-id-1 div.sk-text-repr-fallback {\n",
       "  display: none;\n",
       "}\n",
       "\n",
       "div.sk-parallel-item,\n",
       "div.sk-serial,\n",
       "div.sk-item {\n",
       "  /* draw centered vertical line to link estimators */\n",
       "  background-image: linear-gradient(var(--sklearn-color-text-on-default-background), var(--sklearn-color-text-on-default-background));\n",
       "  background-size: 2px 100%;\n",
       "  background-repeat: no-repeat;\n",
       "  background-position: center center;\n",
       "}\n",
       "\n",
       "/* Parallel-specific style estimator block */\n",
       "\n",
       "#sk-container-id-1 div.sk-parallel-item::after {\n",
       "  content: \"\";\n",
       "  width: 100%;\n",
       "  border-bottom: 2px solid var(--sklearn-color-text-on-default-background);\n",
       "  flex-grow: 1;\n",
       "}\n",
       "\n",
       "#sk-container-id-1 div.sk-parallel {\n",
       "  display: flex;\n",
       "  align-items: stretch;\n",
       "  justify-content: center;\n",
       "  background-color: var(--sklearn-color-background);\n",
       "  position: relative;\n",
       "}\n",
       "\n",
       "#sk-container-id-1 div.sk-parallel-item {\n",
       "  display: flex;\n",
       "  flex-direction: column;\n",
       "}\n",
       "\n",
       "#sk-container-id-1 div.sk-parallel-item:first-child::after {\n",
       "  align-self: flex-end;\n",
       "  width: 50%;\n",
       "}\n",
       "\n",
       "#sk-container-id-1 div.sk-parallel-item:last-child::after {\n",
       "  align-self: flex-start;\n",
       "  width: 50%;\n",
       "}\n",
       "\n",
       "#sk-container-id-1 div.sk-parallel-item:only-child::after {\n",
       "  width: 0;\n",
       "}\n",
       "\n",
       "/* Serial-specific style estimator block */\n",
       "\n",
       "#sk-container-id-1 div.sk-serial {\n",
       "  display: flex;\n",
       "  flex-direction: column;\n",
       "  align-items: center;\n",
       "  background-color: var(--sklearn-color-background);\n",
       "  padding-right: 1em;\n",
       "  padding-left: 1em;\n",
       "}\n",
       "\n",
       "\n",
       "/* Toggleable style: style used for estimator/Pipeline/ColumnTransformer box that is\n",
       "clickable and can be expanded/collapsed.\n",
       "- Pipeline and ColumnTransformer use this feature and define the default style\n",
       "- Estimators will overwrite some part of the style using the `sk-estimator` class\n",
       "*/\n",
       "\n",
       "/* Pipeline and ColumnTransformer style (default) */\n",
       "\n",
       "#sk-container-id-1 div.sk-toggleable {\n",
       "  /* Default theme specific background. It is overwritten whether we have a\n",
       "  specific estimator or a Pipeline/ColumnTransformer */\n",
       "  background-color: var(--sklearn-color-background);\n",
       "}\n",
       "\n",
       "/* Toggleable label */\n",
       "#sk-container-id-1 label.sk-toggleable__label {\n",
       "  cursor: pointer;\n",
       "  display: block;\n",
       "  width: 100%;\n",
       "  margin-bottom: 0;\n",
       "  padding: 0.5em;\n",
       "  box-sizing: border-box;\n",
       "  text-align: center;\n",
       "}\n",
       "\n",
       "#sk-container-id-1 label.sk-toggleable__label-arrow:before {\n",
       "  /* Arrow on the left of the label */\n",
       "  content: \"▸\";\n",
       "  float: left;\n",
       "  margin-right: 0.25em;\n",
       "  color: var(--sklearn-color-icon);\n",
       "}\n",
       "\n",
       "#sk-container-id-1 label.sk-toggleable__label-arrow:hover:before {\n",
       "  color: var(--sklearn-color-text);\n",
       "}\n",
       "\n",
       "/* Toggleable content - dropdown */\n",
       "\n",
       "#sk-container-id-1 div.sk-toggleable__content {\n",
       "  max-height: 0;\n",
       "  max-width: 0;\n",
       "  overflow: hidden;\n",
       "  text-align: left;\n",
       "  /* unfitted */\n",
       "  background-color: var(--sklearn-color-unfitted-level-0);\n",
       "}\n",
       "\n",
       "#sk-container-id-1 div.sk-toggleable__content.fitted {\n",
       "  /* fitted */\n",
       "  background-color: var(--sklearn-color-fitted-level-0);\n",
       "}\n",
       "\n",
       "#sk-container-id-1 div.sk-toggleable__content pre {\n",
       "  margin: 0.2em;\n",
       "  border-radius: 0.25em;\n",
       "  color: var(--sklearn-color-text);\n",
       "  /* unfitted */\n",
       "  background-color: var(--sklearn-color-unfitted-level-0);\n",
       "}\n",
       "\n",
       "#sk-container-id-1 div.sk-toggleable__content.fitted pre {\n",
       "  /* unfitted */\n",
       "  background-color: var(--sklearn-color-fitted-level-0);\n",
       "}\n",
       "\n",
       "#sk-container-id-1 input.sk-toggleable__control:checked~div.sk-toggleable__content {\n",
       "  /* Expand drop-down */\n",
       "  max-height: 200px;\n",
       "  max-width: 100%;\n",
       "  overflow: auto;\n",
       "}\n",
       "\n",
       "#sk-container-id-1 input.sk-toggleable__control:checked~label.sk-toggleable__label-arrow:before {\n",
       "  content: \"▾\";\n",
       "}\n",
       "\n",
       "/* Pipeline/ColumnTransformer-specific style */\n",
       "\n",
       "#sk-container-id-1 div.sk-label input.sk-toggleable__control:checked~label.sk-toggleable__label {\n",
       "  color: var(--sklearn-color-text);\n",
       "  background-color: var(--sklearn-color-unfitted-level-2);\n",
       "}\n",
       "\n",
       "#sk-container-id-1 div.sk-label.fitted input.sk-toggleable__control:checked~label.sk-toggleable__label {\n",
       "  background-color: var(--sklearn-color-fitted-level-2);\n",
       "}\n",
       "\n",
       "/* Estimator-specific style */\n",
       "\n",
       "/* Colorize estimator box */\n",
       "#sk-container-id-1 div.sk-estimator input.sk-toggleable__control:checked~label.sk-toggleable__label {\n",
       "  /* unfitted */\n",
       "  background-color: var(--sklearn-color-unfitted-level-2);\n",
       "}\n",
       "\n",
       "#sk-container-id-1 div.sk-estimator.fitted input.sk-toggleable__control:checked~label.sk-toggleable__label {\n",
       "  /* fitted */\n",
       "  background-color: var(--sklearn-color-fitted-level-2);\n",
       "}\n",
       "\n",
       "#sk-container-id-1 div.sk-label label.sk-toggleable__label,\n",
       "#sk-container-id-1 div.sk-label label {\n",
       "  /* The background is the default theme color */\n",
       "  color: var(--sklearn-color-text-on-default-background);\n",
       "}\n",
       "\n",
       "/* On hover, darken the color of the background */\n",
       "#sk-container-id-1 div.sk-label:hover label.sk-toggleable__label {\n",
       "  color: var(--sklearn-color-text);\n",
       "  background-color: var(--sklearn-color-unfitted-level-2);\n",
       "}\n",
       "\n",
       "/* Label box, darken color on hover, fitted */\n",
       "#sk-container-id-1 div.sk-label.fitted:hover label.sk-toggleable__label.fitted {\n",
       "  color: var(--sklearn-color-text);\n",
       "  background-color: var(--sklearn-color-fitted-level-2);\n",
       "}\n",
       "\n",
       "/* Estimator label */\n",
       "\n",
       "#sk-container-id-1 div.sk-label label {\n",
       "  font-family: monospace;\n",
       "  font-weight: bold;\n",
       "  display: inline-block;\n",
       "  line-height: 1.2em;\n",
       "}\n",
       "\n",
       "#sk-container-id-1 div.sk-label-container {\n",
       "  text-align: center;\n",
       "}\n",
       "\n",
       "/* Estimator-specific */\n",
       "#sk-container-id-1 div.sk-estimator {\n",
       "  font-family: monospace;\n",
       "  border: 1px dotted var(--sklearn-color-border-box);\n",
       "  border-radius: 0.25em;\n",
       "  box-sizing: border-box;\n",
       "  margin-bottom: 0.5em;\n",
       "  /* unfitted */\n",
       "  background-color: var(--sklearn-color-unfitted-level-0);\n",
       "}\n",
       "\n",
       "#sk-container-id-1 div.sk-estimator.fitted {\n",
       "  /* fitted */\n",
       "  background-color: var(--sklearn-color-fitted-level-0);\n",
       "}\n",
       "\n",
       "/* on hover */\n",
       "#sk-container-id-1 div.sk-estimator:hover {\n",
       "  /* unfitted */\n",
       "  background-color: var(--sklearn-color-unfitted-level-2);\n",
       "}\n",
       "\n",
       "#sk-container-id-1 div.sk-estimator.fitted:hover {\n",
       "  /* fitted */\n",
       "  background-color: var(--sklearn-color-fitted-level-2);\n",
       "}\n",
       "\n",
       "/* Specification for estimator info (e.g. \"i\" and \"?\") */\n",
       "\n",
       "/* Common style for \"i\" and \"?\" */\n",
       "\n",
       ".sk-estimator-doc-link,\n",
       "a:link.sk-estimator-doc-link,\n",
       "a:visited.sk-estimator-doc-link {\n",
       "  float: right;\n",
       "  font-size: smaller;\n",
       "  line-height: 1em;\n",
       "  font-family: monospace;\n",
       "  background-color: var(--sklearn-color-background);\n",
       "  border-radius: 1em;\n",
       "  height: 1em;\n",
       "  width: 1em;\n",
       "  text-decoration: none !important;\n",
       "  margin-left: 1ex;\n",
       "  /* unfitted */\n",
       "  border: var(--sklearn-color-unfitted-level-1) 1pt solid;\n",
       "  color: var(--sklearn-color-unfitted-level-1);\n",
       "}\n",
       "\n",
       ".sk-estimator-doc-link.fitted,\n",
       "a:link.sk-estimator-doc-link.fitted,\n",
       "a:visited.sk-estimator-doc-link.fitted {\n",
       "  /* fitted */\n",
       "  border: var(--sklearn-color-fitted-level-1) 1pt solid;\n",
       "  color: var(--sklearn-color-fitted-level-1);\n",
       "}\n",
       "\n",
       "/* On hover */\n",
       "div.sk-estimator:hover .sk-estimator-doc-link:hover,\n",
       ".sk-estimator-doc-link:hover,\n",
       "div.sk-label-container:hover .sk-estimator-doc-link:hover,\n",
       ".sk-estimator-doc-link:hover {\n",
       "  /* unfitted */\n",
       "  background-color: var(--sklearn-color-unfitted-level-3);\n",
       "  color: var(--sklearn-color-background);\n",
       "  text-decoration: none;\n",
       "}\n",
       "\n",
       "div.sk-estimator.fitted:hover .sk-estimator-doc-link.fitted:hover,\n",
       ".sk-estimator-doc-link.fitted:hover,\n",
       "div.sk-label-container:hover .sk-estimator-doc-link.fitted:hover,\n",
       ".sk-estimator-doc-link.fitted:hover {\n",
       "  /* fitted */\n",
       "  background-color: var(--sklearn-color-fitted-level-3);\n",
       "  color: var(--sklearn-color-background);\n",
       "  text-decoration: none;\n",
       "}\n",
       "\n",
       "/* Span, style for the box shown on hovering the info icon */\n",
       ".sk-estimator-doc-link span {\n",
       "  display: none;\n",
       "  z-index: 9999;\n",
       "  position: relative;\n",
       "  font-weight: normal;\n",
       "  right: .2ex;\n",
       "  padding: .5ex;\n",
       "  margin: .5ex;\n",
       "  width: min-content;\n",
       "  min-width: 20ex;\n",
       "  max-width: 50ex;\n",
       "  color: var(--sklearn-color-text);\n",
       "  box-shadow: 2pt 2pt 4pt #999;\n",
       "  /* unfitted */\n",
       "  background: var(--sklearn-color-unfitted-level-0);\n",
       "  border: .5pt solid var(--sklearn-color-unfitted-level-3);\n",
       "}\n",
       "\n",
       ".sk-estimator-doc-link.fitted span {\n",
       "  /* fitted */\n",
       "  background: var(--sklearn-color-fitted-level-0);\n",
       "  border: var(--sklearn-color-fitted-level-3);\n",
       "}\n",
       "\n",
       ".sk-estimator-doc-link:hover span {\n",
       "  display: block;\n",
       "}\n",
       "\n",
       "/* \"?\"-specific style due to the `<a>` HTML tag */\n",
       "\n",
       "#sk-container-id-1 a.estimator_doc_link {\n",
       "  float: right;\n",
       "  font-size: 1rem;\n",
       "  line-height: 1em;\n",
       "  font-family: monospace;\n",
       "  background-color: var(--sklearn-color-background);\n",
       "  border-radius: 1rem;\n",
       "  height: 1rem;\n",
       "  width: 1rem;\n",
       "  text-decoration: none;\n",
       "  /* unfitted */\n",
       "  color: var(--sklearn-color-unfitted-level-1);\n",
       "  border: var(--sklearn-color-unfitted-level-1) 1pt solid;\n",
       "}\n",
       "\n",
       "#sk-container-id-1 a.estimator_doc_link.fitted {\n",
       "  /* fitted */\n",
       "  border: var(--sklearn-color-fitted-level-1) 1pt solid;\n",
       "  color: var(--sklearn-color-fitted-level-1);\n",
       "}\n",
       "\n",
       "/* On hover */\n",
       "#sk-container-id-1 a.estimator_doc_link:hover {\n",
       "  /* unfitted */\n",
       "  background-color: var(--sklearn-color-unfitted-level-3);\n",
       "  color: var(--sklearn-color-background);\n",
       "  text-decoration: none;\n",
       "}\n",
       "\n",
       "#sk-container-id-1 a.estimator_doc_link.fitted:hover {\n",
       "  /* fitted */\n",
       "  background-color: var(--sklearn-color-fitted-level-3);\n",
       "}\n",
       "</style><div id=\"sk-container-id-1\" class=\"sk-top-container\"><div class=\"sk-text-repr-fallback\"><pre>LogisticRegression()</pre><b>In a Jupyter environment, please rerun this cell to show the HTML representation or trust the notebook. <br />On GitHub, the HTML representation is unable to render, please try loading this page with nbviewer.org.</b></div><div class=\"sk-container\" hidden><div class=\"sk-item\"><div class=\"sk-estimator fitted sk-toggleable\"><input class=\"sk-toggleable__control sk-hidden--visually\" id=\"sk-estimator-id-1\" type=\"checkbox\" checked><label for=\"sk-estimator-id-1\" class=\"sk-toggleable__label fitted sk-toggleable__label-arrow fitted\">&nbsp;&nbsp;LogisticRegression<a class=\"sk-estimator-doc-link fitted\" rel=\"noreferrer\" target=\"_blank\" href=\"https://scikit-learn.org/1.5/modules/generated/sklearn.linear_model.LogisticRegression.html\">?<span>Documentation for LogisticRegression</span></a><span class=\"sk-estimator-doc-link fitted\">i<span>Fitted</span></span></label><div class=\"sk-toggleable__content fitted\"><pre>LogisticRegression()</pre></div> </div></div></div></div>"
      ],
      "text/plain": [
       "LogisticRegression()"
      ]
     },
     "execution_count": 63,
     "metadata": {},
     "output_type": "execute_result"
    }
   ],
   "source": [
    "# ML\n",
    "from sklearn.linear_model import LogisticRegression\n",
    "\n",
    "# 1. Instantiate\n",
    "logreg = LogisticRegression()\n",
    "\n",
    "# 2. Fit\n",
    "logreg.fit(X_train, y_train)"
   ]
  },
  {
   "cell_type": "markdown",
   "id": "baf10261-710d-4df9-abce-23ed81308ba4",
   "metadata": {},
   "source": [
    "We have fit a very simple 'vanilla' Logistic Regression model. Let's check for overfitting by evaluating on the training and test sets:"
   ]
  },
  {
   "cell_type": "code",
   "execution_count": 64,
   "id": "22adbc54-25f3-464b-9046-4b55df030edb",
   "metadata": {},
   "outputs": [
    {
     "name": "stdout",
     "output_type": "stream",
     "text": [
      "0.9966923076923077\n",
      "0.972\n"
     ]
    }
   ],
   "source": [
    "# 3. Evaluate\n",
    "print(logreg.score(X_train, y_train))\n",
    "print(logreg.score(X_test, y_test))"
   ]
  },
  {
   "cell_type": "markdown",
   "id": "1f0cbe3a-5242-45d4-bfdc-ea1b61fe1615",
   "metadata": {},
   "source": [
    "While the training score is higher as to be expected, there is not a significant delta between train and test, so there is not extreme overfitting occurring which is good 👍"
   ]
  },
  {
   "cell_type": "markdown",
   "id": "2528919a-bffe-44b2-b0e3-1784305dfea4",
   "metadata": {},
   "source": [
    "## Testing Our Model"
   ]
  },
  {
   "cell_type": "markdown",
   "id": "b47d9517-fbaf-4aff-8017-261e1bfdc5d6",
   "metadata": {},
   "source": [
    "Now that we have fit our MVP model, we can test on some new data from reviews which appeared on the website to \"smoke test\" and see if it performs as expected. Here is a sample of three reviews, in the restaurant, movie, and retail categories:"
   ]
  },
  {
   "cell_type": "code",
   "execution_count": 65,
   "id": "969a8a0f-5a1b-4309-93ee-db21c4895a66",
   "metadata": {},
   "outputs": [],
   "source": [
    "new_data = ['Absolutely loved this place! Would recommend!', \\\n",
    "            'Complete trash... avoid this film at all costs, I hate this director', \\\n",
    "            'Garbage product, screen did not power on, was a greasy film on the back immediately after I bought it. Will be returning it.']"
   ]
  },
  {
   "cell_type": "markdown",
   "id": "37b4804d-4e11-4460-aaf6-110b0d391f4e",
   "metadata": {},
   "source": [
    "We need to put this data through the same preprocessing as our training data to fit it into the model - *i.e.* clean / normalize, tokenize, remove stopwords, vectorize, etc.\n",
    "\n",
    "Fortunately for us, we wrote a reusable function to do the former - so this is now just a simple function call passing in the data as a pandas Series:\n"
   ]
  },
  {
   "cell_type": "code",
   "execution_count": 66,
   "id": "83062eef-6567-4101-a36f-ac0c79eadd1c",
   "metadata": {},
   "outputs": [
    {
     "data": {
      "text/plain": [
       "0          absolutely loved this place would recommend\n",
       "1    complete trash avoid this film at all costs i ...\n",
       "2    garbage product screen did not power on was a ...\n",
       "dtype: object"
      ]
     },
     "execution_count": 66,
     "metadata": {},
     "output_type": "execute_result"
    }
   ],
   "source": [
    "# Create a pandas series\n",
    "new_reviews = pd.Series(new_data)\n",
    "\n",
    "# Test review function\n",
    "new_reviews = preprocess_text(new_reviews)\n",
    "\n",
    "new_reviews"
   ]
  },
  {
   "cell_type": "markdown",
   "id": "1b67c1a5-a47b-47fa-bd39-7cb185a5eff3",
   "metadata": {},
   "source": [
    "Great. Now we need to count vectorize the processed data using the originally fit count vectorizer, as our model expects numeric input with the 33,715 tokens (features) as from the original training data:"
   ]
  },
  {
   "cell_type": "code",
   "execution_count": 67,
   "id": "63a8c805-5569-4d8a-97ca-ab5932df53be",
   "metadata": {},
   "outputs": [
    {
     "data": {
      "text/html": [
       "<div>\n",
       "<style scoped>\n",
       "    .dataframe tbody tr th:only-of-type {\n",
       "        vertical-align: middle;\n",
       "    }\n",
       "\n",
       "    .dataframe tbody tr th {\n",
       "        vertical-align: top;\n",
       "    }\n",
       "\n",
       "    .dataframe thead th {\n",
       "        text-align: right;\n",
       "    }\n",
       "</style>\n",
       "<table border=\"1\" class=\"dataframe\">\n",
       "  <thead>\n",
       "    <tr style=\"text-align: right;\">\n",
       "      <th></th>\n",
       "      <th>00</th>\n",
       "      <th>007</th>\n",
       "      <th>01</th>\n",
       "      <th>01042012</th>\n",
       "      <th>03342</th>\n",
       "      <th>039</th>\n",
       "      <th>050</th>\n",
       "      <th>06</th>\n",
       "      <th>07092008</th>\n",
       "      <th>075</th>\n",
       "      <th>...</th>\n",
       "      <th>äúshow</th>\n",
       "      <th>äúskills</th>\n",
       "      <th>äústar</th>\n",
       "      <th>äúthings</th>\n",
       "      <th>école</th>\n",
       "      <th>ém</th>\n",
       "      <th>ótimo</th>\n",
       "      <th>ôºå</th>\n",
       "      <th>única</th>\n",
       "      <th>único</th>\n",
       "    </tr>\n",
       "  </thead>\n",
       "  <tbody>\n",
       "    <tr>\n",
       "      <th>0</th>\n",
       "      <td>0</td>\n",
       "      <td>0</td>\n",
       "      <td>0</td>\n",
       "      <td>0</td>\n",
       "      <td>0</td>\n",
       "      <td>0</td>\n",
       "      <td>0</td>\n",
       "      <td>0</td>\n",
       "      <td>0</td>\n",
       "      <td>0</td>\n",
       "      <td>...</td>\n",
       "      <td>0</td>\n",
       "      <td>0</td>\n",
       "      <td>0</td>\n",
       "      <td>0</td>\n",
       "      <td>0</td>\n",
       "      <td>0</td>\n",
       "      <td>0</td>\n",
       "      <td>0</td>\n",
       "      <td>0</td>\n",
       "      <td>0</td>\n",
       "    </tr>\n",
       "    <tr>\n",
       "      <th>1</th>\n",
       "      <td>0</td>\n",
       "      <td>0</td>\n",
       "      <td>0</td>\n",
       "      <td>0</td>\n",
       "      <td>0</td>\n",
       "      <td>0</td>\n",
       "      <td>0</td>\n",
       "      <td>0</td>\n",
       "      <td>0</td>\n",
       "      <td>0</td>\n",
       "      <td>...</td>\n",
       "      <td>0</td>\n",
       "      <td>0</td>\n",
       "      <td>0</td>\n",
       "      <td>0</td>\n",
       "      <td>0</td>\n",
       "      <td>0</td>\n",
       "      <td>0</td>\n",
       "      <td>0</td>\n",
       "      <td>0</td>\n",
       "      <td>0</td>\n",
       "    </tr>\n",
       "    <tr>\n",
       "      <th>2</th>\n",
       "      <td>0</td>\n",
       "      <td>0</td>\n",
       "      <td>0</td>\n",
       "      <td>0</td>\n",
       "      <td>0</td>\n",
       "      <td>0</td>\n",
       "      <td>0</td>\n",
       "      <td>0</td>\n",
       "      <td>0</td>\n",
       "      <td>0</td>\n",
       "      <td>...</td>\n",
       "      <td>0</td>\n",
       "      <td>0</td>\n",
       "      <td>0</td>\n",
       "      <td>0</td>\n",
       "      <td>0</td>\n",
       "      <td>0</td>\n",
       "      <td>0</td>\n",
       "      <td>0</td>\n",
       "      <td>0</td>\n",
       "      <td>0</td>\n",
       "    </tr>\n",
       "  </tbody>\n",
       "</table>\n",
       "<p>3 rows × 33715 columns</p>\n",
       "</div>"
      ],
      "text/plain": [
       "   00  007  01  01042012  03342  039  050  06  07092008  075  ...  äúshow  \\\n",
       "0   0    0   0         0      0    0    0   0         0    0  ...       0   \n",
       "1   0    0   0         0      0    0    0   0         0    0  ...       0   \n",
       "2   0    0   0         0      0    0    0   0         0    0  ...       0   \n",
       "\n",
       "   äúskills  äústar  äúthings  école  ém  ótimo  ôºå  única  único  \n",
       "0         0       0         0      0   0      0    0      0      0  \n",
       "1         0       0         0      0   0      0    0      0      0  \n",
       "2         0       0         0      0   0      0    0      0      0  \n",
       "\n",
       "[3 rows x 33715 columns]"
      ]
     },
     "execution_count": 67,
     "metadata": {},
     "output_type": "execute_result"
    }
   ],
   "source": [
    "# Count vectorize - CV has already been fit\n",
    "new_dtm = pd.DataFrame(cv.transform(new_reviews).toarray(), columns=cv.get_feature_names_out())\n",
    "\n",
    "new_dtm"
   ]
  },
  {
   "cell_type": "markdown",
   "id": "5bb02819-eaf1-4a33-aec7-54b18f474436",
   "metadata": {},
   "source": [
    "Great! Now we can make predictions. The model returns the class labels (0,1,2) and we can convert these back to the text representations using the `inverse_transform` method in the LabelEncoder:"
   ]
  },
  {
   "cell_type": "code",
   "execution_count": 68,
   "id": "89460e39-919b-46e1-845e-c527523de448",
   "metadata": {},
   "outputs": [
    {
     "data": {
      "text/plain": [
       "array(['yelp', 'rottentomatoes', 'amazon'], dtype=object)"
      ]
     },
     "execution_count": 68,
     "metadata": {},
     "output_type": "execute_result"
    }
   ],
   "source": [
    "# So no we have the data in dtm form\n",
    "# Get class labels and apply inverse transform to get ORIGINAL labels\n",
    "le.inverse_transform(logreg.predict(new_dtm))"
   ]
  },
  {
   "cell_type": "markdown",
   "id": "72c4ba3c-6c9f-4dab-b49a-b9b318347475",
   "metadata": {},
   "source": [
    "It seems to be working well, as it has predicted the categories we expected. We can look in more detail at the model probabilities predicted by using `predict_proba` instead of `.predict`:"
   ]
  },
  {
   "cell_type": "code",
   "execution_count": 69,
   "id": "72f00094-d275-4681-9fee-0b24a8ace99b",
   "metadata": {},
   "outputs": [
    {
     "data": {
      "text/html": [
       "<div>\n",
       "<style scoped>\n",
       "    .dataframe tbody tr th:only-of-type {\n",
       "        vertical-align: middle;\n",
       "    }\n",
       "\n",
       "    .dataframe tbody tr th {\n",
       "        vertical-align: top;\n",
       "    }\n",
       "\n",
       "    .dataframe thead th {\n",
       "        text-align: right;\n",
       "    }\n",
       "</style>\n",
       "<table border=\"1\" class=\"dataframe\">\n",
       "  <thead>\n",
       "    <tr style=\"text-align: right;\">\n",
       "      <th></th>\n",
       "      <th>amazon</th>\n",
       "      <th>rottentomatoes</th>\n",
       "      <th>yelp</th>\n",
       "    </tr>\n",
       "  </thead>\n",
       "  <tbody>\n",
       "    <tr>\n",
       "      <th>0</th>\n",
       "      <td>0.111143</td>\n",
       "      <td>0.028364</td>\n",
       "      <td>0.860493</td>\n",
       "    </tr>\n",
       "    <tr>\n",
       "      <th>1</th>\n",
       "      <td>0.000286</td>\n",
       "      <td>0.999051</td>\n",
       "      <td>0.000663</td>\n",
       "    </tr>\n",
       "    <tr>\n",
       "      <th>2</th>\n",
       "      <td>0.878006</td>\n",
       "      <td>0.121334</td>\n",
       "      <td>0.000660</td>\n",
       "    </tr>\n",
       "  </tbody>\n",
       "</table>\n",
       "</div>"
      ],
      "text/plain": [
       "     amazon  rottentomatoes      yelp\n",
       "0  0.111143        0.028364  0.860493\n",
       "1  0.000286        0.999051  0.000663\n",
       "2  0.878006        0.121334  0.000660"
      ]
     },
     "execution_count": 69,
     "metadata": {},
     "output_type": "execute_result"
    }
   ],
   "source": [
    "pd.DataFrame(logreg.predict_proba(new_dtm), columns=le.classes_)"
   ]
  },
  {
   "cell_type": "markdown",
   "id": "3ad791fe-2ec1-4fc2-9aba-01cb752d018c",
   "metadata": {},
   "source": [
    "We can see that the model is extremely confident (~99.9%) that the second review is a movie review, but less confident in the predictions of reviews 1 & 3. Likely there is some ambiguity in review #3, as words like 'film' and 'screen' would also appear in movie reviews."
   ]
  },
  {
   "cell_type": "markdown",
   "id": "9530fc04-ceb4-43ba-b5cb-6e3f32b54beb",
   "metadata": {},
   "source": [
    "## Model introspection\n",
    "\n",
    "Finally, we can perform model introspection to look at what the model has learned. For Logistic Regression, this means looking at the relative sizes and signs of the coefficients as they related to the different tokens which are predictive of each class.\n",
    "\n",
    "Since we had 3 classes and 33,715 features, the coffiecients array stored in `.coef_` in the fitted Logistic Regression model has these dimensions. We can nicely put this into a pandas dataframe using the labels from the CountVectorizer and LabelEncoder to make clear:"
   ]
  },
  {
   "cell_type": "code",
   "execution_count": 70,
   "id": "f21150d7-7648-45ad-a031-b4efecd3f219",
   "metadata": {},
   "outputs": [
    {
     "data": {
      "text/html": [
       "<div>\n",
       "<style scoped>\n",
       "    .dataframe tbody tr th:only-of-type {\n",
       "        vertical-align: middle;\n",
       "    }\n",
       "\n",
       "    .dataframe tbody tr th {\n",
       "        vertical-align: top;\n",
       "    }\n",
       "\n",
       "    .dataframe thead th {\n",
       "        text-align: right;\n",
       "    }\n",
       "</style>\n",
       "<table border=\"1\" class=\"dataframe\">\n",
       "  <thead>\n",
       "    <tr style=\"text-align: right;\">\n",
       "      <th></th>\n",
       "      <th>amazon</th>\n",
       "      <th>rottentomatoes</th>\n",
       "      <th>yelp</th>\n",
       "    </tr>\n",
       "  </thead>\n",
       "  <tbody>\n",
       "    <tr>\n",
       "      <th>00</th>\n",
       "      <td>-0.000958</td>\n",
       "      <td>-0.000332</td>\n",
       "      <td>0.001290</td>\n",
       "    </tr>\n",
       "    <tr>\n",
       "      <th>007</th>\n",
       "      <td>-0.010189</td>\n",
       "      <td>0.023619</td>\n",
       "      <td>-0.013430</td>\n",
       "    </tr>\n",
       "    <tr>\n",
       "      <th>01</th>\n",
       "      <td>0.000004</td>\n",
       "      <td>0.000005</td>\n",
       "      <td>-0.000009</td>\n",
       "    </tr>\n",
       "    <tr>\n",
       "      <th>01042012</th>\n",
       "      <td>-0.000501</td>\n",
       "      <td>-0.000036</td>\n",
       "      <td>0.000537</td>\n",
       "    </tr>\n",
       "    <tr>\n",
       "      <th>03342</th>\n",
       "      <td>0.000005</td>\n",
       "      <td>0.000005</td>\n",
       "      <td>-0.000010</td>\n",
       "    </tr>\n",
       "    <tr>\n",
       "      <th>...</th>\n",
       "      <td>...</td>\n",
       "      <td>...</td>\n",
       "      <td>...</td>\n",
       "    </tr>\n",
       "    <tr>\n",
       "      <th>ém</th>\n",
       "      <td>0.000001</td>\n",
       "      <td>0.000004</td>\n",
       "      <td>-0.000005</td>\n",
       "    </tr>\n",
       "    <tr>\n",
       "      <th>ótimo</th>\n",
       "      <td>-0.009188</td>\n",
       "      <td>0.013575</td>\n",
       "      <td>-0.004387</td>\n",
       "    </tr>\n",
       "    <tr>\n",
       "      <th>ôºå</th>\n",
       "      <td>0.000000</td>\n",
       "      <td>0.000000</td>\n",
       "      <td>0.000000</td>\n",
       "    </tr>\n",
       "    <tr>\n",
       "      <th>única</th>\n",
       "      <td>-0.016219</td>\n",
       "      <td>0.023045</td>\n",
       "      <td>-0.006827</td>\n",
       "    </tr>\n",
       "    <tr>\n",
       "      <th>único</th>\n",
       "      <td>-0.007613</td>\n",
       "      <td>0.018862</td>\n",
       "      <td>-0.011249</td>\n",
       "    </tr>\n",
       "  </tbody>\n",
       "</table>\n",
       "<p>33715 rows × 3 columns</p>\n",
       "</div>"
      ],
      "text/plain": [
       "            amazon  rottentomatoes      yelp\n",
       "00       -0.000958       -0.000332  0.001290\n",
       "007      -0.010189        0.023619 -0.013430\n",
       "01        0.000004        0.000005 -0.000009\n",
       "01042012 -0.000501       -0.000036  0.000537\n",
       "03342     0.000005        0.000005 -0.000010\n",
       "...            ...             ...       ...\n",
       "ém        0.000001        0.000004 -0.000005\n",
       "ótimo    -0.009188        0.013575 -0.004387\n",
       "ôºå       0.000000        0.000000  0.000000\n",
       "única    -0.016219        0.023045 -0.006827\n",
       "único    -0.007613        0.018862 -0.011249\n",
       "\n",
       "[33715 rows x 3 columns]"
      ]
     },
     "execution_count": 70,
     "metadata": {},
     "output_type": "execute_result"
    }
   ],
   "source": [
    "coef_df = pd.DataFrame(logreg.coef_.T, columns=le.classes_, index=cv.get_feature_names_out())\n",
    "coef_df"
   ]
  },
  {
   "cell_type": "markdown",
   "id": "f55f5827-13a8-47b8-ad53-393b747fbad6",
   "metadata": {},
   "source": [
    "We can then visualize this with some matplotlib code to see which tokens are most predictive of each class:"
   ]
  },
  {
   "cell_type": "code",
   "execution_count": 71,
   "id": "514b4daa-40cc-49b1-871e-d7370b1512c7",
   "metadata": {},
   "outputs": [
    {
     "data": {
      "image/png": "[encoded data removed]",
      "text/plain": [
       "<Figure size 1000x500 with 3 Axes>"
      ]
     },
     "metadata": {},
     "output_type": "display_data"
    }
   ],
   "source": [
    "plt.subplots(1, 3, figsize=(10, 5))\n",
    "\n",
    "plt.suptitle('Most Predictive Tokens by Class - Positive')\n",
    "\n",
    "plt.subplot(1,3,1)\n",
    "coef_df['amazon'].nlargest(10).sort_values(ascending=True).plot(kind='barh', color='green')\n",
    "plt.title('Amazon')\n",
    "\n",
    "plt.subplot(1,3,2)\n",
    "coef_df['rottentomatoes'].nlargest(10).sort_values(ascending=True).plot(kind='barh', color='green')\n",
    "plt.title('Rotten Tomatoes')\n",
    "\n",
    "plt.subplot(1,3,3)\n",
    "coef_df['yelp'].nlargest(10).sort_values(ascending=True).plot(kind='barh', color='green')\n",
    "plt.title('Yelp')\n",
    "\n",
    "plt.tight_layout()"
   ]
  },
  {
   "cell_type": "markdown",
   "id": "6e90d400-547c-4871-87bd-880f406a9c46",
   "metadata": {},
   "source": [
    "As we might expected, words like 'alexa', 'tablet', and 'kindle' are highly predictive of the Amazon class, whereas words like 'food', 'place' and 'delicious' are of the Yelp class, and \"movie-like\" words of the RottenTomatoes class. This makes sense, and also reflects the qualitities of the training data.\n",
    "\n",
    "Are there any issues with our model, however? What if we look at the most negatively predictive features (tokens) by class?"
   ]
  },
  {
   "cell_type": "code",
   "execution_count": 72,
   "id": "c590b976-9d2f-41d1-bad0-3a3af962c454",
   "metadata": {},
   "outputs": [
    {
     "data": {
      "image/png": "[encoded data removed]",
      "text/plain": [
       "<Figure size 1000x500 with 3 Axes>"
      ]
     },
     "metadata": {},
     "output_type": "display_data"
    }
   ],
   "source": [
    "plt.subplots(1, 3, figsize=(10, 5))\n",
    "\n",
    "plt.suptitle('Most Predictive Tokens by Class - Negative')\n",
    "\n",
    "plt.subplot(1,3,1)\n",
    "coef_df['amazon'].nsmallest(10).sort_values(ascending=True).plot(kind='barh', color='red')\n",
    "plt.title('Amazon')\n",
    "\n",
    "plt.subplot(1,3,2)\n",
    "coef_df['rottentomatoes'].nsmallest(10).sort_values(ascending=True).plot(kind='barh', color='red')\n",
    "plt.title('Rotten Tomatoes')\n",
    "\n",
    "plt.subplot(1,3,3)\n",
    "coef_df['yelp'].nsmallest(10).sort_values(ascending=True).plot(kind='barh', color='red')\n",
    "plt.title('Yelp')\n",
    "\n",
    "plt.tight_layout()"
   ]
  },
  {
   "cell_type": "markdown",
   "id": "530d03ce-a237-4145-a603-2426d14a8d4c",
   "metadata": {},
   "source": [
    "We can see that the words which are positively predictive for one class are generally in the list of most negatively predictively for the other classes (as each review must belong to one of the three classes). This reflects the nature (bias) of our training data set. From this learning in the MVP, it might make more sense to build a system with individual models for predicting each class if the number of classes is low, or to try using a dataset with a larger number of categories for tagging the site reviews with and see if these issues are addressed in the model training."
   ]
  },
  {
   "cell_type": "markdown",
   "id": "873cbf62-25b2-4ef3-9a97-45c3aa109b93",
   "metadata": {
    "id": "uOsXgUYiwmCW"
   },
   "source": [
    "<div align=\"right\" float=\"right\"><a href=\"https://www.github.com/nlpfromscratch/nlpfor.me\" style=\"float: right; text-align: right; text-decoration: none; color: black\">NLPfor.me 🔠⚡🤖🧠😃</a>"
   ]
  }
 ],
 "metadata": {
  "colab": {
   "provenance": []
  },
  "kernelspec": {
   "display_name": "Python 3 (ipykernel)",
   "language": "python",
   "name": "python3"
  },
  "language_info": {
   "codemirror_mode": {
    "name": "ipython",
    "version": 3
   },
   "file_extension": ".py",
   "mimetype": "text/x-python",
   "name": "python",
   "nbconvert_exporter": "python",
   "pygments_lexer": "ipython3",
   "version": "3.12.6"
  }
 },
 "nbformat": 4,
 "nbformat_minor": 5
}
