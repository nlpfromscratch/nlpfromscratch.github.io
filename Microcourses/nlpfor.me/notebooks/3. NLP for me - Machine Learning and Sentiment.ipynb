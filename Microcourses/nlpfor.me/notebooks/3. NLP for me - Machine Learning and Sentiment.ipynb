{
 "cells": [
  {
   "cell_type": "markdown",
   "id": "kn6Fq4WuxsF8",
   "metadata": {
    "id": "kn6Fq4WuxsF8"
   },
   "source": [
    "<img src=\"https://raw.githubusercontent.com/nlpfromscratch/nlpfor.me/refs/heads/master/assets/cover_image_PT3.png\"/>"
   ]
  },
  {
   "cell_type": "markdown",
   "id": "35b197aa-23c1-493a-a789-e38531ea754d",
   "metadata": {
    "id": "fwukZZnNTYWE"
   },
   "source": [
    "# Machine Learning and Sentiment Analysis\n",
    "\n",
    "Copyright, NLP from scratch, 2024.\n",
    "\n",
    "[NLPfor.me](https://www.nlpfor.me)\n",
    "\n",
    "------------"
   ]
  },
  {
   "cell_type": "markdown",
   "id": "cb5d20f3",
   "metadata": {
    "id": "cb5d20f3"
   },
   "source": [
    "## Sentiment Analysis using Rules-Based Models"
   ]
  },
  {
   "cell_type": "markdown",
   "id": "6953670f",
   "metadata": {
    "id": "6953670f"
   },
   "source": [
    "### Using `nltk`\n",
    "A sentiment model scoring model is built into `nltk`. It is based upon the [VADER (*V*alence *A*ware *D*ictionary and s*E*ntiment *R*easoner) model](https://github.com/cjhutto/vaderSentiment) which is a rules and lexicon based sentiment scoring model, by C.J. Hutto and E.E. Gilbert.\n",
    "\n",
    "First we must download the `vader` package within NLTK:"
   ]
  },
  {
   "cell_type": "code",
   "execution_count": 1,
   "id": "582f558c",
   "metadata": {
    "colab": {
     "base_uri": "https://localhost:8080/"
    },
    "executionInfo": {
     "elapsed": 2583,
     "status": "ok",
     "timestamp": 1690317902307,
     "user": {
      "displayName": "Myles Harrison",
      "userId": "02225822412878142066"
     },
     "user_tz": 240
    },
    "id": "582f558c",
    "outputId": "9b9ad533-6806-4e23-90a4-4c3c18e84648"
   },
   "outputs": [
    {
     "name": "stderr",
     "output_type": "stream",
     "text": [
      "[nltk_data] Downloading package vader_lexicon to\n",
      "[nltk_data]     C:\\Users\\myles\\AppData\\Roaming\\nltk_data...\n",
      "[nltk_data]   Package vader_lexicon is already up-to-date!\n"
     ]
    },
    {
     "data": {
      "text/plain": [
       "True"
      ]
     },
     "execution_count": 1,
     "metadata": {},
     "output_type": "execute_result"
    }
   ],
   "source": [
    "import nltk\n",
    "nltk.download('vader_lexicon')"
   ]
  },
  {
   "cell_type": "markdown",
   "id": "d55daf7e",
   "metadata": {
    "id": "d55daf7e"
   },
   "source": [
    "Now that the package has been downloaded, we create an object of type `SentimentIntensityAnalyzer`:"
   ]
  },
  {
   "cell_type": "code",
   "execution_count": 2,
   "id": "de438c62",
   "metadata": {
    "id": "de438c62"
   },
   "outputs": [],
   "source": [
    "from nltk.sentiment import SentimentIntensityAnalyzer\n",
    "\n",
    "sia = SentimentIntensityAnalyzer()"
   ]
  },
  {
   "cell_type": "markdown",
   "id": "62e6e9db",
   "metadata": {
    "id": "62e6e9db"
   },
   "source": [
    "Now we can pass string data into the analyzer and receive sentiment scores in return by calling the `polarity_scores` method:"
   ]
  },
  {
   "cell_type": "code",
   "execution_count": 3,
   "id": "d458a746",
   "metadata": {
    "colab": {
     "base_uri": "https://localhost:8080/",
     "height": 36
    },
    "executionInfo": {
     "elapsed": 22,
     "status": "ok",
     "timestamp": 1690317902309,
     "user": {
      "displayName": "Myles Harrison",
      "userId": "02225822412878142066"
     },
     "user_tz": 240
    },
    "id": "d458a746",
    "outputId": "8c9fc2e3-6d61-4214-f3cf-4db8884920da"
   },
   "outputs": [
    {
     "data": {
      "text/plain": [
       "\"I love applesauce, it's the greatest!\""
      ]
     },
     "metadata": {},
     "output_type": "display_data"
    }
   ],
   "source": [
    "samplestring = \"I love applesauce, it's the greatest!\"\n",
    "display(samplestring)"
   ]
  },
  {
   "cell_type": "code",
   "execution_count": 4,
   "id": "918b6c29",
   "metadata": {
    "colab": {
     "base_uri": "https://localhost:8080/",
     "height": 34
    },
    "executionInfo": {
     "elapsed": 19,
     "status": "ok",
     "timestamp": 1690317902310,
     "user": {
      "displayName": "Myles Harrison",
      "userId": "02225822412878142066"
     },
     "user_tz": 240
    },
    "id": "918b6c29",
    "outputId": "cf7e55db-b549-4d8c-a9a3-0d52ab1006f9"
   },
   "outputs": [
    {
     "data": {
      "text/plain": [
       "{'neg': 0.0, 'neu': 0.257, 'pos': 0.743, 'compound': 0.8655}"
      ]
     },
     "metadata": {},
     "output_type": "display_data"
    }
   ],
   "source": [
    "scores = sia.polarity_scores(samplestring)\n",
    "display(scores)"
   ]
  },
  {
   "cell_type": "markdown",
   "id": "88b372c3",
   "metadata": {
    "id": "88b372c3"
   },
   "source": [
    "We can see the analyzer returns multiple scores:\n",
    "- A `neg`ative score, the likelihood the sentiment is negative\n",
    "- A `neu`tral score, the likelihood the sentiment is neutral\n",
    "- A `pos`itive score, the likelihood the sentiment is positive\n",
    "\n",
    "All of these above are expressed as probabilities from 0-1, and so should add to 1:"
   ]
  },
  {
   "cell_type": "code",
   "execution_count": 5,
   "id": "4c3efac5",
   "metadata": {
    "colab": {
     "base_uri": "https://localhost:8080/"
    },
    "executionInfo": {
     "elapsed": 30,
     "status": "ok",
     "timestamp": 1690317902693,
     "user": {
      "displayName": "Myles Harrison",
      "userId": "02225822412878142066"
     },
     "user_tz": 240
    },
    "id": "4c3efac5",
    "outputId": "c6b3d542-8766-4278-8f48-6b2822888e3d"
   },
   "outputs": [
    {
     "name": "stdout",
     "output_type": "stream",
     "text": [
      "1.0\n"
     ]
    }
   ],
   "source": [
    "print(scores['neg'] + scores['neu'] + scores['pos'])"
   ]
  },
  {
   "cell_type": "markdown",
   "id": "0a464991",
   "metadata": {
    "id": "0a464991"
   },
   "source": [
    "Furthermore, a `compound` score is returned, which is the standard sentiment score, a real value between -1 and 1 for negative and positive sentiment respectively:"
   ]
  },
  {
   "cell_type": "code",
   "execution_count": 6,
   "id": "16895ac9",
   "metadata": {
    "colab": {
     "base_uri": "https://localhost:8080/"
    },
    "executionInfo": {
     "elapsed": 29,
     "status": "ok",
     "timestamp": 1690317902694,
     "user": {
      "displayName": "Myles Harrison",
      "userId": "02225822412878142066"
     },
     "user_tz": 240
    },
    "id": "16895ac9",
    "outputId": "8ba9d176-14f4-4ad6-c566-1c384b93d0e0"
   },
   "outputs": [
    {
     "data": {
      "text/plain": [
       "0.8555"
      ]
     },
     "execution_count": 6,
     "metadata": {},
     "output_type": "execute_result"
    }
   ],
   "source": [
    "# Positive\n",
    "sia.polarity_scores('I love applesauce, it is the greatest')['compound']"
   ]
  },
  {
   "cell_type": "code",
   "execution_count": 7,
   "id": "7d5c6f3b",
   "metadata": {
    "colab": {
     "base_uri": "https://localhost:8080/"
    },
    "executionInfo": {
     "elapsed": 26,
     "status": "ok",
     "timestamp": 1690317902694,
     "user": {
      "displayName": "Myles Harrison",
      "userId": "02225822412878142066"
     },
     "user_tz": 240
    },
    "id": "7d5c6f3b",
    "outputId": "e3b3414f-2262-4364-9a75-cdfb1e742d3b"
   },
   "outputs": [
    {
     "data": {
      "text/plain": [
       "-0.8316"
      ]
     },
     "execution_count": 7,
     "metadata": {},
     "output_type": "execute_result"
    }
   ],
   "source": [
    "# Negative\n",
    "sia.polarity_scores('I hate applesauce, it is just the worst')['compound']"
   ]
  },
  {
   "cell_type": "code",
   "execution_count": 8,
   "id": "c48c954a",
   "metadata": {
    "colab": {
     "base_uri": "https://localhost:8080/"
    },
    "executionInfo": {
     "elapsed": 23,
     "status": "ok",
     "timestamp": 1690317902695,
     "user": {
      "displayName": "Myles Harrison",
      "userId": "02225822412878142066"
     },
     "user_tz": 240
    },
    "id": "c48c954a",
    "outputId": "4b9de442-71ab-4c6b-f4bf-3efe3c6f43e4"
   },
   "outputs": [
    {
     "data": {
      "text/plain": [
       "0.1027"
      ]
     },
     "execution_count": 8,
     "metadata": {},
     "output_type": "execute_result"
    }
   ],
   "source": [
    "# Neutral\n",
    "sia.polarity_scores('Applesauce is ok, I guess. I am indifferent toward it.')['compound']"
   ]
  },
  {
   "cell_type": "markdown",
   "id": "18c904dc",
   "metadata": {
    "id": "18c904dc"
   },
   "source": [
    "### Using `TextBlob`"
   ]
  },
  {
   "cell_type": "markdown",
   "id": "92f3abfb",
   "metadata": {
    "id": "92f3abfb"
   },
   "source": [
    "[TextBlob](https://textblob.readthedocs.io/) is a general-purpose text processing and NLP library for a number of tasks, including sentiment. The sentiment scoring model in TextBlob is based upon that in the [pattern library](https://github.com/clips/pattern) for information mining.\n",
    "\n",
    "To do sentiment analysis with TextBlob, we create a `TextBlob` object:"
   ]
  },
  {
   "cell_type": "code",
   "execution_count": 9,
   "id": "516729d0",
   "metadata": {
    "colab": {
     "base_uri": "https://localhost:8080/"
    },
    "executionInfo": {
     "elapsed": 21,
     "status": "ok",
     "timestamp": 1690317902695,
     "user": {
      "displayName": "Myles Harrison",
      "userId": "02225822412878142066"
     },
     "user_tz": 240
    },
    "id": "516729d0",
    "outputId": "8fc0a9f4-05b0-4a18-b5d5-db64c64eaa5c"
   },
   "outputs": [
    {
     "data": {
      "text/plain": [
       "TextBlob(\"I love applesauce, it's the greatest!\")"
      ]
     },
     "execution_count": 9,
     "metadata": {},
     "output_type": "execute_result"
    }
   ],
   "source": [
    "from textblob import TextBlob\n",
    "\n",
    "sampleblob = TextBlob(samplestring)\n",
    "sampleblob"
   ]
  },
  {
   "cell_type": "markdown",
   "id": "8a9e9d6d",
   "metadata": {
    "id": "8a9e9d6d"
   },
   "source": [
    "By default, the object has a precomputed `sentiment` attribute:"
   ]
  },
  {
   "cell_type": "code",
   "execution_count": 10,
   "id": "3454335b",
   "metadata": {
    "colab": {
     "base_uri": "https://localhost:8080/"
    },
    "executionInfo": {
     "elapsed": 17,
     "status": "ok",
     "timestamp": 1690317902696,
     "user": {
      "displayName": "Myles Harrison",
      "userId": "02225822412878142066"
     },
     "user_tz": 240
    },
    "id": "3454335b",
    "outputId": "faf7344f-bff0-4d7f-ce78-ee167a95bc6c"
   },
   "outputs": [
    {
     "data": {
      "text/plain": [
       "Sentiment(polarity=0.75, subjectivity=0.8)"
      ]
     },
     "execution_count": 10,
     "metadata": {},
     "output_type": "execute_result"
    }
   ],
   "source": [
    "sampleblob.sentiment"
   ]
  },
  {
   "cell_type": "markdown",
   "id": "839cf56f",
   "metadata": {
    "id": "839cf56f"
   },
   "source": [
    "We can see TextBlob returns both a sentiment polarity which ranges from -1 to 1, as well as a subjectivity score (0-1):\n"
   ]
  },
  {
   "cell_type": "code",
   "execution_count": 11,
   "id": "52c712de",
   "metadata": {
    "colab": {
     "base_uri": "https://localhost:8080/"
    },
    "executionInfo": {
     "elapsed": 15,
     "status": "ok",
     "timestamp": 1690317902697,
     "user": {
      "displayName": "Myles Harrison",
      "userId": "02225822412878142066"
     },
     "user_tz": 240
    },
    "id": "52c712de",
    "outputId": "17c9bb6b-b031-42a9-f8df-c3b9ca5dbb20"
   },
   "outputs": [
    {
     "data": {
      "text/plain": [
       "Sentiment(polarity=0.5, subjectivity=0.5)"
      ]
     },
     "execution_count": 11,
     "metadata": {},
     "output_type": "execute_result"
    }
   ],
   "source": [
    "TextBlob('Applesauce is ok, I guess. I am indifferent toward it.').sentiment"
   ]
  },
  {
   "cell_type": "markdown",
   "id": "a108cd29",
   "metadata": {
    "id": "a108cd29"
   },
   "source": [
    "## Training a Sentiment Model from Scratch"
   ]
  },
  {
   "cell_type": "markdown",
   "id": "2b6200c8",
   "metadata": {
    "id": "2b6200c8"
   },
   "source": [
    "Now we will be apply supervised learning to a sentiment analysis problem by training a model on labelled data. First we will load and preprocess a labelled text dataset, then fit and use a simple linear model for the binary classification task of positive and negative sentiment.\n",
    "\n",
    "Here we be working a random 10% sample of the [Large Movie Review Dataset](https://www.kaggle.com/datasets/lakshmi25npathi/imdb-dataset-of-50k-movie-reviews), a set of 50,000 \"highly polar\" movie reviews collected from the [Internet Movie Database](https://www.imdb.com).\n",
    "\n",
    "First, we'll read in the data:"
   ]
  },
  {
   "cell_type": "code",
   "execution_count": 12,
   "id": "02cb5150",
   "metadata": {
    "id": "02cb5150"
   },
   "outputs": [],
   "source": [
    "import pandas as pd\n",
    "\n",
    "reviews_df = pd.read_csv('https://raw.githubusercontent.com/nlpfromscratch/datasets/refs/heads/master/imdb/imdb_reviews_sample.csv')"
   ]
  },
  {
   "cell_type": "markdown",
   "id": "4f721eff",
   "metadata": {
    "id": "4f721eff"
   },
   "source": [
    "Let's take a look at the data and see what we are working with:"
   ]
  },
  {
   "cell_type": "code",
   "execution_count": 13,
   "id": "f516150c",
   "metadata": {
    "colab": {
     "base_uri": "https://localhost:8080/",
     "height": 206
    },
    "executionInfo": {
     "elapsed": 21,
     "status": "ok",
     "timestamp": 1690317904187,
     "user": {
      "displayName": "Myles Harrison",
      "userId": "02225822412878142066"
     },
     "user_tz": 240
    },
    "id": "f516150c",
    "outputId": "0bd97ee6-4de4-4085-a8be-00824ea1d9ca"
   },
   "outputs": [
    {
     "data": {
      "text/html": [
       "<div>\n",
       "<style scoped>\n",
       "    .dataframe tbody tr th:only-of-type {\n",
       "        vertical-align: middle;\n",
       "    }\n",
       "\n",
       "    .dataframe tbody tr th {\n",
       "        vertical-align: top;\n",
       "    }\n",
       "\n",
       "    .dataframe thead th {\n",
       "        text-align: right;\n",
       "    }\n",
       "</style>\n",
       "<table border=\"1\" class=\"dataframe\">\n",
       "  <thead>\n",
       "    <tr style=\"text-align: right;\">\n",
       "      <th></th>\n",
       "      <th>review</th>\n",
       "      <th>sentiment</th>\n",
       "    </tr>\n",
       "  </thead>\n",
       "  <tbody>\n",
       "    <tr>\n",
       "      <th>0</th>\n",
       "      <td>Valley Girl is an exceptionally well made film...</td>\n",
       "      <td>1</td>\n",
       "    </tr>\n",
       "    <tr>\n",
       "      <th>1</th>\n",
       "      <td>This is one of those inoffensive and mildly en...</td>\n",
       "      <td>0</td>\n",
       "    </tr>\n",
       "    <tr>\n",
       "      <th>2</th>\n",
       "      <td>I really wanted to like this movie - the locat...</td>\n",
       "      <td>0</td>\n",
       "    </tr>\n",
       "    <tr>\n",
       "      <th>3</th>\n",
       "      <td>I attended the premier last night. The movie s...</td>\n",
       "      <td>0</td>\n",
       "    </tr>\n",
       "    <tr>\n",
       "      <th>4</th>\n",
       "      <td>The Deadly Wake is THE PERFECT MOVIE for film ...</td>\n",
       "      <td>0</td>\n",
       "    </tr>\n",
       "  </tbody>\n",
       "</table>\n",
       "</div>"
      ],
      "text/plain": [
       "                                              review  sentiment\n",
       "0  Valley Girl is an exceptionally well made film...          1\n",
       "1  This is one of those inoffensive and mildly en...          0\n",
       "2  I really wanted to like this movie - the locat...          0\n",
       "3  I attended the premier last night. The movie s...          0\n",
       "4  The Deadly Wake is THE PERFECT MOVIE for film ...          0"
      ]
     },
     "execution_count": 13,
     "metadata": {},
     "output_type": "execute_result"
    }
   ],
   "source": [
    "reviews_df.head()"
   ]
  },
  {
   "cell_type": "markdown",
   "id": "a9e06520",
   "metadata": {
    "id": "a9e06520"
   },
   "source": [
    "We can see that the there are two columns, the free-form text in the column `review`, and the sentiment class label in the column `sentiment`, with a zero for negative reviews and one for positive reviews. We can also see that we'll need to do some text preprocessing, as there are different letter cases and punctuation present in the review text."
   ]
  },
  {
   "cell_type": "code",
   "execution_count": 14,
   "id": "2b8d43df",
   "metadata": {
    "colab": {
     "base_uri": "https://localhost:8080/",
     "height": 70
    },
    "executionInfo": {
     "elapsed": 18,
     "status": "ok",
     "timestamp": 1690317904187,
     "user": {
      "displayName": "Myles Harrison",
      "userId": "02225822412878142066"
     },
     "user_tz": 240
    },
    "id": "2b8d43df",
    "outputId": "e6e441aa-1df1-4cde-a3a9-47842807b10e"
   },
   "outputs": [
    {
     "data": {
      "text/plain": [
       "'Valley Girl is an exceptionally well made film with an all-around great cast. Even though the dialogue is a bit dated now, when the movie was released it was very hip. To this day, I know many people (teenagers included) that cannot form a sentence without using the word \"like\". That is without a doubt the legacy this movie will leave. A rating of 8 was given for this, like, most excellent movie.'"
      ]
     },
     "execution_count": 14,
     "metadata": {},
     "output_type": "execute_result"
    }
   ],
   "source": [
    "reviews_df['review'][0]"
   ]
  },
  {
   "cell_type": "markdown",
   "id": "3a1a9bd5",
   "metadata": {
    "id": "3a1a9bd5"
   },
   "source": [
    "Because we have already covered preprocessing in [Part 2](https://github.com/mylesmharrison/nlp4free/blob/master/notebooks/NLP4Free_Part2_DataAcquisitionandPreprocessing.ipynb), we will gloss over the details here and apply the necessary steps all at once. Only here now, we are applying the preprocessing steps to all documents (reviews) in our corpus, instead of a single piece of text. We opt not to apply stemming in this case for simplicity's sake, and see if we are still able to attain good results."
   ]
  },
  {
   "cell_type": "code",
   "execution_count": 15,
   "id": "9ed2c535",
   "metadata": {
    "colab": {
     "base_uri": "https://localhost:8080/",
     "height": 241
    },
    "executionInfo": {
     "elapsed": 432,
     "status": "ok",
     "timestamp": 1690317904603,
     "user": {
      "displayName": "Myles Harrison",
      "userId": "02225822412878142066"
     },
     "user_tz": 240
    },
    "id": "9ed2c535",
    "outputId": "fe8bfbc2-9795-46a7-a895-c6fc53089641"
   },
   "outputs": [
    {
     "data": {
      "text/html": [
       "<div>\n",
       "<style scoped>\n",
       "    .dataframe tbody tr th:only-of-type {\n",
       "        vertical-align: middle;\n",
       "    }\n",
       "\n",
       "    .dataframe tbody tr th {\n",
       "        vertical-align: top;\n",
       "    }\n",
       "\n",
       "    .dataframe thead th {\n",
       "        text-align: right;\n",
       "    }\n",
       "</style>\n",
       "<table border=\"1\" class=\"dataframe\">\n",
       "  <thead>\n",
       "    <tr style=\"text-align: right;\">\n",
       "      <th></th>\n",
       "      <th>review</th>\n",
       "      <th>sentiment</th>\n",
       "    </tr>\n",
       "  </thead>\n",
       "  <tbody>\n",
       "    <tr>\n",
       "      <th>0</th>\n",
       "      <td>valley girl is an exceptionally well made film...</td>\n",
       "      <td>1</td>\n",
       "    </tr>\n",
       "    <tr>\n",
       "      <th>1</th>\n",
       "      <td>this is one of those inoffensive and mildly en...</td>\n",
       "      <td>0</td>\n",
       "    </tr>\n",
       "    <tr>\n",
       "      <th>2</th>\n",
       "      <td>i really wanted to like this movie - the locat...</td>\n",
       "      <td>0</td>\n",
       "    </tr>\n",
       "    <tr>\n",
       "      <th>3</th>\n",
       "      <td>i attended the premier last night. the movie s...</td>\n",
       "      <td>0</td>\n",
       "    </tr>\n",
       "    <tr>\n",
       "      <th>4</th>\n",
       "      <td>the deadly wake is the perfect movie for film ...</td>\n",
       "      <td>0</td>\n",
       "    </tr>\n",
       "  </tbody>\n",
       "</table>\n",
       "</div>"
      ],
      "text/plain": [
       "                                              review  sentiment\n",
       "0  valley girl is an exceptionally well made film...          1\n",
       "1  this is one of those inoffensive and mildly en...          0\n",
       "2  i really wanted to like this movie - the locat...          0\n",
       "3  i attended the premier last night. the movie s...          0\n",
       "4  the deadly wake is the perfect movie for film ...          0"
      ]
     },
     "execution_count": 15,
     "metadata": {},
     "output_type": "execute_result"
    }
   ],
   "source": [
    "# Make a copy of the original dataframe\n",
    "processed_df = reviews_df.copy()\n",
    "\n",
    "# Change everything to lowercase\n",
    "processed_df['review'] = processed_df['review'].str.lower()\n",
    "\n",
    "# Remove punctuation with regular expression (https://en.wikipedia.org/wiki/Regular_expression)\n",
    "processed_df['review'] = processed_df['review'].str.replace(r'[^\\w\\s]+', '')\n",
    "\n",
    "# Check\n",
    "processed_df.head()"
   ]
  },
  {
   "cell_type": "code",
   "execution_count": 16,
   "id": "d302d195",
   "metadata": {
    "colab": {
     "base_uri": "https://localhost:8080/",
     "height": 70
    },
    "executionInfo": {
     "elapsed": 13,
     "status": "ok",
     "timestamp": 1690317904604,
     "user": {
      "displayName": "Myles Harrison",
      "userId": "02225822412878142066"
     },
     "user_tz": 240
    },
    "id": "d302d195",
    "outputId": "bbdadc7f-0f01-49a8-c1ca-6da21a30cac7"
   },
   "outputs": [
    {
     "data": {
      "text/plain": [
       "'valley girl is an exceptionally well made film with an all-around great cast. even though the dialogue is a bit dated now, when the movie was released it was very hip. to this day, i know many people (teenagers included) that cannot form a sentence without using the word \"like\". that is without a doubt the legacy this movie will leave. a rating of 8 was given for this, like, most excellent movie.'"
      ]
     },
     "execution_count": 16,
     "metadata": {},
     "output_type": "execute_result"
    }
   ],
   "source": [
    "processed_df['review'][0]"
   ]
  },
  {
   "cell_type": "code",
   "execution_count": 17,
   "id": "d9c7fdf4",
   "metadata": {
    "colab": {
     "base_uri": "https://localhost:8080/"
    },
    "executionInfo": {
     "elapsed": 2219,
     "status": "ok",
     "timestamp": 1690317906811,
     "user": {
      "displayName": "Myles Harrison",
      "userId": "02225822412878142066"
     },
     "user_tz": 240
    },
    "id": "d9c7fdf4",
    "outputId": "f4f880d7-b71a-45ac-e96e-1dabe2c3d3f7"
   },
   "outputs": [
    {
     "data": {
      "text/plain": [
       "<Compressed Sparse Row sparse matrix of dtype 'int64'\n",
       "\twith 269110 stored elements and shape (5000, 1565)>"
      ]
     },
     "execution_count": 17,
     "metadata": {},
     "output_type": "execute_result"
    }
   ],
   "source": [
    "# Apply count vectorization and remove stopwords\n",
    "# Use the min_df parameter to only keep tokens which appear in at least 1% of documents (50 reviews or more)\n",
    "from sklearn.feature_extraction.text import CountVectorizer\n",
    "\n",
    "cv = CountVectorizer(stop_words='english', min_df=0.01)\n",
    "X = cv.fit_transform(reviews_df['review'])\n",
    "X"
   ]
  },
  {
   "cell_type": "markdown",
   "id": "3fac8fd6",
   "metadata": {
    "id": "3fac8fd6"
   },
   "source": [
    "We can see that we have a 5,000 row dataframe with 1,565 columns - which are the features made up of the token counts. This matrix is sparse, so let's convert it to a nice dataframe for convenience. We will also use the tokens stored in the count vectorizer as the feature names to be the column names:"
   ]
  },
  {
   "cell_type": "code",
   "execution_count": 18,
   "id": "c3bf2e93",
   "metadata": {
    "colab": {
     "base_uri": "https://localhost:8080/",
     "height": 235
    },
    "executionInfo": {
     "elapsed": 16,
     "status": "ok",
     "timestamp": 1690317906813,
     "user": {
      "displayName": "Myles Harrison",
      "userId": "02225822412878142066"
     },
     "user_tz": 240
    },
    "id": "c3bf2e93",
    "outputId": "80048e87-3e3c-46d4-9efd-780441afe4d3"
   },
   "outputs": [
    {
     "data": {
      "text/html": [
       "<div>\n",
       "<style scoped>\n",
       "    .dataframe tbody tr th:only-of-type {\n",
       "        vertical-align: middle;\n",
       "    }\n",
       "\n",
       "    .dataframe tbody tr th {\n",
       "        vertical-align: top;\n",
       "    }\n",
       "\n",
       "    .dataframe thead th {\n",
       "        text-align: right;\n",
       "    }\n",
       "</style>\n",
       "<table border=\"1\" class=\"dataframe\">\n",
       "  <thead>\n",
       "    <tr style=\"text-align: right;\">\n",
       "      <th></th>\n",
       "      <th>10</th>\n",
       "      <th>100</th>\n",
       "      <th>11</th>\n",
       "      <th>12</th>\n",
       "      <th>13</th>\n",
       "      <th>15</th>\n",
       "      <th>20</th>\n",
       "      <th>30</th>\n",
       "      <th>40</th>\n",
       "      <th>50</th>\n",
       "      <th>...</th>\n",
       "      <th>wrong</th>\n",
       "      <th>wrote</th>\n",
       "      <th>yeah</th>\n",
       "      <th>year</th>\n",
       "      <th>years</th>\n",
       "      <th>yes</th>\n",
       "      <th>york</th>\n",
       "      <th>young</th>\n",
       "      <th>younger</th>\n",
       "      <th>zero</th>\n",
       "    </tr>\n",
       "  </thead>\n",
       "  <tbody>\n",
       "    <tr>\n",
       "      <th>0</th>\n",
       "      <td>0</td>\n",
       "      <td>0</td>\n",
       "      <td>0</td>\n",
       "      <td>0</td>\n",
       "      <td>0</td>\n",
       "      <td>0</td>\n",
       "      <td>0</td>\n",
       "      <td>0</td>\n",
       "      <td>0</td>\n",
       "      <td>0</td>\n",
       "      <td>...</td>\n",
       "      <td>0</td>\n",
       "      <td>0</td>\n",
       "      <td>0</td>\n",
       "      <td>0</td>\n",
       "      <td>0</td>\n",
       "      <td>0</td>\n",
       "      <td>0</td>\n",
       "      <td>0</td>\n",
       "      <td>0</td>\n",
       "      <td>0</td>\n",
       "    </tr>\n",
       "    <tr>\n",
       "      <th>1</th>\n",
       "      <td>0</td>\n",
       "      <td>0</td>\n",
       "      <td>0</td>\n",
       "      <td>0</td>\n",
       "      <td>0</td>\n",
       "      <td>0</td>\n",
       "      <td>0</td>\n",
       "      <td>0</td>\n",
       "      <td>0</td>\n",
       "      <td>0</td>\n",
       "      <td>...</td>\n",
       "      <td>0</td>\n",
       "      <td>0</td>\n",
       "      <td>0</td>\n",
       "      <td>0</td>\n",
       "      <td>0</td>\n",
       "      <td>0</td>\n",
       "      <td>0</td>\n",
       "      <td>0</td>\n",
       "      <td>0</td>\n",
       "      <td>0</td>\n",
       "    </tr>\n",
       "    <tr>\n",
       "      <th>2</th>\n",
       "      <td>0</td>\n",
       "      <td>0</td>\n",
       "      <td>0</td>\n",
       "      <td>0</td>\n",
       "      <td>0</td>\n",
       "      <td>0</td>\n",
       "      <td>0</td>\n",
       "      <td>0</td>\n",
       "      <td>0</td>\n",
       "      <td>0</td>\n",
       "      <td>...</td>\n",
       "      <td>0</td>\n",
       "      <td>0</td>\n",
       "      <td>0</td>\n",
       "      <td>0</td>\n",
       "      <td>0</td>\n",
       "      <td>0</td>\n",
       "      <td>0</td>\n",
       "      <td>0</td>\n",
       "      <td>0</td>\n",
       "      <td>0</td>\n",
       "    </tr>\n",
       "    <tr>\n",
       "      <th>3</th>\n",
       "      <td>0</td>\n",
       "      <td>0</td>\n",
       "      <td>0</td>\n",
       "      <td>0</td>\n",
       "      <td>0</td>\n",
       "      <td>1</td>\n",
       "      <td>0</td>\n",
       "      <td>0</td>\n",
       "      <td>0</td>\n",
       "      <td>0</td>\n",
       "      <td>...</td>\n",
       "      <td>1</td>\n",
       "      <td>0</td>\n",
       "      <td>0</td>\n",
       "      <td>0</td>\n",
       "      <td>0</td>\n",
       "      <td>0</td>\n",
       "      <td>0</td>\n",
       "      <td>0</td>\n",
       "      <td>0</td>\n",
       "      <td>0</td>\n",
       "    </tr>\n",
       "    <tr>\n",
       "      <th>4</th>\n",
       "      <td>0</td>\n",
       "      <td>0</td>\n",
       "      <td>0</td>\n",
       "      <td>0</td>\n",
       "      <td>0</td>\n",
       "      <td>1</td>\n",
       "      <td>0</td>\n",
       "      <td>0</td>\n",
       "      <td>0</td>\n",
       "      <td>0</td>\n",
       "      <td>...</td>\n",
       "      <td>0</td>\n",
       "      <td>0</td>\n",
       "      <td>0</td>\n",
       "      <td>0</td>\n",
       "      <td>0</td>\n",
       "      <td>0</td>\n",
       "      <td>0</td>\n",
       "      <td>0</td>\n",
       "      <td>0</td>\n",
       "      <td>0</td>\n",
       "    </tr>\n",
       "  </tbody>\n",
       "</table>\n",
       "<p>5 rows × 1565 columns</p>\n",
       "</div>"
      ],
      "text/plain": [
       "   10  100  11  12  13  15  20  30  40  50  ...  wrong  wrote  yeah  year  \\\n",
       "0   0    0   0   0   0   0   0   0   0   0  ...      0      0     0     0   \n",
       "1   0    0   0   0   0   0   0   0   0   0  ...      0      0     0     0   \n",
       "2   0    0   0   0   0   0   0   0   0   0  ...      0      0     0     0   \n",
       "3   0    0   0   0   0   1   0   0   0   0  ...      1      0     0     0   \n",
       "4   0    0   0   0   0   1   0   0   0   0  ...      0      0     0     0   \n",
       "\n",
       "   years  yes  york  young  younger  zero  \n",
       "0      0    0     0      0        0     0  \n",
       "1      0    0     0      0        0     0  \n",
       "2      0    0     0      0        0     0  \n",
       "3      0    0     0      0        0     0  \n",
       "4      0    0     0      0        0     0  \n",
       "\n",
       "[5 rows x 1565 columns]"
      ]
     },
     "execution_count": 18,
     "metadata": {},
     "output_type": "execute_result"
    }
   ],
   "source": [
    "X = pd.DataFrame(X.toarray(), columns=cv.get_feature_names_out())\n",
    "\n",
    "# Check\n",
    "X.head()"
   ]
  },
  {
   "cell_type": "markdown",
   "id": "4c65c18d",
   "metadata": {
    "id": "4c65c18d"
   },
   "source": [
    "We can see that the dataframe is mostly zeros, as most tokens only appear in a very small number of reviews. Here we will also pull out the `y` variable which will be our target for the binary classification task:"
   ]
  },
  {
   "cell_type": "code",
   "execution_count": 19,
   "id": "e2bea2e0",
   "metadata": {
    "colab": {
     "base_uri": "https://localhost:8080/"
    },
    "executionInfo": {
     "elapsed": 15,
     "status": "ok",
     "timestamp": 1690317906815,
     "user": {
      "displayName": "Myles Harrison",
      "userId": "02225822412878142066"
     },
     "user_tz": 240
    },
    "id": "e2bea2e0",
    "outputId": "6afcb9cf-303a-42b5-9d3a-34ff3292632f"
   },
   "outputs": [
    {
     "data": {
      "text/plain": [
       "0    1\n",
       "1    0\n",
       "2    0\n",
       "3    0\n",
       "4    0\n",
       "Name: sentiment, dtype: int64"
      ]
     },
     "execution_count": 19,
     "metadata": {},
     "output_type": "execute_result"
    }
   ],
   "source": [
    "y = processed_df['sentiment']\n",
    "y.head()"
   ]
  },
  {
   "cell_type": "markdown",
   "id": "5e5773e0",
   "metadata": {
    "id": "5e5773e0"
   },
   "source": [
    "We now have our preprocessed text data and an associated target, and so we are ready to fit a supervised machine learning model."
   ]
  },
  {
   "cell_type": "markdown",
   "id": "91e2e6ec",
   "metadata": {
    "id": "91e2e6ec"
   },
   "source": [
    "### Fitting a Simple Linear Model\n",
    "\n",
    "Now that we have our training data and target feature, we can fit a simple linear model to make predictions about the sentiment of a given movie review from the words contained within. In this case, since we are doing a binary classification task, we will be using a [logistic regression](https://en.wikipedia.org/wiki/Logistic_regression) model, a type of linear classifier which returns probabilities between 0 and 1.\n",
    "\n",
    "First, in order to prevent overfitting, we will need to split our data into a training set and a test set. We can do this easily using the [train_test_split](https://scikit-learn.org/stable/modules/generated/sklearn.model_selection.train_test_split.html) function which is specifically designed for this purpose. Here we take a test set of 30%, and use 70% for training:"
   ]
  },
  {
   "cell_type": "code",
   "execution_count": 20,
   "id": "f23062cb",
   "metadata": {
    "id": "f23062cb"
   },
   "outputs": [],
   "source": [
    "from sklearn.model_selection import train_test_split\n",
    "\n",
    "X_train, X_test, y_train, y_test = train_test_split(X, y, test_size=0.3)"
   ]
  },
  {
   "cell_type": "markdown",
   "id": "7fab3c5b",
   "metadata": {
    "id": "7fab3c5b"
   },
   "source": [
    "Now we can fit our model. In scikit-learn, this is as easy as a few lines of code. We first import the `LogisticRegression` model class, then fit it on the training data, then call `.score`, passing in the training and test sets to get back accuracy scores."
   ]
  },
  {
   "cell_type": "code",
   "execution_count": 21,
   "id": "c8b4104a",
   "metadata": {
    "colab": {
     "base_uri": "https://localhost:8080/",
     "height": 191
    },
    "executionInfo": {
     "elapsed": 2640,
     "status": "ok",
     "timestamp": 1690317909935,
     "user": {
      "displayName": "Myles Harrison",
      "userId": "02225822412878142066"
     },
     "user_tz": 240
    },
    "id": "c8b4104a",
    "outputId": "ae5f5cc7-845b-46ee-c99f-63061a3f0e62"
   },
   "outputs": [
    {
     "name": "stderr",
     "output_type": "stream",
     "text": [
      "C:\\Users\\myles\\venv\\nlpforme\\Lib\\site-packages\\sklearn\\linear_model\\_logistic.py:469: ConvergenceWarning: lbfgs failed to converge (status=1):\n",
      "STOP: TOTAL NO. of ITERATIONS REACHED LIMIT.\n",
      "\n",
      "Increase the number of iterations (max_iter) or scale the data as shown in:\n",
      "    https://scikit-learn.org/stable/modules/preprocessing.html\n",
      "Please also refer to the documentation for alternative solver options:\n",
      "    https://scikit-learn.org/stable/modules/linear_model.html#logistic-regression\n",
      "  n_iter_i = _check_optimize_result(\n"
     ]
    },
    {
     "data": {
      "text/plain": [
       "0.988"
      ]
     },
     "metadata": {},
     "output_type": "display_data"
    },
    {
     "data": {
      "text/plain": [
       "0.8266666666666667"
      ]
     },
     "metadata": {},
     "output_type": "display_data"
    }
   ],
   "source": [
    "from sklearn.linear_model import LogisticRegression\n",
    "\n",
    "logit = LogisticRegression()\n",
    "\n",
    "logit.fit(X_train, y_train)\n",
    "\n",
    "display(logit.score(X_train, y_train))\n",
    "display(logit.score(X_test, y_test))"
   ]
  },
  {
   "cell_type": "markdown",
   "id": "5ddc7aca",
   "metadata": {
    "id": "5ddc7aca"
   },
   "source": [
    "Here we can see our model is quite overfit, as the score on the training set is much higher than test set. Nonetheless, we will proceed. Since positive sentiment is class 1, the model coefficients which are positive will be more predictive of positive sentiment, and those which are negative more predictive of negative sentiment.\n",
    "\n",
    "We can take a look at the most predictive features (tokens) below with a few simple lines of code:"
   ]
  },
  {
   "cell_type": "code",
   "execution_count": 22,
   "id": "7aed3770",
   "metadata": {
    "colab": {
     "base_uri": "https://localhost:8080/",
     "height": 487
    },
    "executionInfo": {
     "elapsed": 1029,
     "status": "ok",
     "timestamp": 1690317910954,
     "user": {
      "displayName": "Myles Harrison",
      "userId": "02225822412878142066"
     },
     "user_tz": 240
    },
    "id": "7aed3770",
    "outputId": "a732466c-290a-4acd-d412-be8b3cf9b592"
   },
   "outputs": [
    {
     "data": {
      "image/png": "[encoded data removed]",
      "text/plain": [
       "<Figure size 640x480 with 2 Axes>"
      ]
     },
     "metadata": {},
     "output_type": "display_data"
    }
   ],
   "source": [
    "# Pull out the coefficients and feature names\n",
    "coef_series = pd.Series(logit.coef_[0], index=cv.get_feature_names_out())\n",
    "\n",
    "# Plot\n",
    "import matplotlib.pyplot as plt\n",
    "\n",
    "plt.subplots(1,2)\n",
    "\n",
    "# Positive\n",
    "plt.subplot(1,2,1)\n",
    "coef_series.nlargest(10).sort_values().plot(kind='barh', color='green')\n",
    "plt.title('Positive Coefficients')\n",
    "\n",
    "# Negative\n",
    "plt.subplot(1,2,2)\n",
    "coef_series.nsmallest(10).sort_values(ascending=False).plot(kind='barh', color='darkred')\n",
    "plt.title('Negative Coefficients')\n",
    "\n",
    "# Show\n",
    "plt.tight_layout()\n",
    "plt.show()"
   ]
  },
  {
   "cell_type": "markdown",
   "id": "dea695af",
   "metadata": {
    "id": "dea695af"
   },
   "source": [
    "We can see that the words appearing in reviews with positive reviews are highly positive, and those in negative reviews are very negative as we would expect. Some tokens might warrant more further investigation into the data if they are nouns."
   ]
  },
  {
   "cell_type": "markdown",
   "id": "7f588c54",
   "metadata": {
    "id": "7f588c54"
   },
   "source": [
    "### Using an LLM for Sentiment\n",
    "\n",
    "In the section below, we will use the [transformers](https://huggingface.co/docs/transformers/index) library from Hugging Face to use a large language model, in this case, an example of one based on the very well-known [BERT](https://en.wikipedia.org/wiki/BERT_(language_model)) model, for sentiment analysis.\n",
    "\n",
    "If you've not already installed the `transformers` library, you'll need to do so below. The calls to the library will also download the model file. Note that these are large downloads, so may take a little while if you are running you code locally!"
   ]
  },
  {
   "cell_type": "code",
   "execution_count": 23,
   "id": "d96a8b51",
   "metadata": {
    "colab": {
     "base_uri": "https://localhost:8080/"
    },
    "executionInfo": {
     "elapsed": 28482,
     "status": "ok",
     "timestamp": 1690317939807,
     "user": {
      "displayName": "Myles Harrison",
      "userId": "02225822412878142066"
     },
     "user_tz": 240
    },
    "id": "d96a8b51",
    "outputId": "5dfbd4d6-ab63-458d-c3dd-482b478a63ea"
   },
   "outputs": [
    {
     "name": "stdout",
     "output_type": "stream",
     "text": [
      "Requirement already satisfied: transformers in c:\\users\\myles\\venv\\nlpforme\\lib\\site-packages (4.45.2)\n",
      "Requirement already satisfied: filelock in c:\\users\\myles\\venv\\nlpforme\\lib\\site-packages (from transformers) (3.16.1)\n",
      "Requirement already satisfied: huggingface-hub<1.0,>=0.23.2 in c:\\users\\myles\\venv\\nlpforme\\lib\\site-packages (from transformers) (0.26.1)\n",
      "Requirement already satisfied: numpy>=1.17 in c:\\users\\myles\\venv\\nlpforme\\lib\\site-packages (from transformers) (2.1.2)\n",
      "Requirement already satisfied: packaging>=20.0 in c:\\users\\myles\\venv\\nlpforme\\lib\\site-packages (from transformers) (24.1)\n",
      "Requirement already satisfied: pyyaml>=5.1 in c:\\users\\myles\\venv\\nlpforme\\lib\\site-packages (from transformers) (6.0.2)\n",
      "Requirement already satisfied: regex!=2019.12.17 in c:\\users\\myles\\venv\\nlpforme\\lib\\site-packages (from transformers) (2024.9.11)\n",
      "Requirement already satisfied: requests in c:\\users\\myles\\venv\\nlpforme\\lib\\site-packages (from transformers) (2.32.3)\n",
      "Requirement already satisfied: safetensors>=0.4.1 in c:\\users\\myles\\venv\\nlpforme\\lib\\site-packages (from transformers) (0.4.5)\n",
      "Requirement already satisfied: tokenizers<0.21,>=0.20 in c:\\users\\myles\\venv\\nlpforme\\lib\\site-packages (from transformers) (0.20.1)\n",
      "Requirement already satisfied: tqdm>=4.27 in c:\\users\\myles\\venv\\nlpforme\\lib\\site-packages (from transformers) (4.66.5)\n",
      "Requirement already satisfied: fsspec>=2023.5.0 in c:\\users\\myles\\venv\\nlpforme\\lib\\site-packages (from huggingface-hub<1.0,>=0.23.2->transformers) (2024.10.0)\n",
      "Requirement already satisfied: typing-extensions>=3.7.4.3 in c:\\users\\myles\\venv\\nlpforme\\lib\\site-packages (from huggingface-hub<1.0,>=0.23.2->transformers) (4.12.2)\n",
      "Requirement already satisfied: colorama in c:\\users\\myles\\venv\\nlpforme\\lib\\site-packages (from tqdm>=4.27->transformers) (0.4.6)\n",
      "Requirement already satisfied: charset-normalizer<4,>=2 in c:\\users\\myles\\venv\\nlpforme\\lib\\site-packages (from requests->transformers) (3.3.2)\n",
      "Requirement already satisfied: idna<4,>=2.5 in c:\\users\\myles\\venv\\nlpforme\\lib\\site-packages (from requests->transformers) (3.10)\n",
      "Requirement already satisfied: urllib3<3,>=1.21.1 in c:\\users\\myles\\venv\\nlpforme\\lib\\site-packages (from requests->transformers) (2.2.3)\n",
      "Requirement already satisfied: certifi>=2017.4.17 in c:\\users\\myles\\venv\\nlpforme\\lib\\site-packages (from requests->transformers) (2024.8.30)\n"
     ]
    }
   ],
   "source": [
    "# Install the transformers library\n",
    "!pip install transformers"
   ]
  },
  {
   "cell_type": "code",
   "execution_count": 24,
   "id": "03814805",
   "metadata": {
    "colab": {
     "base_uri": "https://localhost:8080/",
     "height": 281,
     "referenced_widgets": [
      "ee008249fb5b4ce7b9342fecd04627ee",
      "d8eae59319774acc83b519af7b1ebfc9",
      "4cc97337b379452d80c7e788675a7c1e",
      "f93cc9bf3c5947a6b94a2a3a967457f6",
      "0971a28c57fe44faa111b5e18b2fb311",
      "3b5883829e4b4455928780b67e352e55",
      "38df76cbfa6444c693e60fda25a6a1a5",
      "31df27ce6349490f9c36957dc1b6a49f",
      "6d9669dbbdaf4f1bbb3bfa656dbeb0b4",
      "f0ae968d37e047aba709ccd31671d753",
      "47e6f61de0484cfd80d83c0262c50d26",
      "de9b8e54b6184e2e9268978f082ce143",
      "cd0622f00a624894aba417351ff0bd11",
      "2189da48fdba4b64b9509ffa29f0303c",
      "d08d6c937a644f4aaead9437b00441b0",
      "1408497046af41c9a445802b996b906b",
      "ca76a845810f4f43982d4b17db0ae3ed",
      "ba9475ec7f7c44b58fe0ed7c681d5c78",
      "09faacaed8634d5a8e995639f570f377",
      "59d94ad52dd14c5c9d7582c7744d6828",
      "835f5de2593843e79a1da209d986883a",
      "ac931931570149cb8496a41b8862b1dd",
      "17e1ba5593364175a1b1cd290d83279d",
      "c7c2acd04e7446e3ba7eaf3ec6178088",
      "15fb01b33bd64eefb55c703f64f3ecd2",
      "ad99f559d09740f1884697148df99cdf",
      "82ef72704d164bf09e3c86397bf4080b",
      "c9e10da519cf458f8fe8e6cd1e3c2b7c",
      "33890d6cb62b44a48a578139103bedec",
      "313cc4dc6d2a48a4aa92ddc9747e173f",
      "1adf7387e50547ecba00fc52a323fbb1",
      "737208efd38a42efb85fbd2b1a1c18c9",
      "5501908bf0874680b61721d69c38c18a",
      "b79ef5d0da3c49d68a8d886765d8e617",
      "2a23c23c02344b3b84096292de99993b",
      "847e0a19b9654e2798955b821ec3ad83",
      "04a32cb89dac40a4953a15cab9a6a995",
      "4f27724c2e924641804e9d37a225c633",
      "1a7af0cad2704dceaaeaef6b13398e4a",
      "00ac2cc9030c41a09a6476f18f046383",
      "f465cd0dfe2a4d3fa23b41a87e86973f",
      "198fd033ef9c4059940a1e0fefefeba5",
      "247d6c7712c84366b012c2f6639a622a",
      "cfe4c5424c0f40a7b3eb9ea91233192e",
      "b7c9f4cca4e54573b94f00af320fa97c",
      "439595fb9c634f8e94174231dd41a763",
      "4e6bfe8b9bd54562b8cf0b0cbad6f6cf",
      "6a554c7044da477f994d898355eeec7b",
      "ef3e2552c4644d2e917910230db1cb8f",
      "bc9865fa78d342cea0e2205a17792b39",
      "edba7aabe7124a26ac1894800444663b",
      "2ff8177d551c4efb9bf39180192443d3",
      "134e632f565a4a84834b6ad7818be904",
      "98ed9f3d77e4409d9547a1d0f72e5507",
      "c1acb533b9104b9f87866b74313abd6d"
     ]
    },
    "executionInfo": {
     "elapsed": 40002,
     "status": "ok",
     "timestamp": 1690317979802,
     "user": {
      "displayName": "Myles Harrison",
      "userId": "02225822412878142066"
     },
     "user_tz": 240
    },
    "id": "03814805",
    "outputId": "0ab60466-d8eb-44b3-d5eb-e05bc5c0c3cc"
   },
   "outputs": [
    {
     "name": "stderr",
     "output_type": "stream",
     "text": [
      "C:\\Users\\myles\\venv\\nlpforme\\Lib\\site-packages\\tqdm\\auto.py:21: TqdmWarning: IProgress not found. Please update jupyter and ipywidgets. See https://ipywidgets.readthedocs.io/en/stable/user_install.html\n",
      "  from .autonotebook import tqdm as notebook_tqdm\n"
     ]
    },
    {
     "data": {
      "text/plain": [
       "[{'label': 'LABEL_1', 'score': 0.9970933198928833},\n",
       " {'label': 'LABEL_0', 'score': 0.9670106172561646},\n",
       " {'label': 'LABEL_1', 'score': 0.7049165368080139}]"
      ]
     },
     "execution_count": 24,
     "metadata": {},
     "output_type": "execute_result"
    }
   ],
   "source": [
    "# Create a model pipeline\n",
    "from transformers import pipeline, AutoModelForTokenClassification, AutoTokenizer\n",
    "\n",
    "# Create a sentiment analysis pipeline\n",
    "mypipeline = pipeline(\"sentiment-analysis\",\n",
    "                      model=\"assemblyai/distilbert-base-uncased-sst2\",\n",
    "                      tokenizer=\"assemblyai/distilbert-base-uncased-sst2\")\n",
    "\n",
    "mypipeline([\"I love applesauce!\", \"I hate applesauce!\", \"Applesauce is alright I guess\"])"
   ]
  },
  {
   "cell_type": "markdown",
   "id": "7527ab2f",
   "metadata": {
    "id": "7527ab2f"
   },
   "source": [
    "Here, `LABEL_1` refers to positive sentiment, and `LABEL_0` to negative sentiment. We will delve more into Transformers and Large Language Models (LLMs) later in the course."
   ]
  },
  {
   "cell_type": "markdown",
   "id": "3332900e",
   "metadata": {
    "id": "3332900e"
   },
   "source": [
    "### References\n",
    "\n",
    "• Maas, A., Daly, R., Pham, P., Huang, D., Ng, A., & Potts, C. (2011). Learning Word Vectors for Sentiment Analysis. In *Proceedings of the 49th Annual Meeting of the Association for Computational Linguistics: Human Language Technologies* (pp. 142–150). Association for Computational Linguistics.\n",
    "\n",
    "• Hutto, C.J. & Gilbert, E.E. (2014). VADER: A Parsimonious Rule-based Model for Sentiment Analysis of Social Media Text. In *Eighth International Conference on Weblogs and Social Media (ICWSM-14)*. Ann Arbor, MI, June 2014.\n",
    "\n",
    "• *IMDB Dataset of 50K Movie Reviews.* (2019, March 9). Kaggle. https://www.kaggle.com/datasets/lakshmi25npathi/imdb-dataset-of-50k-movie-reviews\n",
    "\n",
    "• *Distilbert-base-uncased-sst2 by AssemblyAI.* Hugging Face (Accessed July 21, 2023) https://huggingface.co/assemblyai/distilbert-base-uncased-sst2"
   ]
  },
  {
   "cell_type": "markdown",
   "id": "uOsXgUYiwmCW",
   "metadata": {
    "id": "uOsXgUYiwmCW"
   },
   "source": [
    "<div align=\"right\" float=\"right\"><a href=\"https://www.github.com/nlpfromscratch/nlpfor.me\" style=\"float: right; text-align: right; text-decoration: none; color: black\">NLPfor.me 🔠⚡🤖🧠😃</a>"
   ]
  }
 ],
 "metadata": {
  "colab": {
   "provenance": [
    {
     "file_id": "1Atps3kABy-8wICsyzWrlMqyvDdkkoSBC",
     "timestamp": 1690317308043
    }
   ]
  },
  "kernelspec": {
   "display_name": "Python 3 (ipykernel)",
   "language": "python",
   "name": "python3"
  },
  "language_info": {
   "codemirror_mode": {
    "name": "ipython",
    "version": 3
   },
   "file_extension": ".py",
   "mimetype": "text/x-python",
   "name": "python",
   "nbconvert_exporter": "python",
   "pygments_lexer": "ipython3",
   "version": "3.12.6"
  },
  "widgets": {
   "application/vnd.jupyter.widget-state+json": {
    "00ac2cc9030c41a09a6476f18f046383": {
     "model_module": "@jupyter-widgets/controls",
     "model_module_version": "1.5.0",
     "model_name": "DescriptionStyleModel",
     "state": {
      "_model_module": "@jupyter-widgets/controls",
      "_model_module_version": "1.5.0",
      "_model_name": "DescriptionStyleModel",
      "_view_count": null,
      "_view_module": "@jupyter-widgets/base",
      "_view_module_version": "1.2.0",
      "_view_name": "StyleView",
      "description_width": ""
     }
    },
    "04a32cb89dac40a4953a15cab9a6a995": {
     "model_module": "@jupyter-widgets/controls",
     "model_module_version": "1.5.0",
     "model_name": "HTMLModel",
     "state": {
      "_dom_classes": [],
      "_model_module": "@jupyter-widgets/controls",
      "_model_module_version": "1.5.0",
      "_model_name": "HTMLModel",
      "_view_count": null,
      "_view_module": "@jupyter-widgets/controls",
      "_view_module_version": "1.5.0",
      "_view_name": "HTMLView",
      "description": "",
      "description_tooltip": null,
      "layout": "IPY_MODEL_247d6c7712c84366b012c2f6639a622a",
      "placeholder": "​",
      "style": "IPY_MODEL_cfe4c5424c0f40a7b3eb9ea91233192e",
      "value": " 232k/232k [00:00&lt;00:00, 675kB/s]"
     }
    },
    "0971a28c57fe44faa111b5e18b2fb311": {
     "model_module": "@jupyter-widgets/base",
     "model_module_version": "1.2.0",
     "model_name": "LayoutModel",
     "state": {
      "_model_module": "@jupyter-widgets/base",
      "_model_module_version": "1.2.0",
      "_model_name": "LayoutModel",
      "_view_count": null,
      "_view_module": "@jupyter-widgets/base",
      "_view_module_version": "1.2.0",
      "_view_name": "LayoutView",
      "align_content": null,
      "align_items": null,
      "align_self": null,
      "border": null,
      "bottom": null,
      "display": null,
      "flex": null,
      "flex_flow": null,
      "grid_area": null,
      "grid_auto_columns": null,
      "grid_auto_flow": null,
      "grid_auto_rows": null,
      "grid_column": null,
      "grid_gap": null,
      "grid_row": null,
      "grid_template_areas": null,
      "grid_template_columns": null,
      "grid_template_rows": null,
      "height": null,
      "justify_content": null,
      "justify_items": null,
      "left": null,
      "margin": null,
      "max_height": null,
      "max_width": null,
      "min_height": null,
      "min_width": null,
      "object_fit": null,
      "object_position": null,
      "order": null,
      "overflow": null,
      "overflow_x": null,
      "overflow_y": null,
      "padding": null,
      "right": null,
      "top": null,
      "visibility": null,
      "width": null
     }
    },
    "09faacaed8634d5a8e995639f570f377": {
     "model_module": "@jupyter-widgets/base",
     "model_module_version": "1.2.0",
     "model_name": "LayoutModel",
     "state": {
      "_model_module": "@jupyter-widgets/base",
      "_model_module_version": "1.2.0",
      "_model_name": "LayoutModel",
      "_view_count": null,
      "_view_module": "@jupyter-widgets/base",
      "_view_module_version": "1.2.0",
      "_view_name": "LayoutView",
      "align_content": null,
      "align_items": null,
      "align_self": null,
      "border": null,
      "bottom": null,
      "display": null,
      "flex": null,
      "flex_flow": null,
      "grid_area": null,
      "grid_auto_columns": null,
      "grid_auto_flow": null,
      "grid_auto_rows": null,
      "grid_column": null,
      "grid_gap": null,
      "grid_row": null,
      "grid_template_areas": null,
      "grid_template_columns": null,
      "grid_template_rows": null,
      "height": null,
      "justify_content": null,
      "justify_items": null,
      "left": null,
      "margin": null,
      "max_height": null,
      "max_width": null,
      "min_height": null,
      "min_width": null,
      "object_fit": null,
      "object_position": null,
      "order": null,
      "overflow": null,
      "overflow_x": null,
      "overflow_y": null,
      "padding": null,
      "right": null,
      "top": null,
      "visibility": null,
      "width": null
     }
    },
    "134e632f565a4a84834b6ad7818be904": {
     "model_module": "@jupyter-widgets/controls",
     "model_module_version": "1.5.0",
     "model_name": "ProgressStyleModel",
     "state": {
      "_model_module": "@jupyter-widgets/controls",
      "_model_module_version": "1.5.0",
      "_model_name": "ProgressStyleModel",
      "_view_count": null,
      "_view_module": "@jupyter-widgets/base",
      "_view_module_version": "1.2.0",
      "_view_name": "StyleView",
      "bar_color": null,
      "description_width": ""
     }
    },
    "1408497046af41c9a445802b996b906b": {
     "model_module": "@jupyter-widgets/base",
     "model_module_version": "1.2.0",
     "model_name": "LayoutModel",
     "state": {
      "_model_module": "@jupyter-widgets/base",
      "_model_module_version": "1.2.0",
      "_model_name": "LayoutModel",
      "_view_count": null,
      "_view_module": "@jupyter-widgets/base",
      "_view_module_version": "1.2.0",
      "_view_name": "LayoutView",
      "align_content": null,
      "align_items": null,
      "align_self": null,
      "border": null,
      "bottom": null,
      "display": null,
      "flex": null,
      "flex_flow": null,
      "grid_area": null,
      "grid_auto_columns": null,
      "grid_auto_flow": null,
      "grid_auto_rows": null,
      "grid_column": null,
      "grid_gap": null,
      "grid_row": null,
      "grid_template_areas": null,
      "grid_template_columns": null,
      "grid_template_rows": null,
      "height": null,
      "justify_content": null,
      "justify_items": null,
      "left": null,
      "margin": null,
      "max_height": null,
      "max_width": null,
      "min_height": null,
      "min_width": null,
      "object_fit": null,
      "object_position": null,
      "order": null,
      "overflow": null,
      "overflow_x": null,
      "overflow_y": null,
      "padding": null,
      "right": null,
      "top": null,
      "visibility": null,
      "width": null
     }
    },
    "15fb01b33bd64eefb55c703f64f3ecd2": {
     "model_module": "@jupyter-widgets/controls",
     "model_module_version": "1.5.0",
     "model_name": "FloatProgressModel",
     "state": {
      "_dom_classes": [],
      "_model_module": "@jupyter-widgets/controls",
      "_model_module_version": "1.5.0",
      "_model_name": "FloatProgressModel",
      "_view_count": null,
      "_view_module": "@jupyter-widgets/controls",
      "_view_module_version": "1.5.0",
      "_view_name": "ProgressView",
      "bar_style": "success",
      "description": "",
      "description_tooltip": null,
      "layout": "IPY_MODEL_313cc4dc6d2a48a4aa92ddc9747e173f",
      "max": 306,
      "min": 0,
      "orientation": "horizontal",
      "style": "IPY_MODEL_1adf7387e50547ecba00fc52a323fbb1",
      "value": 306
     }
    },
    "17e1ba5593364175a1b1cd290d83279d": {
     "model_module": "@jupyter-widgets/controls",
     "model_module_version": "1.5.0",
     "model_name": "HBoxModel",
     "state": {
      "_dom_classes": [],
      "_model_module": "@jupyter-widgets/controls",
      "_model_module_version": "1.5.0",
      "_model_name": "HBoxModel",
      "_view_count": null,
      "_view_module": "@jupyter-widgets/controls",
      "_view_module_version": "1.5.0",
      "_view_name": "HBoxView",
      "box_style": "",
      "children": [
       "IPY_MODEL_c7c2acd04e7446e3ba7eaf3ec6178088",
       "IPY_MODEL_15fb01b33bd64eefb55c703f64f3ecd2",
       "IPY_MODEL_ad99f559d09740f1884697148df99cdf"
      ],
      "layout": "IPY_MODEL_82ef72704d164bf09e3c86397bf4080b"
     }
    },
    "198fd033ef9c4059940a1e0fefefeba5": {
     "model_module": "@jupyter-widgets/controls",
     "model_module_version": "1.5.0",
     "model_name": "ProgressStyleModel",
     "state": {
      "_model_module": "@jupyter-widgets/controls",
      "_model_module_version": "1.5.0",
      "_model_name": "ProgressStyleModel",
      "_view_count": null,
      "_view_module": "@jupyter-widgets/base",
      "_view_module_version": "1.2.0",
      "_view_name": "StyleView",
      "bar_color": null,
      "description_width": ""
     }
    },
    "1a7af0cad2704dceaaeaef6b13398e4a": {
     "model_module": "@jupyter-widgets/base",
     "model_module_version": "1.2.0",
     "model_name": "LayoutModel",
     "state": {
      "_model_module": "@jupyter-widgets/base",
      "_model_module_version": "1.2.0",
      "_model_name": "LayoutModel",
      "_view_count": null,
      "_view_module": "@jupyter-widgets/base",
      "_view_module_version": "1.2.0",
      "_view_name": "LayoutView",
      "align_content": null,
      "align_items": null,
      "align_self": null,
      "border": null,
      "bottom": null,
      "display": null,
      "flex": null,
      "flex_flow": null,
      "grid_area": null,
      "grid_auto_columns": null,
      "grid_auto_flow": null,
      "grid_auto_rows": null,
      "grid_column": null,
      "grid_gap": null,
      "grid_row": null,
      "grid_template_areas": null,
      "grid_template_columns": null,
      "grid_template_rows": null,
      "height": null,
      "justify_content": null,
      "justify_items": null,
      "left": null,
      "margin": null,
      "max_height": null,
      "max_width": null,
      "min_height": null,
      "min_width": null,
      "object_fit": null,
      "object_position": null,
      "order": null,
      "overflow": null,
      "overflow_x": null,
      "overflow_y": null,
      "padding": null,
      "right": null,
      "top": null,
      "visibility": null,
      "width": null
     }
    },
    "1adf7387e50547ecba00fc52a323fbb1": {
     "model_module": "@jupyter-widgets/controls",
     "model_module_version": "1.5.0",
     "model_name": "ProgressStyleModel",
     "state": {
      "_model_module": "@jupyter-widgets/controls",
      "_model_module_version": "1.5.0",
      "_model_name": "ProgressStyleModel",
      "_view_count": null,
      "_view_module": "@jupyter-widgets/base",
      "_view_module_version": "1.2.0",
      "_view_name": "StyleView",
      "bar_color": null,
      "description_width": ""
     }
    },
    "2189da48fdba4b64b9509ffa29f0303c": {
     "model_module": "@jupyter-widgets/controls",
     "model_module_version": "1.5.0",
     "model_name": "FloatProgressModel",
     "state": {
      "_dom_classes": [],
      "_model_module": "@jupyter-widgets/controls",
      "_model_module_version": "1.5.0",
      "_model_name": "FloatProgressModel",
      "_view_count": null,
      "_view_module": "@jupyter-widgets/controls",
      "_view_module_version": "1.5.0",
      "_view_name": "ProgressView",
      "bar_style": "success",
      "description": "",
      "description_tooltip": null,
      "layout": "IPY_MODEL_09faacaed8634d5a8e995639f570f377",
      "max": 267861719,
      "min": 0,
      "orientation": "horizontal",
      "style": "IPY_MODEL_59d94ad52dd14c5c9d7582c7744d6828",
      "value": 267861719
     }
    },
    "247d6c7712c84366b012c2f6639a622a": {
     "model_module": "@jupyter-widgets/base",
     "model_module_version": "1.2.0",
     "model_name": "LayoutModel",
     "state": {
      "_model_module": "@jupyter-widgets/base",
      "_model_module_version": "1.2.0",
      "_model_name": "LayoutModel",
      "_view_count": null,
      "_view_module": "@jupyter-widgets/base",
      "_view_module_version": "1.2.0",
      "_view_name": "LayoutView",
      "align_content": null,
      "align_items": null,
      "align_self": null,
      "border": null,
      "bottom": null,
      "display": null,
      "flex": null,
      "flex_flow": null,
      "grid_area": null,
      "grid_auto_columns": null,
      "grid_auto_flow": null,
      "grid_auto_rows": null,
      "grid_column": null,
      "grid_gap": null,
      "grid_row": null,
      "grid_template_areas": null,
      "grid_template_columns": null,
      "grid_template_rows": null,
      "height": null,
      "justify_content": null,
      "justify_items": null,
      "left": null,
      "margin": null,
      "max_height": null,
      "max_width": null,
      "min_height": null,
      "min_width": null,
      "object_fit": null,
      "object_position": null,
      "order": null,
      "overflow": null,
      "overflow_x": null,
      "overflow_y": null,
      "padding": null,
      "right": null,
      "top": null,
      "visibility": null,
      "width": null
     }
    },
    "2a23c23c02344b3b84096292de99993b": {
     "model_module": "@jupyter-widgets/controls",
     "model_module_version": "1.5.0",
     "model_name": "HTMLModel",
     "state": {
      "_dom_classes": [],
      "_model_module": "@jupyter-widgets/controls",
      "_model_module_version": "1.5.0",
      "_model_name": "HTMLModel",
      "_view_count": null,
      "_view_module": "@jupyter-widgets/controls",
      "_view_module_version": "1.5.0",
      "_view_name": "HTMLView",
      "description": "",
      "description_tooltip": null,
      "layout": "IPY_MODEL_1a7af0cad2704dceaaeaef6b13398e4a",
      "placeholder": "​",
      "style": "IPY_MODEL_00ac2cc9030c41a09a6476f18f046383",
      "value": "Downloading (…)solve/main/vocab.txt: 100%"
     }
    },
    "2ff8177d551c4efb9bf39180192443d3": {
     "model_module": "@jupyter-widgets/base",
     "model_module_version": "1.2.0",
     "model_name": "LayoutModel",
     "state": {
      "_model_module": "@jupyter-widgets/base",
      "_model_module_version": "1.2.0",
      "_model_name": "LayoutModel",
      "_view_count": null,
      "_view_module": "@jupyter-widgets/base",
      "_view_module_version": "1.2.0",
      "_view_name": "LayoutView",
      "align_content": null,
      "align_items": null,
      "align_self": null,
      "border": null,
      "bottom": null,
      "display": null,
      "flex": null,
      "flex_flow": null,
      "grid_area": null,
      "grid_auto_columns": null,
      "grid_auto_flow": null,
      "grid_auto_rows": null,
      "grid_column": null,
      "grid_gap": null,
      "grid_row": null,
      "grid_template_areas": null,
      "grid_template_columns": null,
      "grid_template_rows": null,
      "height": null,
      "justify_content": null,
      "justify_items": null,
      "left": null,
      "margin": null,
      "max_height": null,
      "max_width": null,
      "min_height": null,
      "min_width": null,
      "object_fit": null,
      "object_position": null,
      "order": null,
      "overflow": null,
      "overflow_x": null,
      "overflow_y": null,
      "padding": null,
      "right": null,
      "top": null,
      "visibility": null,
      "width": null
     }
    },
    "313cc4dc6d2a48a4aa92ddc9747e173f": {
     "model_module": "@jupyter-widgets/base",
     "model_module_version": "1.2.0",
     "model_name": "LayoutModel",
     "state": {
      "_model_module": "@jupyter-widgets/base",
      "_model_module_version": "1.2.0",
      "_model_name": "LayoutModel",
      "_view_count": null,
      "_view_module": "@jupyter-widgets/base",
      "_view_module_version": "1.2.0",
      "_view_name": "LayoutView",
      "align_content": null,
      "align_items": null,
      "align_self": null,
      "border": null,
      "bottom": null,
      "display": null,
      "flex": null,
      "flex_flow": null,
      "grid_area": null,
      "grid_auto_columns": null,
      "grid_auto_flow": null,
      "grid_auto_rows": null,
      "grid_column": null,
      "grid_gap": null,
      "grid_row": null,
      "grid_template_areas": null,
      "grid_template_columns": null,
      "grid_template_rows": null,
      "height": null,
      "justify_content": null,
      "justify_items": null,
      "left": null,
      "margin": null,
      "max_height": null,
      "max_width": null,
      "min_height": null,
      "min_width": null,
      "object_fit": null,
      "object_position": null,
      "order": null,
      "overflow": null,
      "overflow_x": null,
      "overflow_y": null,
      "padding": null,
      "right": null,
      "top": null,
      "visibility": null,
      "width": null
     }
    },
    "31df27ce6349490f9c36957dc1b6a49f": {
     "model_module": "@jupyter-widgets/base",
     "model_module_version": "1.2.0",
     "model_name": "LayoutModel",
     "state": {
      "_model_module": "@jupyter-widgets/base",
      "_model_module_version": "1.2.0",
      "_model_name": "LayoutModel",
      "_view_count": null,
      "_view_module": "@jupyter-widgets/base",
      "_view_module_version": "1.2.0",
      "_view_name": "LayoutView",
      "align_content": null,
      "align_items": null,
      "align_self": null,
      "border": null,
      "bottom": null,
      "display": null,
      "flex": null,
      "flex_flow": null,
      "grid_area": null,
      "grid_auto_columns": null,
      "grid_auto_flow": null,
      "grid_auto_rows": null,
      "grid_column": null,
      "grid_gap": null,
      "grid_row": null,
      "grid_template_areas": null,
      "grid_template_columns": null,
      "grid_template_rows": null,
      "height": null,
      "justify_content": null,
      "justify_items": null,
      "left": null,
      "margin": null,
      "max_height": null,
      "max_width": null,
      "min_height": null,
      "min_width": null,
      "object_fit": null,
      "object_position": null,
      "order": null,
      "overflow": null,
      "overflow_x": null,
      "overflow_y": null,
      "padding": null,
      "right": null,
      "top": null,
      "visibility": null,
      "width": null
     }
    },
    "33890d6cb62b44a48a578139103bedec": {
     "model_module": "@jupyter-widgets/controls",
     "model_module_version": "1.5.0",
     "model_name": "DescriptionStyleModel",
     "state": {
      "_model_module": "@jupyter-widgets/controls",
      "_model_module_version": "1.5.0",
      "_model_name": "DescriptionStyleModel",
      "_view_count": null,
      "_view_module": "@jupyter-widgets/base",
      "_view_module_version": "1.2.0",
      "_view_name": "StyleView",
      "description_width": ""
     }
    },
    "38df76cbfa6444c693e60fda25a6a1a5": {
     "model_module": "@jupyter-widgets/controls",
     "model_module_version": "1.5.0",
     "model_name": "DescriptionStyleModel",
     "state": {
      "_model_module": "@jupyter-widgets/controls",
      "_model_module_version": "1.5.0",
      "_model_name": "DescriptionStyleModel",
      "_view_count": null,
      "_view_module": "@jupyter-widgets/base",
      "_view_module_version": "1.2.0",
      "_view_name": "StyleView",
      "description_width": ""
     }
    },
    "3b5883829e4b4455928780b67e352e55": {
     "model_module": "@jupyter-widgets/base",
     "model_module_version": "1.2.0",
     "model_name": "LayoutModel",
     "state": {
      "_model_module": "@jupyter-widgets/base",
      "_model_module_version": "1.2.0",
      "_model_name": "LayoutModel",
      "_view_count": null,
      "_view_module": "@jupyter-widgets/base",
      "_view_module_version": "1.2.0",
      "_view_name": "LayoutView",
      "align_content": null,
      "align_items": null,
      "align_self": null,
      "border": null,
      "bottom": null,
      "display": null,
      "flex": null,
      "flex_flow": null,
      "grid_area": null,
      "grid_auto_columns": null,
      "grid_auto_flow": null,
      "grid_auto_rows": null,
      "grid_column": null,
      "grid_gap": null,
      "grid_row": null,
      "grid_template_areas": null,
      "grid_template_columns": null,
      "grid_template_rows": null,
      "height": null,
      "justify_content": null,
      "justify_items": null,
      "left": null,
      "margin": null,
      "max_height": null,
      "max_width": null,
      "min_height": null,
      "min_width": null,
      "object_fit": null,
      "object_position": null,
      "order": null,
      "overflow": null,
      "overflow_x": null,
      "overflow_y": null,
      "padding": null,
      "right": null,
      "top": null,
      "visibility": null,
      "width": null
     }
    },
    "439595fb9c634f8e94174231dd41a763": {
     "model_module": "@jupyter-widgets/controls",
     "model_module_version": "1.5.0",
     "model_name": "HTMLModel",
     "state": {
      "_dom_classes": [],
      "_model_module": "@jupyter-widgets/controls",
      "_model_module_version": "1.5.0",
      "_model_name": "HTMLModel",
      "_view_count": null,
      "_view_module": "@jupyter-widgets/controls",
      "_view_module_version": "1.5.0",
      "_view_name": "HTMLView",
      "description": "",
      "description_tooltip": null,
      "layout": "IPY_MODEL_bc9865fa78d342cea0e2205a17792b39",
      "placeholder": "​",
      "style": "IPY_MODEL_edba7aabe7124a26ac1894800444663b",
      "value": "Downloading (…)cial_tokens_map.json: 100%"
     }
    },
    "47e6f61de0484cfd80d83c0262c50d26": {
     "model_module": "@jupyter-widgets/controls",
     "model_module_version": "1.5.0",
     "model_name": "DescriptionStyleModel",
     "state": {
      "_model_module": "@jupyter-widgets/controls",
      "_model_module_version": "1.5.0",
      "_model_name": "DescriptionStyleModel",
      "_view_count": null,
      "_view_module": "@jupyter-widgets/base",
      "_view_module_version": "1.2.0",
      "_view_name": "StyleView",
      "description_width": ""
     }
    },
    "4cc97337b379452d80c7e788675a7c1e": {
     "model_module": "@jupyter-widgets/controls",
     "model_module_version": "1.5.0",
     "model_name": "FloatProgressModel",
     "state": {
      "_dom_classes": [],
      "_model_module": "@jupyter-widgets/controls",
      "_model_module_version": "1.5.0",
      "_model_name": "FloatProgressModel",
      "_view_count": null,
      "_view_module": "@jupyter-widgets/controls",
      "_view_module_version": "1.5.0",
      "_view_name": "ProgressView",
      "bar_style": "success",
      "description": "",
      "description_tooltip": null,
      "layout": "IPY_MODEL_31df27ce6349490f9c36957dc1b6a49f",
      "max": 537,
      "min": 0,
      "orientation": "horizontal",
      "style": "IPY_MODEL_6d9669dbbdaf4f1bbb3bfa656dbeb0b4",
      "value": 537
     }
    },
    "4e6bfe8b9bd54562b8cf0b0cbad6f6cf": {
     "model_module": "@jupyter-widgets/controls",
     "model_module_version": "1.5.0",
     "model_name": "FloatProgressModel",
     "state": {
      "_dom_classes": [],
      "_model_module": "@jupyter-widgets/controls",
      "_model_module_version": "1.5.0",
      "_model_name": "FloatProgressModel",
      "_view_count": null,
      "_view_module": "@jupyter-widgets/controls",
      "_view_module_version": "1.5.0",
      "_view_name": "ProgressView",
      "bar_style": "success",
      "description": "",
      "description_tooltip": null,
      "layout": "IPY_MODEL_2ff8177d551c4efb9bf39180192443d3",
      "max": 112,
      "min": 0,
      "orientation": "horizontal",
      "style": "IPY_MODEL_134e632f565a4a84834b6ad7818be904",
      "value": 112
     }
    },
    "4f27724c2e924641804e9d37a225c633": {
     "model_module": "@jupyter-widgets/base",
     "model_module_version": "1.2.0",
     "model_name": "LayoutModel",
     "state": {
      "_model_module": "@jupyter-widgets/base",
      "_model_module_version": "1.2.0",
      "_model_name": "LayoutModel",
      "_view_count": null,
      "_view_module": "@jupyter-widgets/base",
      "_view_module_version": "1.2.0",
      "_view_name": "LayoutView",
      "align_content": null,
      "align_items": null,
      "align_self": null,
      "border": null,
      "bottom": null,
      "display": null,
      "flex": null,
      "flex_flow": null,
      "grid_area": null,
      "grid_auto_columns": null,
      "grid_auto_flow": null,
      "grid_auto_rows": null,
      "grid_column": null,
      "grid_gap": null,
      "grid_row": null,
      "grid_template_areas": null,
      "grid_template_columns": null,
      "grid_template_rows": null,
      "height": null,
      "justify_content": null,
      "justify_items": null,
      "left": null,
      "margin": null,
      "max_height": null,
      "max_width": null,
      "min_height": null,
      "min_width": null,
      "object_fit": null,
      "object_position": null,
      "order": null,
      "overflow": null,
      "overflow_x": null,
      "overflow_y": null,
      "padding": null,
      "right": null,
      "top": null,
      "visibility": null,
      "width": null
     }
    },
    "5501908bf0874680b61721d69c38c18a": {
     "model_module": "@jupyter-widgets/controls",
     "model_module_version": "1.5.0",
     "model_name": "DescriptionStyleModel",
     "state": {
      "_model_module": "@jupyter-widgets/controls",
      "_model_module_version": "1.5.0",
      "_model_name": "DescriptionStyleModel",
      "_view_count": null,
      "_view_module": "@jupyter-widgets/base",
      "_view_module_version": "1.2.0",
      "_view_name": "StyleView",
      "description_width": ""
     }
    },
    "59d94ad52dd14c5c9d7582c7744d6828": {
     "model_module": "@jupyter-widgets/controls",
     "model_module_version": "1.5.0",
     "model_name": "ProgressStyleModel",
     "state": {
      "_model_module": "@jupyter-widgets/controls",
      "_model_module_version": "1.5.0",
      "_model_name": "ProgressStyleModel",
      "_view_count": null,
      "_view_module": "@jupyter-widgets/base",
      "_view_module_version": "1.2.0",
      "_view_name": "StyleView",
      "bar_color": null,
      "description_width": ""
     }
    },
    "6a554c7044da477f994d898355eeec7b": {
     "model_module": "@jupyter-widgets/controls",
     "model_module_version": "1.5.0",
     "model_name": "HTMLModel",
     "state": {
      "_dom_classes": [],
      "_model_module": "@jupyter-widgets/controls",
      "_model_module_version": "1.5.0",
      "_model_name": "HTMLModel",
      "_view_count": null,
      "_view_module": "@jupyter-widgets/controls",
      "_view_module_version": "1.5.0",
      "_view_name": "HTMLView",
      "description": "",
      "description_tooltip": null,
      "layout": "IPY_MODEL_98ed9f3d77e4409d9547a1d0f72e5507",
      "placeholder": "​",
      "style": "IPY_MODEL_c1acb533b9104b9f87866b74313abd6d",
      "value": " 112/112 [00:00&lt;00:00, 4.88kB/s]"
     }
    },
    "6d9669dbbdaf4f1bbb3bfa656dbeb0b4": {
     "model_module": "@jupyter-widgets/controls",
     "model_module_version": "1.5.0",
     "model_name": "ProgressStyleModel",
     "state": {
      "_model_module": "@jupyter-widgets/controls",
      "_model_module_version": "1.5.0",
      "_model_name": "ProgressStyleModel",
      "_view_count": null,
      "_view_module": "@jupyter-widgets/base",
      "_view_module_version": "1.2.0",
      "_view_name": "StyleView",
      "bar_color": null,
      "description_width": ""
     }
    },
    "737208efd38a42efb85fbd2b1a1c18c9": {
     "model_module": "@jupyter-widgets/base",
     "model_module_version": "1.2.0",
     "model_name": "LayoutModel",
     "state": {
      "_model_module": "@jupyter-widgets/base",
      "_model_module_version": "1.2.0",
      "_model_name": "LayoutModel",
      "_view_count": null,
      "_view_module": "@jupyter-widgets/base",
      "_view_module_version": "1.2.0",
      "_view_name": "LayoutView",
      "align_content": null,
      "align_items": null,
      "align_self": null,
      "border": null,
      "bottom": null,
      "display": null,
      "flex": null,
      "flex_flow": null,
      "grid_area": null,
      "grid_auto_columns": null,
      "grid_auto_flow": null,
      "grid_auto_rows": null,
      "grid_column": null,
      "grid_gap": null,
      "grid_row": null,
      "grid_template_areas": null,
      "grid_template_columns": null,
      "grid_template_rows": null,
      "height": null,
      "justify_content": null,
      "justify_items": null,
      "left": null,
      "margin": null,
      "max_height": null,
      "max_width": null,
      "min_height": null,
      "min_width": null,
      "object_fit": null,
      "object_position": null,
      "order": null,
      "overflow": null,
      "overflow_x": null,
      "overflow_y": null,
      "padding": null,
      "right": null,
      "top": null,
      "visibility": null,
      "width": null
     }
    },
    "82ef72704d164bf09e3c86397bf4080b": {
     "model_module": "@jupyter-widgets/base",
     "model_module_version": "1.2.0",
     "model_name": "LayoutModel",
     "state": {
      "_model_module": "@jupyter-widgets/base",
      "_model_module_version": "1.2.0",
      "_model_name": "LayoutModel",
      "_view_count": null,
      "_view_module": "@jupyter-widgets/base",
      "_view_module_version": "1.2.0",
      "_view_name": "LayoutView",
      "align_content": null,
      "align_items": null,
      "align_self": null,
      "border": null,
      "bottom": null,
      "display": null,
      "flex": null,
      "flex_flow": null,
      "grid_area": null,
      "grid_auto_columns": null,
      "grid_auto_flow": null,
      "grid_auto_rows": null,
      "grid_column": null,
      "grid_gap": null,
      "grid_row": null,
      "grid_template_areas": null,
      "grid_template_columns": null,
      "grid_template_rows": null,
      "height": null,
      "justify_content": null,
      "justify_items": null,
      "left": null,
      "margin": null,
      "max_height": null,
      "max_width": null,
      "min_height": null,
      "min_width": null,
      "object_fit": null,
      "object_position": null,
      "order": null,
      "overflow": null,
      "overflow_x": null,
      "overflow_y": null,
      "padding": null,
      "right": null,
      "top": null,
      "visibility": null,
      "width": null
     }
    },
    "835f5de2593843e79a1da209d986883a": {
     "model_module": "@jupyter-widgets/base",
     "model_module_version": "1.2.0",
     "model_name": "LayoutModel",
     "state": {
      "_model_module": "@jupyter-widgets/base",
      "_model_module_version": "1.2.0",
      "_model_name": "LayoutModel",
      "_view_count": null,
      "_view_module": "@jupyter-widgets/base",
      "_view_module_version": "1.2.0",
      "_view_name": "LayoutView",
      "align_content": null,
      "align_items": null,
      "align_self": null,
      "border": null,
      "bottom": null,
      "display": null,
      "flex": null,
      "flex_flow": null,
      "grid_area": null,
      "grid_auto_columns": null,
      "grid_auto_flow": null,
      "grid_auto_rows": null,
      "grid_column": null,
      "grid_gap": null,
      "grid_row": null,
      "grid_template_areas": null,
      "grid_template_columns": null,
      "grid_template_rows": null,
      "height": null,
      "justify_content": null,
      "justify_items": null,
      "left": null,
      "margin": null,
      "max_height": null,
      "max_width": null,
      "min_height": null,
      "min_width": null,
      "object_fit": null,
      "object_position": null,
      "order": null,
      "overflow": null,
      "overflow_x": null,
      "overflow_y": null,
      "padding": null,
      "right": null,
      "top": null,
      "visibility": null,
      "width": null
     }
    },
    "847e0a19b9654e2798955b821ec3ad83": {
     "model_module": "@jupyter-widgets/controls",
     "model_module_version": "1.5.0",
     "model_name": "FloatProgressModel",
     "state": {
      "_dom_classes": [],
      "_model_module": "@jupyter-widgets/controls",
      "_model_module_version": "1.5.0",
      "_model_name": "FloatProgressModel",
      "_view_count": null,
      "_view_module": "@jupyter-widgets/controls",
      "_view_module_version": "1.5.0",
      "_view_name": "ProgressView",
      "bar_style": "success",
      "description": "",
      "description_tooltip": null,
      "layout": "IPY_MODEL_f465cd0dfe2a4d3fa23b41a87e86973f",
      "max": 231508,
      "min": 0,
      "orientation": "horizontal",
      "style": "IPY_MODEL_198fd033ef9c4059940a1e0fefefeba5",
      "value": 231508
     }
    },
    "98ed9f3d77e4409d9547a1d0f72e5507": {
     "model_module": "@jupyter-widgets/base",
     "model_module_version": "1.2.0",
     "model_name": "LayoutModel",
     "state": {
      "_model_module": "@jupyter-widgets/base",
      "_model_module_version": "1.2.0",
      "_model_name": "LayoutModel",
      "_view_count": null,
      "_view_module": "@jupyter-widgets/base",
      "_view_module_version": "1.2.0",
      "_view_name": "LayoutView",
      "align_content": null,
      "align_items": null,
      "align_self": null,
      "border": null,
      "bottom": null,
      "display": null,
      "flex": null,
      "flex_flow": null,
      "grid_area": null,
      "grid_auto_columns": null,
      "grid_auto_flow": null,
      "grid_auto_rows": null,
      "grid_column": null,
      "grid_gap": null,
      "grid_row": null,
      "grid_template_areas": null,
      "grid_template_columns": null,
      "grid_template_rows": null,
      "height": null,
      "justify_content": null,
      "justify_items": null,
      "left": null,
      "margin": null,
      "max_height": null,
      "max_width": null,
      "min_height": null,
      "min_width": null,
      "object_fit": null,
      "object_position": null,
      "order": null,
      "overflow": null,
      "overflow_x": null,
      "overflow_y": null,
      "padding": null,
      "right": null,
      "top": null,
      "visibility": null,
      "width": null
     }
    },
    "ac931931570149cb8496a41b8862b1dd": {
     "model_module": "@jupyter-widgets/controls",
     "model_module_version": "1.5.0",
     "model_name": "DescriptionStyleModel",
     "state": {
      "_model_module": "@jupyter-widgets/controls",
      "_model_module_version": "1.5.0",
      "_model_name": "DescriptionStyleModel",
      "_view_count": null,
      "_view_module": "@jupyter-widgets/base",
      "_view_module_version": "1.2.0",
      "_view_name": "StyleView",
      "description_width": ""
     }
    },
    "ad99f559d09740f1884697148df99cdf": {
     "model_module": "@jupyter-widgets/controls",
     "model_module_version": "1.5.0",
     "model_name": "HTMLModel",
     "state": {
      "_dom_classes": [],
      "_model_module": "@jupyter-widgets/controls",
      "_model_module_version": "1.5.0",
      "_model_name": "HTMLModel",
      "_view_count": null,
      "_view_module": "@jupyter-widgets/controls",
      "_view_module_version": "1.5.0",
      "_view_name": "HTMLView",
      "description": "",
      "description_tooltip": null,
      "layout": "IPY_MODEL_737208efd38a42efb85fbd2b1a1c18c9",
      "placeholder": "​",
      "style": "IPY_MODEL_5501908bf0874680b61721d69c38c18a",
      "value": " 306/306 [00:00&lt;00:00, 15.2kB/s]"
     }
    },
    "b79ef5d0da3c49d68a8d886765d8e617": {
     "model_module": "@jupyter-widgets/controls",
     "model_module_version": "1.5.0",
     "model_name": "HBoxModel",
     "state": {
      "_dom_classes": [],
      "_model_module": "@jupyter-widgets/controls",
      "_model_module_version": "1.5.0",
      "_model_name": "HBoxModel",
      "_view_count": null,
      "_view_module": "@jupyter-widgets/controls",
      "_view_module_version": "1.5.0",
      "_view_name": "HBoxView",
      "box_style": "",
      "children": [
       "IPY_MODEL_2a23c23c02344b3b84096292de99993b",
       "IPY_MODEL_847e0a19b9654e2798955b821ec3ad83",
       "IPY_MODEL_04a32cb89dac40a4953a15cab9a6a995"
      ],
      "layout": "IPY_MODEL_4f27724c2e924641804e9d37a225c633"
     }
    },
    "b7c9f4cca4e54573b94f00af320fa97c": {
     "model_module": "@jupyter-widgets/controls",
     "model_module_version": "1.5.0",
     "model_name": "HBoxModel",
     "state": {
      "_dom_classes": [],
      "_model_module": "@jupyter-widgets/controls",
      "_model_module_version": "1.5.0",
      "_model_name": "HBoxModel",
      "_view_count": null,
      "_view_module": "@jupyter-widgets/controls",
      "_view_module_version": "1.5.0",
      "_view_name": "HBoxView",
      "box_style": "",
      "children": [
       "IPY_MODEL_439595fb9c634f8e94174231dd41a763",
       "IPY_MODEL_4e6bfe8b9bd54562b8cf0b0cbad6f6cf",
       "IPY_MODEL_6a554c7044da477f994d898355eeec7b"
      ],
      "layout": "IPY_MODEL_ef3e2552c4644d2e917910230db1cb8f"
     }
    },
    "ba9475ec7f7c44b58fe0ed7c681d5c78": {
     "model_module": "@jupyter-widgets/controls",
     "model_module_version": "1.5.0",
     "model_name": "DescriptionStyleModel",
     "state": {
      "_model_module": "@jupyter-widgets/controls",
      "_model_module_version": "1.5.0",
      "_model_name": "DescriptionStyleModel",
      "_view_count": null,
      "_view_module": "@jupyter-widgets/base",
      "_view_module_version": "1.2.0",
      "_view_name": "StyleView",
      "description_width": ""
     }
    },
    "bc9865fa78d342cea0e2205a17792b39": {
     "model_module": "@jupyter-widgets/base",
     "model_module_version": "1.2.0",
     "model_name": "LayoutModel",
     "state": {
      "_model_module": "@jupyter-widgets/base",
      "_model_module_version": "1.2.0",
      "_model_name": "LayoutModel",
      "_view_count": null,
      "_view_module": "@jupyter-widgets/base",
      "_view_module_version": "1.2.0",
      "_view_name": "LayoutView",
      "align_content": null,
      "align_items": null,
      "align_self": null,
      "border": null,
      "bottom": null,
      "display": null,
      "flex": null,
      "flex_flow": null,
      "grid_area": null,
      "grid_auto_columns": null,
      "grid_auto_flow": null,
      "grid_auto_rows": null,
      "grid_column": null,
      "grid_gap": null,
      "grid_row": null,
      "grid_template_areas": null,
      "grid_template_columns": null,
      "grid_template_rows": null,
      "height": null,
      "justify_content": null,
      "justify_items": null,
      "left": null,
      "margin": null,
      "max_height": null,
      "max_width": null,
      "min_height": null,
      "min_width": null,
      "object_fit": null,
      "object_position": null,
      "order": null,
      "overflow": null,
      "overflow_x": null,
      "overflow_y": null,
      "padding": null,
      "right": null,
      "top": null,
      "visibility": null,
      "width": null
     }
    },
    "c1acb533b9104b9f87866b74313abd6d": {
     "model_module": "@jupyter-widgets/controls",
     "model_module_version": "1.5.0",
     "model_name": "DescriptionStyleModel",
     "state": {
      "_model_module": "@jupyter-widgets/controls",
      "_model_module_version": "1.5.0",
      "_model_name": "DescriptionStyleModel",
      "_view_count": null,
      "_view_module": "@jupyter-widgets/base",
      "_view_module_version": "1.2.0",
      "_view_name": "StyleView",
      "description_width": ""
     }
    },
    "c7c2acd04e7446e3ba7eaf3ec6178088": {
     "model_module": "@jupyter-widgets/controls",
     "model_module_version": "1.5.0",
     "model_name": "HTMLModel",
     "state": {
      "_dom_classes": [],
      "_model_module": "@jupyter-widgets/controls",
      "_model_module_version": "1.5.0",
      "_model_name": "HTMLModel",
      "_view_count": null,
      "_view_module": "@jupyter-widgets/controls",
      "_view_module_version": "1.5.0",
      "_view_name": "HTMLView",
      "description": "",
      "description_tooltip": null,
      "layout": "IPY_MODEL_c9e10da519cf458f8fe8e6cd1e3c2b7c",
      "placeholder": "​",
      "style": "IPY_MODEL_33890d6cb62b44a48a578139103bedec",
      "value": "Downloading (…)okenizer_config.json: 100%"
     }
    },
    "c9e10da519cf458f8fe8e6cd1e3c2b7c": {
     "model_module": "@jupyter-widgets/base",
     "model_module_version": "1.2.0",
     "model_name": "LayoutModel",
     "state": {
      "_model_module": "@jupyter-widgets/base",
      "_model_module_version": "1.2.0",
      "_model_name": "LayoutModel",
      "_view_count": null,
      "_view_module": "@jupyter-widgets/base",
      "_view_module_version": "1.2.0",
      "_view_name": "LayoutView",
      "align_content": null,
      "align_items": null,
      "align_self": null,
      "border": null,
      "bottom": null,
      "display": null,
      "flex": null,
      "flex_flow": null,
      "grid_area": null,
      "grid_auto_columns": null,
      "grid_auto_flow": null,
      "grid_auto_rows": null,
      "grid_column": null,
      "grid_gap": null,
      "grid_row": null,
      "grid_template_areas": null,
      "grid_template_columns": null,
      "grid_template_rows": null,
      "height": null,
      "justify_content": null,
      "justify_items": null,
      "left": null,
      "margin": null,
      "max_height": null,
      "max_width": null,
      "min_height": null,
      "min_width": null,
      "object_fit": null,
      "object_position": null,
      "order": null,
      "overflow": null,
      "overflow_x": null,
      "overflow_y": null,
      "padding": null,
      "right": null,
      "top": null,
      "visibility": null,
      "width": null
     }
    },
    "ca76a845810f4f43982d4b17db0ae3ed": {
     "model_module": "@jupyter-widgets/base",
     "model_module_version": "1.2.0",
     "model_name": "LayoutModel",
     "state": {
      "_model_module": "@jupyter-widgets/base",
      "_model_module_version": "1.2.0",
      "_model_name": "LayoutModel",
      "_view_count": null,
      "_view_module": "@jupyter-widgets/base",
      "_view_module_version": "1.2.0",
      "_view_name": "LayoutView",
      "align_content": null,
      "align_items": null,
      "align_self": null,
      "border": null,
      "bottom": null,
      "display": null,
      "flex": null,
      "flex_flow": null,
      "grid_area": null,
      "grid_auto_columns": null,
      "grid_auto_flow": null,
      "grid_auto_rows": null,
      "grid_column": null,
      "grid_gap": null,
      "grid_row": null,
      "grid_template_areas": null,
      "grid_template_columns": null,
      "grid_template_rows": null,
      "height": null,
      "justify_content": null,
      "justify_items": null,
      "left": null,
      "margin": null,
      "max_height": null,
      "max_width": null,
      "min_height": null,
      "min_width": null,
      "object_fit": null,
      "object_position": null,
      "order": null,
      "overflow": null,
      "overflow_x": null,
      "overflow_y": null,
      "padding": null,
      "right": null,
      "top": null,
      "visibility": null,
      "width": null
     }
    },
    "cd0622f00a624894aba417351ff0bd11": {
     "model_module": "@jupyter-widgets/controls",
     "model_module_version": "1.5.0",
     "model_name": "HTMLModel",
     "state": {
      "_dom_classes": [],
      "_model_module": "@jupyter-widgets/controls",
      "_model_module_version": "1.5.0",
      "_model_name": "HTMLModel",
      "_view_count": null,
      "_view_module": "@jupyter-widgets/controls",
      "_view_module_version": "1.5.0",
      "_view_name": "HTMLView",
      "description": "",
      "description_tooltip": null,
      "layout": "IPY_MODEL_ca76a845810f4f43982d4b17db0ae3ed",
      "placeholder": "​",
      "style": "IPY_MODEL_ba9475ec7f7c44b58fe0ed7c681d5c78",
      "value": "Downloading pytorch_model.bin: 100%"
     }
    },
    "cfe4c5424c0f40a7b3eb9ea91233192e": {
     "model_module": "@jupyter-widgets/controls",
     "model_module_version": "1.5.0",
     "model_name": "DescriptionStyleModel",
     "state": {
      "_model_module": "@jupyter-widgets/controls",
      "_model_module_version": "1.5.0",
      "_model_name": "DescriptionStyleModel",
      "_view_count": null,
      "_view_module": "@jupyter-widgets/base",
      "_view_module_version": "1.2.0",
      "_view_name": "StyleView",
      "description_width": ""
     }
    },
    "d08d6c937a644f4aaead9437b00441b0": {
     "model_module": "@jupyter-widgets/controls",
     "model_module_version": "1.5.0",
     "model_name": "HTMLModel",
     "state": {
      "_dom_classes": [],
      "_model_module": "@jupyter-widgets/controls",
      "_model_module_version": "1.5.0",
      "_model_name": "HTMLModel",
      "_view_count": null,
      "_view_module": "@jupyter-widgets/controls",
      "_view_module_version": "1.5.0",
      "_view_name": "HTMLView",
      "description": "",
      "description_tooltip": null,
      "layout": "IPY_MODEL_835f5de2593843e79a1da209d986883a",
      "placeholder": "​",
      "style": "IPY_MODEL_ac931931570149cb8496a41b8862b1dd",
      "value": " 268M/268M [00:12&lt;00:00, 23.4MB/s]"
     }
    },
    "d8eae59319774acc83b519af7b1ebfc9": {
     "model_module": "@jupyter-widgets/controls",
     "model_module_version": "1.5.0",
     "model_name": "HTMLModel",
     "state": {
      "_dom_classes": [],
      "_model_module": "@jupyter-widgets/controls",
      "_model_module_version": "1.5.0",
      "_model_name": "HTMLModel",
      "_view_count": null,
      "_view_module": "@jupyter-widgets/controls",
      "_view_module_version": "1.5.0",
      "_view_name": "HTMLView",
      "description": "",
      "description_tooltip": null,
      "layout": "IPY_MODEL_3b5883829e4b4455928780b67e352e55",
      "placeholder": "​",
      "style": "IPY_MODEL_38df76cbfa6444c693e60fda25a6a1a5",
      "value": "Downloading (…)lve/main/config.json: 100%"
     }
    },
    "de9b8e54b6184e2e9268978f082ce143": {
     "model_module": "@jupyter-widgets/controls",
     "model_module_version": "1.5.0",
     "model_name": "HBoxModel",
     "state": {
      "_dom_classes": [],
      "_model_module": "@jupyter-widgets/controls",
      "_model_module_version": "1.5.0",
      "_model_name": "HBoxModel",
      "_view_count": null,
      "_view_module": "@jupyter-widgets/controls",
      "_view_module_version": "1.5.0",
      "_view_name": "HBoxView",
      "box_style": "",
      "children": [
       "IPY_MODEL_cd0622f00a624894aba417351ff0bd11",
       "IPY_MODEL_2189da48fdba4b64b9509ffa29f0303c",
       "IPY_MODEL_d08d6c937a644f4aaead9437b00441b0"
      ],
      "layout": "IPY_MODEL_1408497046af41c9a445802b996b906b"
     }
    },
    "edba7aabe7124a26ac1894800444663b": {
     "model_module": "@jupyter-widgets/controls",
     "model_module_version": "1.5.0",
     "model_name": "DescriptionStyleModel",
     "state": {
      "_model_module": "@jupyter-widgets/controls",
      "_model_module_version": "1.5.0",
      "_model_name": "DescriptionStyleModel",
      "_view_count": null,
      "_view_module": "@jupyter-widgets/base",
      "_view_module_version": "1.2.0",
      "_view_name": "StyleView",
      "description_width": ""
     }
    },
    "ee008249fb5b4ce7b9342fecd04627ee": {
     "model_module": "@jupyter-widgets/controls",
     "model_module_version": "1.5.0",
     "model_name": "HBoxModel",
     "state": {
      "_dom_classes": [],
      "_model_module": "@jupyter-widgets/controls",
      "_model_module_version": "1.5.0",
      "_model_name": "HBoxModel",
      "_view_count": null,
      "_view_module": "@jupyter-widgets/controls",
      "_view_module_version": "1.5.0",
      "_view_name": "HBoxView",
      "box_style": "",
      "children": [
       "IPY_MODEL_d8eae59319774acc83b519af7b1ebfc9",
       "IPY_MODEL_4cc97337b379452d80c7e788675a7c1e",
       "IPY_MODEL_f93cc9bf3c5947a6b94a2a3a967457f6"
      ],
      "layout": "IPY_MODEL_0971a28c57fe44faa111b5e18b2fb311"
     }
    },
    "ef3e2552c4644d2e917910230db1cb8f": {
     "model_module": "@jupyter-widgets/base",
     "model_module_version": "1.2.0",
     "model_name": "LayoutModel",
     "state": {
      "_model_module": "@jupyter-widgets/base",
      "_model_module_version": "1.2.0",
      "_model_name": "LayoutModel",
      "_view_count": null,
      "_view_module": "@jupyter-widgets/base",
      "_view_module_version": "1.2.0",
      "_view_name": "LayoutView",
      "align_content": null,
      "align_items": null,
      "align_self": null,
      "border": null,
      "bottom": null,
      "display": null,
      "flex": null,
      "flex_flow": null,
      "grid_area": null,
      "grid_auto_columns": null,
      "grid_auto_flow": null,
      "grid_auto_rows": null,
      "grid_column": null,
      "grid_gap": null,
      "grid_row": null,
      "grid_template_areas": null,
      "grid_template_columns": null,
      "grid_template_rows": null,
      "height": null,
      "justify_content": null,
      "justify_items": null,
      "left": null,
      "margin": null,
      "max_height": null,
      "max_width": null,
      "min_height": null,
      "min_width": null,
      "object_fit": null,
      "object_position": null,
      "order": null,
      "overflow": null,
      "overflow_x": null,
      "overflow_y": null,
      "padding": null,
      "right": null,
      "top": null,
      "visibility": null,
      "width": null
     }
    },
    "f0ae968d37e047aba709ccd31671d753": {
     "model_module": "@jupyter-widgets/base",
     "model_module_version": "1.2.0",
     "model_name": "LayoutModel",
     "state": {
      "_model_module": "@jupyter-widgets/base",
      "_model_module_version": "1.2.0",
      "_model_name": "LayoutModel",
      "_view_count": null,
      "_view_module": "@jupyter-widgets/base",
      "_view_module_version": "1.2.0",
      "_view_name": "LayoutView",
      "align_content": null,
      "align_items": null,
      "align_self": null,
      "border": null,
      "bottom": null,
      "display": null,
      "flex": null,
      "flex_flow": null,
      "grid_area": null,
      "grid_auto_columns": null,
      "grid_auto_flow": null,
      "grid_auto_rows": null,
      "grid_column": null,
      "grid_gap": null,
      "grid_row": null,
      "grid_template_areas": null,
      "grid_template_columns": null,
      "grid_template_rows": null,
      "height": null,
      "justify_content": null,
      "justify_items": null,
      "left": null,
      "margin": null,
      "max_height": null,
      "max_width": null,
      "min_height": null,
      "min_width": null,
      "object_fit": null,
      "object_position": null,
      "order": null,
      "overflow": null,
      "overflow_x": null,
      "overflow_y": null,
      "padding": null,
      "right": null,
      "top": null,
      "visibility": null,
      "width": null
     }
    },
    "f465cd0dfe2a4d3fa23b41a87e86973f": {
     "model_module": "@jupyter-widgets/base",
     "model_module_version": "1.2.0",
     "model_name": "LayoutModel",
     "state": {
      "_model_module": "@jupyter-widgets/base",
      "_model_module_version": "1.2.0",
      "_model_name": "LayoutModel",
      "_view_count": null,
      "_view_module": "@jupyter-widgets/base",
      "_view_module_version": "1.2.0",
      "_view_name": "LayoutView",
      "align_content": null,
      "align_items": null,
      "align_self": null,
      "border": null,
      "bottom": null,
      "display": null,
      "flex": null,
      "flex_flow": null,
      "grid_area": null,
      "grid_auto_columns": null,
      "grid_auto_flow": null,
      "grid_auto_rows": null,
      "grid_column": null,
      "grid_gap": null,
      "grid_row": null,
      "grid_template_areas": null,
      "grid_template_columns": null,
      "grid_template_rows": null,
      "height": null,
      "justify_content": null,
      "justify_items": null,
      "left": null,
      "margin": null,
      "max_height": null,
      "max_width": null,
      "min_height": null,
      "min_width": null,
      "object_fit": null,
      "object_position": null,
      "order": null,
      "overflow": null,
      "overflow_x": null,
      "overflow_y": null,
      "padding": null,
      "right": null,
      "top": null,
      "visibility": null,
      "width": null
     }
    },
    "f93cc9bf3c5947a6b94a2a3a967457f6": {
     "model_module": "@jupyter-widgets/controls",
     "model_module_version": "1.5.0",
     "model_name": "HTMLModel",
     "state": {
      "_dom_classes": [],
      "_model_module": "@jupyter-widgets/controls",
      "_model_module_version": "1.5.0",
      "_model_name": "HTMLModel",
      "_view_count": null,
      "_view_module": "@jupyter-widgets/controls",
      "_view_module_version": "1.5.0",
      "_view_name": "HTMLView",
      "description": "",
      "description_tooltip": null,
      "layout": "IPY_MODEL_f0ae968d37e047aba709ccd31671d753",
      "placeholder": "​",
      "style": "IPY_MODEL_47e6f61de0484cfd80d83c0262c50d26",
      "value": " 537/537 [00:00&lt;00:00, 8.11kB/s]"
     }
    }
   }
  }
 },
 "nbformat": 4,
 "nbformat_minor": 5
}
